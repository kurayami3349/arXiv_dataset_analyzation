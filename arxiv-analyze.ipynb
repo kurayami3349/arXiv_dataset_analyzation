{
 "cells": [
  {
   "cell_type": "code",
   "execution_count": 1,
   "id": "421147ab",
   "metadata": {
    "_cell_guid": "b1076dfc-b9ad-4769-8c92-a6c4dae69d19",
    "_uuid": "8f2839f25d086af736a60e9eeb907d3b93b6e0e5",
    "execution": {
     "iopub.execute_input": "2023-12-02T14:57:48.295307Z",
     "iopub.status.busy": "2023-12-02T14:57:48.294950Z",
     "iopub.status.idle": "2023-12-02T14:57:54.054331Z",
     "shell.execute_reply": "2023-12-02T14:57:54.053378Z"
    },
    "papermill": {
     "duration": 5.771432,
     "end_time": "2023-12-02T14:57:54.056703",
     "exception": false,
     "start_time": "2023-12-02T14:57:48.285271",
     "status": "completed"
    },
    "tags": []
   },
   "outputs": [],
   "source": [
    "# This Python 3 environment comes with many helpful analytics libraries installed\n",
    "# It is defined by the kaggle/python Docker image: https://github.com/kaggle/docker-python\n",
    "# For example, here's several helpful packages to load\n",
    "\n",
    "import numpy as np # linear algebra\n",
    "import pandas as pd # data processing, CSV file I/O (e.g. pd.read_csv)\n",
    "\n",
    "# Input data files are available in the read-only \"../input/\" directory\n",
    "# For example, running this (by clicking run or pressing Shift+Enter) will list all files under the input directory\n",
    "\n",
    "import os\n",
    "import re\n",
    "import json\n",
    "import transformers\n",
    "\n",
    "import torch\n",
    "import torch.nn as nn\n",
    "import torch.optim as optim\n",
    "from torch.utils.data import Dataset, DataLoader\n",
    "import matplotlib.pyplot as plt\n",
    "%matplotlib inline"
   ]
  },
  {
   "cell_type": "code",
   "execution_count": 2,
   "id": "f0926dc9",
   "metadata": {
    "execution": {
     "iopub.execute_input": "2023-12-02T14:57:54.073862Z",
     "iopub.status.busy": "2023-12-02T14:57:54.073389Z",
     "iopub.status.idle": "2023-12-02T14:57:54.077707Z",
     "shell.execute_reply": "2023-12-02T14:57:54.076855Z"
    },
    "papermill": {
     "duration": 0.014957,
     "end_time": "2023-12-02T14:57:54.079638",
     "exception": false,
     "start_time": "2023-12-02T14:57:54.064681",
     "status": "completed"
    },
    "tags": []
   },
   "outputs": [],
   "source": [
    "\n",
    "# import json\n",
    "# data_path = \"/kaggle/input/arxiv/arxiv-metadata-oai-snapshot.json\"\n",
    "# with open(data_path) as file:\n",
    "#     lines = file.readlines()\n",
    "#     # print(lines[0])   # str形式的dict\n",
    "\n",
    "# paper_item = json.loads(lines[0])\n",
    "# for key, value in paper_item.items():\n",
    "#     print(key+\" : \", value)"
   ]
  },
  {
   "cell_type": "markdown",
   "id": "1c5c3e18",
   "metadata": {
    "papermill": {
     "duration": 0.00745,
     "end_time": "2023-12-02T14:57:54.094825",
     "exception": false,
     "start_time": "2023-12-02T14:57:54.087375",
     "status": "completed"
    },
    "tags": []
   },
   "source": [
    "# table\n",
    "id | title | authors |categories | abs | date| ...(citation)|"
   ]
  },
  {
   "cell_type": "code",
   "execution_count": 3,
   "id": "61ce99e9",
   "metadata": {
    "execution": {
     "iopub.execute_input": "2023-12-02T14:57:54.111303Z",
     "iopub.status.busy": "2023-12-02T14:57:54.110977Z",
     "iopub.status.idle": "2023-12-02T14:57:54.114977Z",
     "shell.execute_reply": "2023-12-02T14:57:54.114197Z"
    },
    "papermill": {
     "duration": 0.01449,
     "end_time": "2023-12-02T14:57:54.116836",
     "exception": false,
     "start_time": "2023-12-02T14:57:54.102346",
     "status": "completed"
    },
    "tags": []
   },
   "outputs": [],
   "source": [
    "\n",
    "# papers = []\n",
    "# for line in lines:\n",
    "#     papers.append(json.loads(line))\n",
    "# papers = pd.DataFrame(papers)\n",
    "# papers = papers.drop(columns=[\"comments\",\"journal-ref\",\"doi\",\"report-no\", \"license\"])\n",
    "# papers.head()"
   ]
  },
  {
   "cell_type": "code",
   "execution_count": 4,
   "id": "b7f98bc5",
   "metadata": {
    "execution": {
     "iopub.execute_input": "2023-12-02T14:57:54.132916Z",
     "iopub.status.busy": "2023-12-02T14:57:54.132604Z",
     "iopub.status.idle": "2023-12-02T14:57:54.136507Z",
     "shell.execute_reply": "2023-12-02T14:57:54.135830Z"
    },
    "papermill": {
     "duration": 0.014073,
     "end_time": "2023-12-02T14:57:54.138359",
     "exception": false,
     "start_time": "2023-12-02T14:57:54.124286",
     "status": "completed"
    },
    "tags": []
   },
   "outputs": [],
   "source": [
    "\n",
    "# len(papers)   # 2370685\n",
    "# import re\n",
    "# pattern = r\"(^|\\s)cs\\.\"  # 匹配 \"由cs.开头或\\space cs. \"的模式\n",
    "# matches = papers[\"categories\"].str.match(pattern, na=False)\n",
    "\n",
    "# cs_papers = papers[matches]  # len() 462764\n",
    "# cs_papers[\"categories\"].unique()"
   ]
  },
  {
   "cell_type": "code",
   "execution_count": 5,
   "id": "db2c4c52",
   "metadata": {
    "execution": {
     "iopub.execute_input": "2023-12-02T14:57:54.154590Z",
     "iopub.status.busy": "2023-12-02T14:57:54.154042Z",
     "iopub.status.idle": "2023-12-02T14:57:54.157547Z",
     "shell.execute_reply": "2023-12-02T14:57:54.156766Z"
    },
    "papermill": {
     "duration": 0.013658,
     "end_time": "2023-12-02T14:57:54.159449",
     "exception": false,
     "start_time": "2023-12-02T14:57:54.145791",
     "status": "completed"
    },
    "tags": []
   },
   "outputs": [],
   "source": [
    "# cs_papers_path = \"/kaggle/working/cs_papers.json\"\n",
    "# if not os.path.exists(cs_papers_path):\n",
    "#     cs_papers.to_json(cs_papers_path)"
   ]
  },
  {
   "cell_type": "markdown",
   "id": "bc159d23",
   "metadata": {
    "papermill": {
     "duration": 0.007411,
     "end_time": "2023-12-02T14:57:54.174448",
     "exception": false,
     "start_time": "2023-12-02T14:57:54.167037",
     "status": "completed"
    },
    "tags": []
   },
   "source": [
    "## 考虑利用title和categories训练一个多分类器\n",
    "\n",
    "### TF-IDF 表示标题特征\n",
    "(462764, 101910)\n",
    "TF-IDF生成的矩阵维数太高了，不太行。。。\n",
    "> 后期可以考虑tokenizer + embbeding 表示为向量\n",
    "\n",
    "数据分布不太平均，只含1个label的paper含2个label的paper数量的两倍，是含3个label的paper的数量的5倍。\n",
    "### 训练一个多分类器"
   ]
  },
  {
   "cell_type": "code",
   "execution_count": 6,
   "id": "4ec9931c",
   "metadata": {
    "_kg_hide-input": false,
    "execution": {
     "iopub.execute_input": "2023-12-02T14:57:54.190764Z",
     "iopub.status.busy": "2023-12-02T14:57:54.190469Z",
     "iopub.status.idle": "2023-12-02T14:57:54.194447Z",
     "shell.execute_reply": "2023-12-02T14:57:54.193625Z"
    },
    "papermill": {
     "duration": 0.014351,
     "end_time": "2023-12-02T14:57:54.196344",
     "exception": false,
     "start_time": "2023-12-02T14:57:54.181993",
     "status": "completed"
    },
    "tags": []
   },
   "outputs": [],
   "source": [
    "\n",
    "# # 需要去除categories中非cs的标签\n",
    "# # 首先将categories 字符串分割，只保留cs标签\n",
    "# # 构建 (id) tittle : [\"cs.label1\", \"cs.label2\"]\n",
    "# cs_papers_path = \"/kaggle/working/cs_papers.json\"\n",
    "# if cs_papers is None:\n",
    "#     with open(cs_papers_path, \"r\") as f:\n",
    "#         cs_papers = pd.DataFrame(json.load(f))\n",
    "        \n",
    "# for index, row in cs_papers.iterrows():\n",
    "#     words = row[\"categories\"].split()\n",
    "#     processed_words = [word for word in words if word.startswith('cs.')]\n",
    "    \n",
    "#     cs_papers.at[index, \"categories\"] = processed_words\n",
    "\n",
    "# cs_papers.head()"
   ]
  },
  {
   "cell_type": "code",
   "execution_count": 7,
   "id": "f67f4d57",
   "metadata": {
    "execution": {
     "iopub.execute_input": "2023-12-02T14:57:54.212431Z",
     "iopub.status.busy": "2023-12-02T14:57:54.212181Z",
     "iopub.status.idle": "2023-12-02T14:57:54.215600Z",
     "shell.execute_reply": "2023-12-02T14:57:54.214835Z"
    },
    "papermill": {
     "duration": 0.013712,
     "end_time": "2023-12-02T14:57:54.217508",
     "exception": false,
     "start_time": "2023-12-02T14:57:54.203796",
     "status": "completed"
    },
    "tags": []
   },
   "outputs": [],
   "source": [
    "\n",
    "# title_categories = cs_papers[[\"title\", \"categories\"]]\n",
    "# title_categories.head()\n"
   ]
  },
  {
   "cell_type": "code",
   "execution_count": 8,
   "id": "33ac3d41",
   "metadata": {
    "execution": {
     "iopub.execute_input": "2023-12-02T14:57:54.233484Z",
     "iopub.status.busy": "2023-12-02T14:57:54.233240Z",
     "iopub.status.idle": "2023-12-02T14:57:54.236823Z",
     "shell.execute_reply": "2023-12-02T14:57:54.235960Z"
    },
    "papermill": {
     "duration": 0.013582,
     "end_time": "2023-12-02T14:57:54.238608",
     "exception": false,
     "start_time": "2023-12-02T14:57:54.225026",
     "status": "completed"
    },
    "tags": []
   },
   "outputs": [],
   "source": [
    "\n",
    "# title_abs_categories = cs_papers[[\"title\", \"abstract\",\"categories\"]]\n",
    "# title_abs_categories.head()"
   ]
  },
  {
   "cell_type": "code",
   "execution_count": 9,
   "id": "15cc18dc",
   "metadata": {
    "execution": {
     "iopub.execute_input": "2023-12-02T14:57:54.254655Z",
     "iopub.status.busy": "2023-12-02T14:57:54.254393Z",
     "iopub.status.idle": "2023-12-02T14:57:54.257942Z",
     "shell.execute_reply": "2023-12-02T14:57:54.257150Z"
    },
    "papermill": {
     "duration": 0.013653,
     "end_time": "2023-12-02T14:57:54.259705",
     "exception": false,
     "start_time": "2023-12-02T14:57:54.246052",
     "status": "completed"
    },
    "tags": []
   },
   "outputs": [],
   "source": [
    "\n",
    "# title_categories_path = \"/kaggle/working/title_categories.json\"\n",
    "# title_abs_categories_path = \"/kaggle/working/title_abs_categories.json\"\n",
    "# if not os.path.exists(title_abs_categories_path):\n",
    "#     title_abs_categories.to_json(title_abs_categories_path)\n",
    "# if not os.path.exists(title_categories_path):\n",
    "#     title_categories.to_json(title_categories_path)"
   ]
  },
  {
   "cell_type": "markdown",
   "id": "18fec9d0",
   "metadata": {
    "papermill": {
     "duration": 0.007349,
     "end_time": "2023-12-02T14:57:54.274492",
     "exception": false,
     "start_time": "2023-12-02T14:57:54.267143",
     "status": "completed"
    },
    "tags": []
   },
   "source": [
    "# 从这里开始title-categories的分类"
   ]
  },
  {
   "cell_type": "code",
   "execution_count": 10,
   "id": "d1aa6d5f",
   "metadata": {
    "execution": {
     "iopub.execute_input": "2023-12-02T14:57:54.290450Z",
     "iopub.status.busy": "2023-12-02T14:57:54.290210Z",
     "iopub.status.idle": "2023-12-02T14:57:56.732542Z",
     "shell.execute_reply": "2023-12-02T14:57:56.731614Z"
    },
    "papermill": {
     "duration": 2.453023,
     "end_time": "2023-12-02T14:57:56.734927",
     "exception": false,
     "start_time": "2023-12-02T14:57:54.281904",
     "status": "completed"
    },
    "tags": []
   },
   "outputs": [
    {
     "data": {
      "text/html": [
       "<div>\n",
       "<style scoped>\n",
       "    .dataframe tbody tr th:only-of-type {\n",
       "        vertical-align: middle;\n",
       "    }\n",
       "\n",
       "    .dataframe tbody tr th {\n",
       "        vertical-align: top;\n",
       "    }\n",
       "\n",
       "    .dataframe thead th {\n",
       "        text-align: right;\n",
       "    }\n",
       "</style>\n",
       "<table border=\"1\" class=\"dataframe\">\n",
       "  <thead>\n",
       "    <tr style=\"text-align: right;\">\n",
       "      <th></th>\n",
       "      <th>title</th>\n",
       "      <th>categories</th>\n",
       "    </tr>\n",
       "  </thead>\n",
       "  <tbody>\n",
       "    <tr>\n",
       "      <th>46</th>\n",
       "      <td>Intelligent location of simultaneously active ...</td>\n",
       "      <td>[cs.NE, cs.AI]</td>\n",
       "    </tr>\n",
       "    <tr>\n",
       "      <th>49</th>\n",
       "      <td>Intelligent location of simultaneously active ...</td>\n",
       "      <td>[cs.NE, cs.AI]</td>\n",
       "    </tr>\n",
       "    <tr>\n",
       "      <th>61</th>\n",
       "      <td>On-line Viterbi Algorithm and Its Relationship...</td>\n",
       "      <td>[cs.DS]</td>\n",
       "    </tr>\n",
       "    <tr>\n",
       "      <th>89</th>\n",
       "      <td>Real Options for Project Schedules (ROPS)</td>\n",
       "      <td>[cs.CE, cs.MS, cs.NA]</td>\n",
       "    </tr>\n",
       "    <tr>\n",
       "      <th>97</th>\n",
       "      <td>Sparsely-spread CDMA - a statistical mechanics...</td>\n",
       "      <td>[cs.IT]</td>\n",
       "    </tr>\n",
       "  </tbody>\n",
       "</table>\n",
       "</div>"
      ],
      "text/plain": [
       "                                                title             categories\n",
       "46  Intelligent location of simultaneously active ...         [cs.NE, cs.AI]\n",
       "49  Intelligent location of simultaneously active ...         [cs.NE, cs.AI]\n",
       "61  On-line Viterbi Algorithm and Its Relationship...                [cs.DS]\n",
       "89          Real Options for Project Schedules (ROPS)  [cs.CE, cs.MS, cs.NA]\n",
       "97  Sparsely-spread CDMA - a statistical mechanics...                [cs.IT]"
      ]
     },
     "execution_count": 10,
     "metadata": {},
     "output_type": "execute_result"
    }
   ],
   "source": [
    "title_categories_path = \"/kaggle/input/mydatasets/title_categories.json\"\n",
    "\n",
    "with open(title_categories_path, \"r\") as f:\n",
    "    title_categories = pd.DataFrame(json.load(f))\n",
    "title_categories.head()"
   ]
  },
  {
   "cell_type": "code",
   "execution_count": 11,
   "id": "a97c912e",
   "metadata": {
    "execution": {
     "iopub.execute_input": "2023-12-02T14:57:56.752950Z",
     "iopub.status.busy": "2023-12-02T14:57:56.752615Z",
     "iopub.status.idle": "2023-12-02T14:57:57.878026Z",
     "shell.execute_reply": "2023-12-02T14:57:57.877115Z"
    },
    "papermill": {
     "duration": 1.136479,
     "end_time": "2023-12-02T14:57:57.880232",
     "exception": false,
     "start_time": "2023-12-02T14:57:56.743753",
     "status": "completed"
    },
    "tags": []
   },
   "outputs": [
    {
     "name": "stdout",
     "output_type": "stream",
     "text": [
      "{2: 136602, 1: 276364, 3: 40881, 4: 7712, 5: 1174, 7: 3, 6: 28}\n"
     ]
    },
    {
     "data": {
      "image/png": "[encoded data removed]",
      "text/plain": [
       "<Figure size 640x480 with 1 Axes>"
      ]
     },
     "metadata": {},
     "output_type": "display_data"
    }
   ],
   "source": [
    "labels_counts = {}\n",
    "multi_label_counts = {}\n",
    "for labels in title_categories[\"categories\"]:\n",
    "    multi_label_counts[len(labels)] = multi_label_counts.get(len(labels), 0) + 1\n",
    "    for label in labels:\n",
    "        labels_counts[label] = labels_counts.get(label, 0) + 1\n",
    "\n",
    "print(multi_label_counts)\n",
    "label_set = sorted(labels_counts.keys())\n",
    "# 40 类\n",
    "plt.bar(label_set, [labels_counts[key] for key in label_set])\n",
    "plt.xticks(rotation=60)\n",
    "plt.xlabel(\"label name\")\n",
    "plt.ylabel(\"Counts\")\n",
    "plt.tight_layout()\n",
    "plt.show()\n"
   ]
  },
  {
   "cell_type": "markdown",
   "id": "dd0ed015",
   "metadata": {
    "papermill": {
     "duration": 0.008327,
     "end_time": "2023-12-02T14:57:57.897329",
     "exception": false,
     "start_time": "2023-12-02T14:57:57.889002",
     "status": "completed"
    },
    "tags": []
   },
   "source": [
    "## multi_label_counts：\n",
    "- num_labels : counts\n",
    "- 1 :  276364\n",
    "- 2 :  136602\n",
    "- 3 :  40881\n",
    "- 4 :  7712\n",
    "- 5 :  1174\n",
    "- 6 :  28\n",
    "- 7 :  3\n",
    "\n",
    "绝大多数的paper的label个数在5个以内，大多数在3个以内。"
   ]
  },
  {
   "cell_type": "code",
   "execution_count": 12,
   "id": "9b320097",
   "metadata": {
    "execution": {
     "iopub.execute_input": "2023-12-02T14:57:57.915979Z",
     "iopub.status.busy": "2023-12-02T14:57:57.915610Z",
     "iopub.status.idle": "2023-12-02T14:57:58.407725Z",
     "shell.execute_reply": "2023-12-02T14:57:58.406688Z"
    },
    "papermill": {
     "duration": 0.503834,
     "end_time": "2023-12-02T14:57:58.409787",
     "exception": false,
     "start_time": "2023-12-02T14:57:57.905953",
     "status": "completed"
    },
    "tags": []
   },
   "outputs": [
    {
     "data": {
      "text/plain": [
       "37"
      ]
     },
     "execution_count": 12,
     "metadata": {},
     "output_type": "execute_result"
    }
   ],
   "source": [
    "max_length = 0\n",
    "for title in title_categories[\"title\"]:\n",
    "    length = len(title.split())\n",
    "    if length > max_length:\n",
    "        max_length = length\n",
    "max_length   # 37"
   ]
  },
  {
   "cell_type": "code",
   "execution_count": 13,
   "id": "4b47bc58",
   "metadata": {
    "execution": {
     "iopub.execute_input": "2023-12-02T14:57:58.428930Z",
     "iopub.status.busy": "2023-12-02T14:57:58.428232Z",
     "iopub.status.idle": "2023-12-02T14:58:00.214692Z",
     "shell.execute_reply": "2023-12-02T14:58:00.213854Z"
    },
    "papermill": {
     "duration": 1.798385,
     "end_time": "2023-12-02T14:58:00.216930",
     "exception": false,
     "start_time": "2023-12-02T14:57:58.418545",
     "status": "completed"
    },
    "tags": []
   },
   "outputs": [
    {
     "name": "stderr",
     "output_type": "stream",
     "text": [
      "/opt/conda/lib/python3.10/site-packages/scipy/__init__.py:146: UserWarning: A NumPy version >=1.16.5 and <1.23.0 is required for this version of SciPy (detected version 1.24.3\n",
      "  warnings.warn(f\"A NumPy version >={np_minversion} and <{np_maxversion}\"\n"
     ]
    },
    {
     "name": "stdout",
     "output_type": "stream",
     "text": [
      "(462764, 40)\n",
      "[[1 0 0 0 0 0 0 0 0 0 0 0 0 0 0 0 0 0 0 0 0 0 0 0 0 0 0 0 1 0 0 0 0 0 0 0\n",
      "  0 0 0 0]\n",
      " [1 0 0 0 0 0 0 0 0 0 0 0 0 0 0 0 0 0 0 0 0 0 0 0 0 0 0 0 1 0 0 0 0 0 0 0\n",
      "  0 0 0 0]\n",
      " [0 0 0 0 0 0 0 0 0 0 0 0 0 1 0 0 0 0 0 0 0 0 0 0 0 0 0 0 0 0 0 0 0 0 0 0\n",
      "  0 0 0 0]\n",
      " [0 0 0 1 0 0 0 0 0 0 0 0 0 0 0 0 0 0 0 0 0 0 0 0 0 0 1 1 0 0 0 0 0 0 0 0\n",
      "  0 0 0 0]\n",
      " [0 0 0 0 0 0 0 0 0 0 0 0 0 0 0 0 0 0 0 0 0 1 0 0 0 0 0 0 0 0 0 0 0 0 0 0\n",
      "  0 0 0 0]]\n"
     ]
    }
   ],
   "source": [
    "from sklearn.preprocessing import MultiLabelBinarizer\n",
    "from sklearn.model_selection import train_test_split\n",
    "multilabels = MultiLabelBinarizer()\n",
    "# 转换成k-hot形式的multi-labels\n",
    "y_multilabels = multilabels.fit_transform(title_categories[\"categories\"].values)\n",
    "print(y_multilabels.shape)    #(462764, 40)\n",
    "print(y_multilabels[:5])"
   ]
  },
  {
   "cell_type": "code",
   "execution_count": 14,
   "id": "71a613fc",
   "metadata": {
    "execution": {
     "iopub.execute_input": "2023-12-02T14:58:00.236237Z",
     "iopub.status.busy": "2023-12-02T14:58:00.235939Z",
     "iopub.status.idle": "2023-12-02T14:58:02.548642Z",
     "shell.execute_reply": "2023-12-02T14:58:02.547823Z"
    },
    "papermill": {
     "duration": 2.324709,
     "end_time": "2023-12-02T14:58:02.550921",
     "exception": false,
     "start_time": "2023-12-02T14:58:00.226212",
     "status": "completed"
    },
    "tags": []
   },
   "outputs": [
    {
     "data": {
      "application/vnd.jupyter.widget-view+json": {
       "model_id": "4df5ad9054484d9ebb54c01b89d010c0",
       "version_major": 2,
       "version_minor": 0
      },
      "text/plain": [
       "Downloading config.json:   0%|          | 0.00/382 [00:00<?, ?B/s]"
      ]
     },
     "metadata": {},
     "output_type": "display_data"
    },
    {
     "data": {
      "application/vnd.jupyter.widget-view+json": {
       "model_id": "18d5cb6986374bdfb7cecdb81e3136f2",
       "version_major": 2,
       "version_minor": 0
      },
      "text/plain": [
       "Downloading model.safetensors:   0%|          | 0.00/17.7M [00:00<?, ?B/s]"
      ]
     },
     "metadata": {},
     "output_type": "display_data"
    },
    {
     "data": {
      "application/vnd.jupyter.widget-view+json": {
       "model_id": "20954a9fb8154fe5b2f6d977f0512baa",
       "version_major": 2,
       "version_minor": 0
      },
      "text/plain": [
       "Downloading vocab.txt:   0%|          | 0.00/232k [00:00<?, ?B/s]"
      ]
     },
     "metadata": {},
     "output_type": "display_data"
    }
   ],
   "source": [
    "# Load model directly\n",
    "from transformers import BertModel,BertTokenizer\n",
    "bert_model = BertModel.from_pretrained(\"google/bert_uncased_L-2_H-128_A-2\")\n",
    "tokenizer = BertTokenizer.from_pretrained(\"google/bert_uncased_L-2_H-128_A-2\")"
   ]
  },
  {
   "cell_type": "code",
   "execution_count": 15,
   "id": "f9fbf679",
   "metadata": {
    "execution": {
     "iopub.execute_input": "2023-12-02T14:58:02.571619Z",
     "iopub.status.busy": "2023-12-02T14:58:02.570918Z",
     "iopub.status.idle": "2023-12-02T15:02:20.995890Z",
     "shell.execute_reply": "2023-12-02T15:02:20.994920Z"
    },
    "papermill": {
     "duration": 258.446682,
     "end_time": "2023-12-02T15:02:21.007115",
     "exception": false,
     "start_time": "2023-12-02T14:58:02.560433",
     "status": "completed"
    },
    "tags": []
   },
   "outputs": [
    {
     "name": "stdout",
     "output_type": "stream",
     "text": [
      "dict_keys(['input_ids', 'token_type_ids', 'attention_mask'])\n"
     ]
    }
   ],
   "source": [
    "out = tokenizer.batch_encode_plus(title_categories[\"title\"].to_list(), max_length=48,\n",
    "                                  padding=\"max_length\", truncation=True)\n",
    "print(out.keys())\n",
    "input_ids = np.array(out['input_ids'])\n",
    "attention_masks = np.array(out['attention_mask'])\n"
   ]
  },
  {
   "cell_type": "code",
   "execution_count": 16,
   "id": "126c4853",
   "metadata": {
    "execution": {
     "iopub.execute_input": "2023-12-02T15:02:21.026695Z",
     "iopub.status.busy": "2023-12-02T15:02:21.026364Z",
     "iopub.status.idle": "2023-12-02T15:02:21.033056Z",
     "shell.execute_reply": "2023-12-02T15:02:21.032191Z"
    },
    "papermill": {
     "duration": 0.018676,
     "end_time": "2023-12-02T15:02:21.034961",
     "exception": false,
     "start_time": "2023-12-02T15:02:21.016285",
     "status": "completed"
    },
    "tags": []
   },
   "outputs": [],
   "source": [
    "class MyDataSet(Dataset):\n",
    "    def __init__(self, X, masks, y) -> None:\n",
    "        super().__init__()\n",
    "        self.X = torch.from_numpy(X).int()\n",
    "        self.masks = torch.from_numpy(masks).int()\n",
    "        self.y = torch.from_numpy(y).float()\n",
    "    \n",
    "    def __len__(self):\n",
    "        return self.X.shape[0]\n",
    "    \n",
    "    def __getitem__(self, index):\n",
    "        return self.X[index], self.masks[index], self.y[index]"
   ]
  },
  {
   "cell_type": "code",
   "execution_count": 17,
   "id": "d0f3c8de",
   "metadata": {
    "execution": {
     "iopub.execute_input": "2023-12-02T15:02:21.055110Z",
     "iopub.status.busy": "2023-12-02T15:02:21.054835Z",
     "iopub.status.idle": "2023-12-02T15:02:21.065245Z",
     "shell.execute_reply": "2023-12-02T15:02:21.064392Z"
    },
    "papermill": {
     "duration": 0.022725,
     "end_time": "2023-12-02T15:02:21.067206",
     "exception": false,
     "start_time": "2023-12-02T15:02:21.044481",
     "status": "completed"
    },
    "tags": []
   },
   "outputs": [],
   "source": [
    "class MyClassifier(nn.Module):\n",
    "    def __init__(self, num_hidden, num_class):\n",
    "        super().__init__()\n",
    "        self.bert = bert_model    # 作为embedding层，进行fine-tuning\n",
    "        for param in self.bert.parameters():\n",
    "            param.requires_grad = True\n",
    "        \n",
    "        # k cnn-filters k(out_channels)->32\n",
    "        # 试了一下(16, 32, 48) 32的效果最好\n",
    "        self.conv1 = nn.Conv2d(1, 32, kernel_size=(3, 128)) # out= in - kernel_size + 1\n",
    "        self.conv2 = nn.Conv2d(1, 32, kernel_size=(5, 128))\n",
    "        self.conv3 = nn.Conv2d(1, 32, kernel_size=(7, 128))\n",
    "        # N,C_out,\n",
    "        self.pooling = nn.MaxPool2d((3,1), (3,1))\n",
    "        self.fc1 = nn.Linear(32*44, num_hidden)\n",
    "        self.sig1 = nn.Sigmoid()\n",
    "        self.fc2 = nn.Linear(num_hidden, num_class)\n",
    "        #self.sig2 = nn.Sigmoid()\n",
    "  \n",
    "    def forward(self, x, mask):\n",
    "        # 取bert最后一层隐状态\n",
    "        out = self.bert(x, attention_mask=mask, token_type_ids=None,)\n",
    "        last_hidden_state = out[\"last_hidden_state\"]  # N, 48, 128\n",
    "        #print(hidden_states.shape)\n",
    "        last_hidden_state.unsqueeze_(1)  # N, 1, 48, 128\n",
    "        \n",
    "        out1 = self.conv1(last_hidden_state)  # 48 - 3 + 1\n",
    "        out2 = self.conv2(last_hidden_state)\n",
    "        out3 = self.conv3(last_hidden_state)\n",
    "        out = torch.cat([out1, out2, out3], dim=2)  # N, 32, (46 + 44 + 42 = 132), 1\n",
    "        out = self.pooling(out)  # N, 32, 44, 1\n",
    "        #print(out.shape)\n",
    "        out = out.reshape(out.shape[0], -1)\n",
    "        #print(out.shape)\n",
    "        out = self.sig1(self.fc1(out))\n",
    "        out = self.fc2(out)\n",
    "        \n",
    "        #print(out.shape)\n",
    "        return out\n",
    "        "
   ]
  },
  {
   "cell_type": "code",
   "execution_count": 18,
   "id": "d099f6b8",
   "metadata": {
    "execution": {
     "iopub.execute_input": "2023-12-02T15:02:21.086585Z",
     "iopub.status.busy": "2023-12-02T15:02:21.086304Z",
     "iopub.status.idle": "2023-12-02T15:02:21.444303Z",
     "shell.execute_reply": "2023-12-02T15:02:21.443237Z"
    },
    "papermill": {
     "duration": 0.370505,
     "end_time": "2023-12-02T15:02:21.446828",
     "exception": false,
     "start_time": "2023-12-02T15:02:21.076323",
     "status": "completed"
    },
    "tags": []
   },
   "outputs": [],
   "source": [
    "test_radio = 0.2\n",
    "batch_size = 128\n",
    "# [:25600]\n",
    "X_train, X_val, mask_train, mask_val, y_train, y_val = train_test_split(input_ids, attention_masks, y_multilabels, test_size=test_radio, random_state=49)\n",
    "train_dataset, val_dataset = MyDataSet(X_train, mask_train, y_train), MyDataSet(X_val, mask_val, y_val)\n",
    "train_loader, val_loader = DataLoader(train_dataset, batch_size, shuffle=True), DataLoader(val_dataset, batch_size*5)"
   ]
  },
  {
   "cell_type": "code",
   "execution_count": 19,
   "id": "0b34f539",
   "metadata": {
    "execution": {
     "iopub.execute_input": "2023-12-02T15:02:21.468298Z",
     "iopub.status.busy": "2023-12-02T15:02:21.467974Z",
     "iopub.status.idle": "2023-12-02T15:02:24.647579Z",
     "shell.execute_reply": "2023-12-02T15:02:24.646611Z"
    },
    "papermill": {
     "duration": 3.192016,
     "end_time": "2023-12-02T15:02:24.649731",
     "exception": false,
     "start_time": "2023-12-02T15:02:21.457715",
     "status": "completed"
    },
    "tags": []
   },
   "outputs": [
    {
     "data": {
      "text/plain": [
       "MyClassifier(\n",
       "  (bert): BertModel(\n",
       "    (embeddings): BertEmbeddings(\n",
       "      (word_embeddings): Embedding(30522, 128, padding_idx=0)\n",
       "      (position_embeddings): Embedding(512, 128)\n",
       "      (token_type_embeddings): Embedding(2, 128)\n",
       "      (LayerNorm): LayerNorm((128,), eps=1e-12, elementwise_affine=True)\n",
       "      (dropout): Dropout(p=0.1, inplace=False)\n",
       "    )\n",
       "    (encoder): BertEncoder(\n",
       "      (layer): ModuleList(\n",
       "        (0-1): 2 x BertLayer(\n",
       "          (attention): BertAttention(\n",
       "            (self): BertSelfAttention(\n",
       "              (query): Linear(in_features=128, out_features=128, bias=True)\n",
       "              (key): Linear(in_features=128, out_features=128, bias=True)\n",
       "              (value): Linear(in_features=128, out_features=128, bias=True)\n",
       "              (dropout): Dropout(p=0.1, inplace=False)\n",
       "            )\n",
       "            (output): BertSelfOutput(\n",
       "              (dense): Linear(in_features=128, out_features=128, bias=True)\n",
       "              (LayerNorm): LayerNorm((128,), eps=1e-12, elementwise_affine=True)\n",
       "              (dropout): Dropout(p=0.1, inplace=False)\n",
       "            )\n",
       "          )\n",
       "          (intermediate): BertIntermediate(\n",
       "            (dense): Linear(in_features=128, out_features=512, bias=True)\n",
       "            (intermediate_act_fn): GELUActivation()\n",
       "          )\n",
       "          (output): BertOutput(\n",
       "            (dense): Linear(in_features=512, out_features=128, bias=True)\n",
       "            (LayerNorm): LayerNorm((128,), eps=1e-12, elementwise_affine=True)\n",
       "            (dropout): Dropout(p=0.1, inplace=False)\n",
       "          )\n",
       "        )\n",
       "      )\n",
       "    )\n",
       "    (pooler): BertPooler(\n",
       "      (dense): Linear(in_features=128, out_features=128, bias=True)\n",
       "      (activation): Tanh()\n",
       "    )\n",
       "  )\n",
       "  (conv1): Conv2d(1, 32, kernel_size=(3, 128), stride=(1, 1))\n",
       "  (conv2): Conv2d(1, 32, kernel_size=(5, 128), stride=(1, 1))\n",
       "  (conv3): Conv2d(1, 32, kernel_size=(7, 128), stride=(1, 1))\n",
       "  (pooling): MaxPool2d(kernel_size=(3, 1), stride=(3, 1), padding=0, dilation=1, ceil_mode=False)\n",
       "  (fc1): Linear(in_features=1408, out_features=512, bias=True)\n",
       "  (sig1): Sigmoid()\n",
       "  (fc2): Linear(in_features=512, out_features=40, bias=True)\n",
       ")"
      ]
     },
     "execution_count": 19,
     "metadata": {},
     "output_type": "execute_result"
    }
   ],
   "source": [
    "from transformers import get_scheduler\n",
    "model = MyClassifier(num_hidden=512 ,num_class=40)\n",
    "# optimizer = optim.Adam(model.parameters(), lr=1e-3)\n",
    "optimizer = optim.AdamW(model.parameters(), lr=1e-4) #fine-tuning bert\n",
    "criterion = nn.BCEWithLogitsLoss()\n",
    "num_epochs = 10\n",
    "num_training_steps = num_epochs * len(train_loader)\n",
    "\n",
    "lr_scheduler = get_scheduler(\n",
    "    name=\"linear\", optimizer=optimizer, num_warmup_steps=0, \n",
    "    num_training_steps=num_training_steps)\n",
    "\n",
    "device = torch.device(\"cuda\") if torch.cuda.is_available() else torch.device(\"cpu\")\n",
    "model.to(device)"
   ]
  },
  {
   "cell_type": "code",
   "execution_count": 20,
   "id": "383c4e33",
   "metadata": {
    "execution": {
     "iopub.execute_input": "2023-12-02T15:02:24.670894Z",
     "iopub.status.busy": "2023-12-02T15:02:24.670520Z",
     "iopub.status.idle": "2023-12-02T15:02:24.684002Z",
     "shell.execute_reply": "2023-12-02T15:02:24.683295Z"
    },
    "papermill": {
     "duration": 0.025839,
     "end_time": "2023-12-02T15:02:24.685856",
     "exception": false,
     "start_time": "2023-12-02T15:02:24.660017",
     "status": "completed"
    },
    "tags": []
   },
   "outputs": [],
   "source": [
    "def adapter_precision(predicts, labels):\n",
    "    predicts, labels = predicts.to(device), labels.to(device)\n",
    "    precision = 0.0\n",
    "    for i in range(labels.shape[0]):\n",
    "        labels_num, label_ids = torch.sum(labels[i]).item(), torch.nonzero(labels[i]).squeeze()\n",
    "        # 根据实际label数，选择predict中预测topk\n",
    "        _, pred_ids = predicts[i].topk(int(labels_num))\n",
    "        # 计算两组下标相同元素的数目，从而获得precision，并累加\n",
    "        precision += torch.sum(torch.isin(pred_ids, label_ids)).item() / labels_num\n",
    "    return precision / labels.shape[0]\n",
    "\n",
    "def precision_k(predicts, labels, k=3):\n",
    "    \"\"\"\n",
    "    predicts : (batch_size, C)\n",
    "    labels : (batch_size, C)  {0, 1}^C\n",
    "    \"\"\"\n",
    "    predicts, labels = predicts.to(device), labels.to(device)\n",
    "    _, topk_pred_ids = predicts.topk(k, dim=1)  # batch_size, k\n",
    "\n",
    "    precision_rank_k = torch.zeros(labels.shape[0]).to(device) # batch_size,\n",
    "    \n",
    "    for pred_ids in topk_pred_ids.T:\n",
    "        precision_rank_k += labels[torch.arange(labels.shape[0]), pred_ids]\n",
    "        \n",
    "    return precision_rank_k / k\n",
    "\n",
    "def topk_eval(net, top_k:list, val_loader, metric=precision_k):\n",
    "    net.eval()\n",
    "    correct_topk = torch.zeros(len(top_k))\n",
    "    with torch.no_grad():\n",
    "        for x, mask, y in val_loader:\n",
    "            x, mask = x.to(device), mask.to(device)\n",
    "            outputs = net(x, mask)\n",
    "            for i, k in enumerate(top_k):\n",
    "                correct_topk[i] += metric(outputs, y, k).mean().item()\n",
    "    \n",
    "    return correct_topk / len(val_loader)\n",
    "\n",
    "def actual_eval(net, val_loader, metric):\n",
    "    net.eval()\n",
    "    correct = 0.0\n",
    "    with torch.no_grad():\n",
    "        for x, mask, y in val_loader:\n",
    "            x, mask = x.to(device), mask.to(device)\n",
    "            outputs = net(x, mask)\n",
    "            correct += metric(outputs, y)\n",
    "                   \n",
    "    return correct / len(val_loader)\n",
    "    "
   ]
  },
  {
   "cell_type": "code",
   "execution_count": 21,
   "id": "afb9c095",
   "metadata": {
    "execution": {
     "iopub.execute_input": "2023-12-02T15:02:24.706195Z",
     "iopub.status.busy": "2023-12-02T15:02:24.705892Z",
     "iopub.status.idle": "2023-12-02T15:12:26.957817Z",
     "shell.execute_reply": "2023-12-02T15:12:26.956588Z"
    },
    "papermill": {
     "duration": 602.264855,
     "end_time": "2023-12-02T15:12:26.960004",
     "exception": false,
     "start_time": "2023-12-02T15:02:24.695149",
     "status": "completed"
    },
    "tags": []
   },
   "outputs": [
    {
     "data": {
      "application/vnd.jupyter.widget-view+json": {
       "model_id": "c11bf3d2ed704372a159d15e426727b5",
       "version_major": 2,
       "version_minor": 0
      },
      "text/plain": [
       "  0%|          | 0/28930 [00:00<?, ?it/s]"
      ]
     },
     "metadata": {},
     "output_type": "display_data"
    },
    {
     "name": "stdout",
     "output_type": "stream",
     "text": [
      "[Train]: 1/10, Loss: 0.12198583906110166\n",
      "P@1=67.7308%\n",
      "P@2=47.4512%\n",
      "P@3=37.0246%\n",
      "adapted_P=61.1973%\n",
      "[Train]: 2/10, Loss: 0.0776414924693631\n",
      "P@1=73.2099%\n",
      "P@2=51.3144%\n",
      "P@3=39.6048%\n",
      "adapted_P=66.8351%\n",
      "[Train]: 3/10, Loss: 0.07081927945261136\n",
      "P@1=75.0240%\n",
      "P@2=52.5683%\n",
      "P@3=40.4563%\n",
      "adapted_P=68.6756%\n",
      "[Train]: 4/10, Loss: 0.06751118891901761\n",
      "P@1=75.7316%\n",
      "P@2=53.0214%\n",
      "P@3=40.7900%\n",
      "adapted_P=69.5142%\n",
      "[Train]: 5/10, Loss: 0.06532559388037416\n",
      "P@1=76.2146%\n",
      "P@2=53.3168%\n",
      "P@3=41.0063%\n",
      "adapted_P=69.9007%\n",
      "[Train]: 6/10, Loss: 0.06372420475108377\n",
      "P@1=76.5505%\n",
      "P@2=53.4678%\n",
      "P@3=41.0788%\n",
      "adapted_P=70.2493%\n",
      "[Train]: 7/10, Loss: 0.062486458242691556\n",
      "P@1=76.6459%\n",
      "P@2=53.5465%\n",
      "P@3=41.1194%\n",
      "adapted_P=70.3637%\n",
      "[Train]: 8/10, Loss: 0.06158516035539816\n",
      "P@1=76.7514%\n",
      "P@2=53.6229%\n",
      "P@3=41.2230%\n",
      "adapted_P=70.4939%\n",
      "[Train]: 9/10, Loss: 0.0608487129752256\n",
      "P@1=76.7230%\n",
      "P@2=53.6799%\n",
      "P@3=41.2147%\n",
      "adapted_P=70.5625%\n",
      "[Train]: 10/10, Loss: 0.06037559488004687\n",
      "P@1=76.7934%\n",
      "P@2=53.7130%\n",
      "P@3=41.2412%\n",
      "adapted_P=70.6117%\n"
     ]
    }
   ],
   "source": [
    "from tqdm.auto import tqdm\n",
    "\n",
    "progress_bar = tqdm(range(num_training_steps))\n",
    "\n",
    "top_k = [1, 2, 3]\n",
    "actual = True\n",
    "log_num = 1\n",
    "for epoch in range(num_epochs):\n",
    "    model.train()\n",
    "    epoch_loss = 0.0\n",
    "    for x, mask, y in train_loader:\n",
    "        optimizer.zero_grad()\n",
    "        outputs = model(x.to(device), mask.to(device))\n",
    "        loss = criterion(outputs.to(device), y.to(device))\n",
    "        #with torch.autograd.set_detect_anomaly(True):\n",
    "        loss.backward()\n",
    "        epoch_loss += loss.item()\n",
    "        optimizer.step()\n",
    "        lr_scheduler.step()\n",
    "        \n",
    "        progress_bar.update(1)\n",
    "    if (epoch + 1)% log_num == 0:\n",
    "        print(f\"[Train]: {epoch + 1}/{num_epochs}, Loss: {epoch_loss/len(train_loader)}\")\n",
    "    \n",
    "        precisions = topk_eval(model, top_k, val_loader=val_loader)\n",
    "        for i, k in enumerate(top_k):    \n",
    "            print(f\"P@{k}={precisions[i].item()*100:.4f}%\")\n",
    "        if actual:   # 根据实际label数目计算的precision\n",
    "            actual_precison = actual_eval(model, val_loader, metric=adapter_precision)\n",
    "            print(f\"adapted_P={actual_precison*100:.4f}%\")\n",
    "\n"
   ]
  },
  {
   "cell_type": "code",
   "execution_count": 22,
   "id": "56ab288f",
   "metadata": {
    "execution": {
     "iopub.execute_input": "2023-12-02T15:12:26.987714Z",
     "iopub.status.busy": "2023-12-02T15:12:26.986877Z",
     "iopub.status.idle": "2023-12-02T15:12:26.995192Z",
     "shell.execute_reply": "2023-12-02T15:12:26.994319Z"
    },
    "papermill": {
     "duration": 0.024604,
     "end_time": "2023-12-02T15:12:26.997017",
     "exception": false,
     "start_time": "2023-12-02T15:12:26.972413",
     "status": "completed"
    },
    "tags": []
   },
   "outputs": [],
   "source": [
    "def predict_categories(model, titles:list[str], label_set=label_set, tokenizer=tokenizer):\n",
    "    num_papers = len(titles)\n",
    "    pred_categories = {}\n",
    "    model.cpu()\n",
    "    model.eval()\n",
    "    out = tokenizer.batch_encode_plus(titles, max_length=48,\n",
    "                                  padding=\"max_length\", truncation=True)\n",
    "    token_ids, attn_masks = out[\"input_ids\"], out[\"attention_mask\"]\n",
    "    # 转为tensor，\n",
    "    token_ids = torch.tensor(token_ids).int()\n",
    "    attn_masks = torch.tensor(attn_masks).int()\n",
    "\n",
    "    with torch.no_grad():\n",
    "        for i in range(num_papers):\n",
    "            # 添加batch_size维度\n",
    "            x, mask = token_ids[i].unsqueeze_(0), attn_masks[i].unsqueeze_(0)\n",
    "            output = model(x, mask)\n",
    "            # 获取top3的标签\n",
    "            _, pred_ids = output.topk(k=3)\n",
    "            \n",
    "            pred_categories[titles[i]] = [label_set[ids.item()] for ids in pred_ids.squeeze(0)]\n",
    "\n",
    "    return pred_categories"
   ]
  },
  {
   "cell_type": "code",
   "execution_count": 23,
   "id": "be4cdfe2",
   "metadata": {
    "execution": {
     "iopub.execute_input": "2023-12-02T15:12:27.022774Z",
     "iopub.status.busy": "2023-12-02T15:12:27.021984Z",
     "iopub.status.idle": "2023-12-02T15:12:27.061751Z",
     "shell.execute_reply": "2023-12-02T15:12:27.060942Z"
    },
    "papermill": {
     "duration": 0.0547,
     "end_time": "2023-12-02T15:12:27.063650",
     "exception": false,
     "start_time": "2023-12-02T15:12:27.008950",
     "status": "completed"
    },
    "tags": []
   },
   "outputs": [
    {
     "data": {
      "text/html": [
       "<div>\n",
       "<style scoped>\n",
       "    .dataframe tbody tr th:only-of-type {\n",
       "        vertical-align: middle;\n",
       "    }\n",
       "\n",
       "    .dataframe tbody tr th {\n",
       "        vertical-align: top;\n",
       "    }\n",
       "\n",
       "    .dataframe thead th {\n",
       "        text-align: right;\n",
       "    }\n",
       "</style>\n",
       "<table border=\"1\" class=\"dataframe\">\n",
       "  <thead>\n",
       "    <tr style=\"text-align: right;\">\n",
       "      <th></th>\n",
       "      <th>title</th>\n",
       "      <th>categories</th>\n",
       "    </tr>\n",
       "  </thead>\n",
       "  <tbody>\n",
       "    <tr>\n",
       "      <th>0</th>\n",
       "      <td>Mathematical Logic in Computer Science</td>\n",
       "      <td>[cs.LO]</td>\n",
       "    </tr>\n",
       "    <tr>\n",
       "      <th>1</th>\n",
       "      <td>Ten Research Challenge Areas in Data Science</td>\n",
       "      <td>[cs.CY, cs.AI]</td>\n",
       "    </tr>\n",
       "    <tr>\n",
       "      <th>2</th>\n",
       "      <td>Why The Trans Programmer?</td>\n",
       "      <td>[cs.CY]</td>\n",
       "    </tr>\n",
       "    <tr>\n",
       "      <th>3</th>\n",
       "      <td>Defining Data Science</td>\n",
       "      <td>[cs.DB, cs.CY]</td>\n",
       "    </tr>\n",
       "    <tr>\n",
       "      <th>4</th>\n",
       "      <td>Proceedings 11th Doctoral Workshop on Mathemat...</td>\n",
       "      <td>[cs.LO, cs.DS, cs.SE]</td>\n",
       "    </tr>\n",
       "    <tr>\n",
       "      <th>5</th>\n",
       "      <td>FAIR and Open Computer Science Research Software</td>\n",
       "      <td>[cs.SE]</td>\n",
       "    </tr>\n",
       "    <tr>\n",
       "      <th>6</th>\n",
       "      <td>A Polynomial Translation of pi-calculus FCPs t...</td>\n",
       "      <td>[cs.LO]</td>\n",
       "    </tr>\n",
       "    <tr>\n",
       "      <th>7</th>\n",
       "      <td>A computational medical XR discipline</td>\n",
       "      <td>[cs.GR, cs.HC]</td>\n",
       "    </tr>\n",
       "    <tr>\n",
       "      <th>8</th>\n",
       "      <td>Computer Science</td>\n",
       "      <td>[cs.CY]</td>\n",
       "    </tr>\n",
       "    <tr>\n",
       "      <th>9</th>\n",
       "      <td>Decidability of higher-order matching</td>\n",
       "      <td>[cs.LO, cs.GT]</td>\n",
       "    </tr>\n",
       "  </tbody>\n",
       "</table>\n",
       "</div>"
      ],
      "text/plain": [
       "                                               title             categories\n",
       "0             Mathematical Logic in Computer Science                [cs.LO]\n",
       "1       Ten Research Challenge Areas in Data Science         [cs.CY, cs.AI]\n",
       "2                          Why The Trans Programmer?                [cs.CY]\n",
       "3                              Defining Data Science         [cs.DB, cs.CY]\n",
       "4  Proceedings 11th Doctoral Workshop on Mathemat...  [cs.LO, cs.DS, cs.SE]\n",
       "5   FAIR and Open Computer Science Research Software                [cs.SE]\n",
       "6  A Polynomial Translation of pi-calculus FCPs t...                [cs.LO]\n",
       "7              A computational medical XR discipline         [cs.GR, cs.HC]\n",
       "8                                   Computer Science                [cs.CY]\n",
       "9              Decidability of higher-order matching         [cs.LO, cs.GT]"
      ]
     },
     "execution_count": 23,
     "metadata": {},
     "output_type": "execute_result"
    }
   ],
   "source": [
    "with open(\"/kaggle/input/mydatasets/test_t_c.json\") as f:\n",
    "    test_t_c = json.load(f)\n",
    "    \n",
    "test_t_c = pd.DataFrame([[k, v] for k, v in test_t_c.items()], columns=[\"title\", \"categories\"])\n",
    "    \n",
    "for index, row in test_t_c.iterrows():\n",
    "    words = row[\"categories\"]\n",
    "    processed_words = [word for word in words if word.startswith('cs.')]\n",
    "    \n",
    "    test_t_c.at[index, \"categories\"] = processed_words\n",
    "test_t_c.head(10)"
   ]
  },
  {
   "cell_type": "code",
   "execution_count": 24,
   "id": "9724c6e2",
   "metadata": {
    "execution": {
     "iopub.execute_input": "2023-12-02T15:12:27.089499Z",
     "iopub.status.busy": "2023-12-02T15:12:27.089223Z",
     "iopub.status.idle": "2023-12-02T15:12:27.277927Z",
     "shell.execute_reply": "2023-12-02T15:12:27.276923Z"
    },
    "papermill": {
     "duration": 0.203906,
     "end_time": "2023-12-02T15:12:27.280076",
     "exception": false,
     "start_time": "2023-12-02T15:12:27.076170",
     "status": "completed"
    },
    "tags": []
   },
   "outputs": [
    {
     "name": "stdout",
     "output_type": "stream",
     "text": [
      "Mathematical Logic in Computer Science :  ['cs.LO', 'cs.AI', 'cs.CC']\n",
      "Ten Research Challenge Areas in Data Science :  ['cs.DL', 'cs.CY', 'cs.DB']\n",
      "Why The Trans Programmer? :  ['cs.PL', 'cs.HC', 'cs.AI']\n",
      "Defining Data Science :  ['cs.DB', 'cs.DL', 'cs.CY']\n",
      "Proceedings 11th Doctoral Workshop on Mathematical and Engineering Methods in Computer Science :  ['cs.LO', 'cs.MS', 'cs.CE']\n",
      "FAIR and Open Computer Science Research Software :  ['cs.CY', 'cs.DL', 'cs.SE']\n",
      "A Polynomial Translation of pi-calculus FCPs to Safe Petri Nets :  ['cs.LO', 'cs.FL', 'cs.SC']\n",
      "A computational medical XR discipline :  ['cs.HC', 'cs.AI', 'cs.CY']\n",
      "Computer Science :  ['cs.CY', 'cs.DL', 'cs.OH']\n",
      "Decidability of higher-order matching :  ['cs.LO', 'cs.FL', 'cs.PL']\n"
     ]
    }
   ],
   "source": [
    "test_titles = test_t_c[\"title\"].to_list()[:10]\n",
    "# test_titles = [\"LayerCollapse: Adaptive compression of neural networks\"]\n",
    "pred_categories = predict_categories(model, titles=test_titles, label_set=label_set, tokenizer=tokenizer)\n",
    "for k, v in pred_categories.items():\n",
    "    print(k, \": \", v)"
   ]
  }
 ],
 "metadata": {
  "kaggle": {
   "accelerator": "gpu",
   "dataSources": [
    {
     "datasetId": 612177,
     "sourceId": 7053634,
     "sourceType": "datasetVersion"
    },
    {
     "datasetId": 4085616,
     "sourceId": 7105697,
     "sourceType": "datasetVersion"
    }
   ],
   "dockerImageVersionId": 30587,
   "isGpuEnabled": true,
   "isInternetEnabled": true,
   "language": "python",
   "sourceType": "notebook"
  },
  "kernelspec": {
   "display_name": "Python 3",
   "language": "python",
   "name": "python3"
  },
  "language_info": {
   "codemirror_mode": {
    "name": "ipython",
    "version": 3
   },
   "file_extension": ".py",
   "mimetype": "text/x-python",
   "name": "python",
   "nbconvert_exporter": "python",
   "pygments_lexer": "ipython3",
   "version": "3.10.12"
  },
  "papermill": {
   "default_parameters": {},
   "duration": 885.165245,
   "end_time": "2023-12-02T15:12:30.017061",
   "environment_variables": {},
   "exception": null,
   "input_path": "__notebook__.ipynb",
   "output_path": "__notebook__.ipynb",
   "parameters": {},
   "start_time": "2023-12-02T14:57:44.851816",
   "version": "2.4.0"
  },
  "widgets": {
   "application/vnd.jupyter.widget-state+json": {
    "state": {
     "003b1d944eb54478b62dbbe9def82c08": {
      "model_module": "@jupyter-widgets/controls",
      "model_module_version": "1.5.0",
      "model_name": "ProgressStyleModel",
      "state": {
       "_model_module": "@jupyter-widgets/controls",
       "_model_module_version": "1.5.0",
       "_model_name": "ProgressStyleModel",
       "_view_count": null,
       "_view_module": "@jupyter-widgets/base",
       "_view_module_version": "1.2.0",
       "_view_name": "StyleView",
       "bar_color": null,
       "description_width": ""
      }
     },
     "0281507f6eb34811bd0ab83ebc28138c": {
      "model_module": "@jupyter-widgets/base",
      "model_module_version": "1.2.0",
      "model_name": "LayoutModel",
      "state": {
       "_model_module": "@jupyter-widgets/base",
       "_model_module_version": "1.2.0",
       "_model_name": "LayoutModel",
       "_view_count": null,
       "_view_module": "@jupyter-widgets/base",
       "_view_module_version": "1.2.0",
       "_view_name": "LayoutView",
       "align_content": null,
       "align_items": null,
       "align_self": null,
       "border": null,
       "bottom": null,
       "display": null,
       "flex": null,
       "flex_flow": null,
       "grid_area": null,
       "grid_auto_columns": null,
       "grid_auto_flow": null,
       "grid_auto_rows": null,
       "grid_column": null,
       "grid_gap": null,
       "grid_row": null,
       "grid_template_areas": null,
       "grid_template_columns": null,
       "grid_template_rows": null,
       "height": null,
       "justify_content": null,
       "justify_items": null,
       "left": null,
       "margin": null,
       "max_height": null,
       "max_width": null,
       "min_height": null,
       "min_width": null,
       "object_fit": null,
       "object_position": null,
       "order": null,
       "overflow": null,
       "overflow_x": null,
       "overflow_y": null,
       "padding": null,
       "right": null,
       "top": null,
       "visibility": null,
       "width": null
      }
     },
     "0527cef97c774fe686ed34cfc982fff8": {
      "model_module": "@jupyter-widgets/controls",
      "model_module_version": "1.5.0",
      "model_name": "ProgressStyleModel",
      "state": {
       "_model_module": "@jupyter-widgets/controls",
       "_model_module_version": "1.5.0",
       "_model_name": "ProgressStyleModel",
       "_view_count": null,
       "_view_module": "@jupyter-widgets/base",
       "_view_module_version": "1.2.0",
       "_view_name": "StyleView",
       "bar_color": null,
       "description_width": ""
      }
     },
     "17e8db7ba4ac4575b90beac38e59c451": {
      "model_module": "@jupyter-widgets/controls",
      "model_module_version": "1.5.0",
      "model_name": "DescriptionStyleModel",
      "state": {
       "_model_module": "@jupyter-widgets/controls",
       "_model_module_version": "1.5.0",
       "_model_name": "DescriptionStyleModel",
       "_view_count": null,
       "_view_module": "@jupyter-widgets/base",
       "_view_module_version": "1.2.0",
       "_view_name": "StyleView",
       "description_width": ""
      }
     },
     "18d5cb6986374bdfb7cecdb81e3136f2": {
      "model_module": "@jupyter-widgets/controls",
      "model_module_version": "1.5.0",
      "model_name": "HBoxModel",
      "state": {
       "_dom_classes": [],
       "_model_module": "@jupyter-widgets/controls",
       "_model_module_version": "1.5.0",
       "_model_name": "HBoxModel",
       "_view_count": null,
       "_view_module": "@jupyter-widgets/controls",
       "_view_module_version": "1.5.0",
       "_view_name": "HBoxView",
       "box_style": "",
       "children": [
        "IPY_MODEL_361cc080e38d4cccab421977e0935dd5",
        "IPY_MODEL_c95e6b46fc064459b1a5f56593494d11",
        "IPY_MODEL_cfa8ed4960464dc9b145ad2888d3563a"
       ],
       "layout": "IPY_MODEL_7745f4dff7e04f31b59ea983ae65707c"
      }
     },
     "1c3090fac552409e8c3cf0ce942c015f": {
      "model_module": "@jupyter-widgets/controls",
      "model_module_version": "1.5.0",
      "model_name": "DescriptionStyleModel",
      "state": {
       "_model_module": "@jupyter-widgets/controls",
       "_model_module_version": "1.5.0",
       "_model_name": "DescriptionStyleModel",
       "_view_count": null,
       "_view_module": "@jupyter-widgets/base",
       "_view_module_version": "1.2.0",
       "_view_name": "StyleView",
       "description_width": ""
      }
     },
     "1d2fbb91fced4d94bd30d3745f432a28": {
      "model_module": "@jupyter-widgets/controls",
      "model_module_version": "1.5.0",
      "model_name": "HTMLModel",
      "state": {
       "_dom_classes": [],
       "_model_module": "@jupyter-widgets/controls",
       "_model_module_version": "1.5.0",
       "_model_name": "HTMLModel",
       "_view_count": null,
       "_view_module": "@jupyter-widgets/controls",
       "_view_module_version": "1.5.0",
       "_view_name": "HTMLView",
       "description": "",
       "description_tooltip": null,
       "layout": "IPY_MODEL_3ce0dc47ca1c49c5983ad47017cb6897",
       "placeholder": "​",
       "style": "IPY_MODEL_fe22db673ba04cc287fc03d9d4538c03",
       "value": "100%"
      }
     },
     "20954a9fb8154fe5b2f6d977f0512baa": {
      "model_module": "@jupyter-widgets/controls",
      "model_module_version": "1.5.0",
      "model_name": "HBoxModel",
      "state": {
       "_dom_classes": [],
       "_model_module": "@jupyter-widgets/controls",
       "_model_module_version": "1.5.0",
       "_model_name": "HBoxModel",
       "_view_count": null,
       "_view_module": "@jupyter-widgets/controls",
       "_view_module_version": "1.5.0",
       "_view_name": "HBoxView",
       "box_style": "",
       "children": [
        "IPY_MODEL_85a708d72c6e44a9bda6951008f718f2",
        "IPY_MODEL_9bd74374d1c74bacb36b0191e646a141",
        "IPY_MODEL_c4c0566c72684292a5de64213ca2e2e7"
       ],
       "layout": "IPY_MODEL_cfb8188b200c4365895245a61fe22531"
      }
     },
     "21039e7060be4f21b7757b68eb67f070": {
      "model_module": "@jupyter-widgets/controls",
      "model_module_version": "1.5.0",
      "model_name": "DescriptionStyleModel",
      "state": {
       "_model_module": "@jupyter-widgets/controls",
       "_model_module_version": "1.5.0",
       "_model_name": "DescriptionStyleModel",
       "_view_count": null,
       "_view_module": "@jupyter-widgets/base",
       "_view_module_version": "1.2.0",
       "_view_name": "StyleView",
       "description_width": ""
      }
     },
     "2cc62b03b221417f90b13d105cb37799": {
      "model_module": "@jupyter-widgets/base",
      "model_module_version": "1.2.0",
      "model_name": "LayoutModel",
      "state": {
       "_model_module": "@jupyter-widgets/base",
       "_model_module_version": "1.2.0",
       "_model_name": "LayoutModel",
       "_view_count": null,
       "_view_module": "@jupyter-widgets/base",
       "_view_module_version": "1.2.0",
       "_view_name": "LayoutView",
       "align_content": null,
       "align_items": null,
       "align_self": null,
       "border": null,
       "bottom": null,
       "display": null,
       "flex": null,
       "flex_flow": null,
       "grid_area": null,
       "grid_auto_columns": null,
       "grid_auto_flow": null,
       "grid_auto_rows": null,
       "grid_column": null,
       "grid_gap": null,
       "grid_row": null,
       "grid_template_areas": null,
       "grid_template_columns": null,
       "grid_template_rows": null,
       "height": null,
       "justify_content": null,
       "justify_items": null,
       "left": null,
       "margin": null,
       "max_height": null,
       "max_width": null,
       "min_height": null,
       "min_width": null,
       "object_fit": null,
       "object_position": null,
       "order": null,
       "overflow": null,
       "overflow_x": null,
       "overflow_y": null,
       "padding": null,
       "right": null,
       "top": null,
       "visibility": null,
       "width": null
      }
     },
     "2e6e940c669f4a9da68fe0b8c27ab7b6": {
      "model_module": "@jupyter-widgets/base",
      "model_module_version": "1.2.0",
      "model_name": "LayoutModel",
      "state": {
       "_model_module": "@jupyter-widgets/base",
       "_model_module_version": "1.2.0",
       "_model_name": "LayoutModel",
       "_view_count": null,
       "_view_module": "@jupyter-widgets/base",
       "_view_module_version": "1.2.0",
       "_view_name": "LayoutView",
       "align_content": null,
       "align_items": null,
       "align_self": null,
       "border": null,
       "bottom": null,
       "display": null,
       "flex": null,
       "flex_flow": null,
       "grid_area": null,
       "grid_auto_columns": null,
       "grid_auto_flow": null,
       "grid_auto_rows": null,
       "grid_column": null,
       "grid_gap": null,
       "grid_row": null,
       "grid_template_areas": null,
       "grid_template_columns": null,
       "grid_template_rows": null,
       "height": null,
       "justify_content": null,
       "justify_items": null,
       "left": null,
       "margin": null,
       "max_height": null,
       "max_width": null,
       "min_height": null,
       "min_width": null,
       "object_fit": null,
       "object_position": null,
       "order": null,
       "overflow": null,
       "overflow_x": null,
       "overflow_y": null,
       "padding": null,
       "right": null,
       "top": null,
       "visibility": null,
       "width": null
      }
     },
     "361cc080e38d4cccab421977e0935dd5": {
      "model_module": "@jupyter-widgets/controls",
      "model_module_version": "1.5.0",
      "model_name": "HTMLModel",
      "state": {
       "_dom_classes": [],
       "_model_module": "@jupyter-widgets/controls",
       "_model_module_version": "1.5.0",
       "_model_name": "HTMLModel",
       "_view_count": null,
       "_view_module": "@jupyter-widgets/controls",
       "_view_module_version": "1.5.0",
       "_view_name": "HTMLView",
       "description": "",
       "description_tooltip": null,
       "layout": "IPY_MODEL_b3f54abfb6b5461e9f9e9416baee9ae3",
       "placeholder": "​",
       "style": "IPY_MODEL_a5cde381b518490aa1850c58daec9e75",
       "value": "Downloading model.safetensors: 100%"
      }
     },
     "3ce0dc47ca1c49c5983ad47017cb6897": {
      "model_module": "@jupyter-widgets/base",
      "model_module_version": "1.2.0",
      "model_name": "LayoutModel",
      "state": {
       "_model_module": "@jupyter-widgets/base",
       "_model_module_version": "1.2.0",
       "_model_name": "LayoutModel",
       "_view_count": null,
       "_view_module": "@jupyter-widgets/base",
       "_view_module_version": "1.2.0",
       "_view_name": "LayoutView",
       "align_content": null,
       "align_items": null,
       "align_self": null,
       "border": null,
       "bottom": null,
       "display": null,
       "flex": null,
       "flex_flow": null,
       "grid_area": null,
       "grid_auto_columns": null,
       "grid_auto_flow": null,
       "grid_auto_rows": null,
       "grid_column": null,
       "grid_gap": null,
       "grid_row": null,
       "grid_template_areas": null,
       "grid_template_columns": null,
       "grid_template_rows": null,
       "height": null,
       "justify_content": null,
       "justify_items": null,
       "left": null,
       "margin": null,
       "max_height": null,
       "max_width": null,
       "min_height": null,
       "min_width": null,
       "object_fit": null,
       "object_position": null,
       "order": null,
       "overflow": null,
       "overflow_x": null,
       "overflow_y": null,
       "padding": null,
       "right": null,
       "top": null,
       "visibility": null,
       "width": null
      }
     },
     "46d0ef0e82e44eddb7c9bce5640d33b3": {
      "model_module": "@jupyter-widgets/controls",
      "model_module_version": "1.5.0",
      "model_name": "DescriptionStyleModel",
      "state": {
       "_model_module": "@jupyter-widgets/controls",
       "_model_module_version": "1.5.0",
       "_model_name": "DescriptionStyleModel",
       "_view_count": null,
       "_view_module": "@jupyter-widgets/base",
       "_view_module_version": "1.2.0",
       "_view_name": "StyleView",
       "description_width": ""
      }
     },
     "4b13165cf35d41eb8c571b2bce68e71f": {
      "model_module": "@jupyter-widgets/base",
      "model_module_version": "1.2.0",
      "model_name": "LayoutModel",
      "state": {
       "_model_module": "@jupyter-widgets/base",
       "_model_module_version": "1.2.0",
       "_model_name": "LayoutModel",
       "_view_count": null,
       "_view_module": "@jupyter-widgets/base",
       "_view_module_version": "1.2.0",
       "_view_name": "LayoutView",
       "align_content": null,
       "align_items": null,
       "align_self": null,
       "border": null,
       "bottom": null,
       "display": null,
       "flex": null,
       "flex_flow": null,
       "grid_area": null,
       "grid_auto_columns": null,
       "grid_auto_flow": null,
       "grid_auto_rows": null,
       "grid_column": null,
       "grid_gap": null,
       "grid_row": null,
       "grid_template_areas": null,
       "grid_template_columns": null,
       "grid_template_rows": null,
       "height": null,
       "justify_content": null,
       "justify_items": null,
       "left": null,
       "margin": null,
       "max_height": null,
       "max_width": null,
       "min_height": null,
       "min_width": null,
       "object_fit": null,
       "object_position": null,
       "order": null,
       "overflow": null,
       "overflow_x": null,
       "overflow_y": null,
       "padding": null,
       "right": null,
       "top": null,
       "visibility": null,
       "width": null
      }
     },
     "4d33285b93db4d3fb1ca96c71158fcd1": {
      "model_module": "@jupyter-widgets/base",
      "model_module_version": "1.2.0",
      "model_name": "LayoutModel",
      "state": {
       "_model_module": "@jupyter-widgets/base",
       "_model_module_version": "1.2.0",
       "_model_name": "LayoutModel",
       "_view_count": null,
       "_view_module": "@jupyter-widgets/base",
       "_view_module_version": "1.2.0",
       "_view_name": "LayoutView",
       "align_content": null,
       "align_items": null,
       "align_self": null,
       "border": null,
       "bottom": null,
       "display": null,
       "flex": null,
       "flex_flow": null,
       "grid_area": null,
       "grid_auto_columns": null,
       "grid_auto_flow": null,
       "grid_auto_rows": null,
       "grid_column": null,
       "grid_gap": null,
       "grid_row": null,
       "grid_template_areas": null,
       "grid_template_columns": null,
       "grid_template_rows": null,
       "height": null,
       "justify_content": null,
       "justify_items": null,
       "left": null,
       "margin": null,
       "max_height": null,
       "max_width": null,
       "min_height": null,
       "min_width": null,
       "object_fit": null,
       "object_position": null,
       "order": null,
       "overflow": null,
       "overflow_x": null,
       "overflow_y": null,
       "padding": null,
       "right": null,
       "top": null,
       "visibility": null,
       "width": null
      }
     },
     "4df5ad9054484d9ebb54c01b89d010c0": {
      "model_module": "@jupyter-widgets/controls",
      "model_module_version": "1.5.0",
      "model_name": "HBoxModel",
      "state": {
       "_dom_classes": [],
       "_model_module": "@jupyter-widgets/controls",
       "_model_module_version": "1.5.0",
       "_model_name": "HBoxModel",
       "_view_count": null,
       "_view_module": "@jupyter-widgets/controls",
       "_view_module_version": "1.5.0",
       "_view_name": "HBoxView",
       "box_style": "",
       "children": [
        "IPY_MODEL_dcb1897c39484027b68993962ef71f9f",
        "IPY_MODEL_5c765a5c84fb4adb8749bf416c3bf3ed",
        "IPY_MODEL_f59c5f8ccd6047c38767cb523bf7bc8f"
       ],
       "layout": "IPY_MODEL_2e6e940c669f4a9da68fe0b8c27ab7b6"
      }
     },
     "5306f983f6404d28bf59c61f2f940856": {
      "model_module": "@jupyter-widgets/base",
      "model_module_version": "1.2.0",
      "model_name": "LayoutModel",
      "state": {
       "_model_module": "@jupyter-widgets/base",
       "_model_module_version": "1.2.0",
       "_model_name": "LayoutModel",
       "_view_count": null,
       "_view_module": "@jupyter-widgets/base",
       "_view_module_version": "1.2.0",
       "_view_name": "LayoutView",
       "align_content": null,
       "align_items": null,
       "align_self": null,
       "border": null,
       "bottom": null,
       "display": null,
       "flex": null,
       "flex_flow": null,
       "grid_area": null,
       "grid_auto_columns": null,
       "grid_auto_flow": null,
       "grid_auto_rows": null,
       "grid_column": null,
       "grid_gap": null,
       "grid_row": null,
       "grid_template_areas": null,
       "grid_template_columns": null,
       "grid_template_rows": null,
       "height": null,
       "justify_content": null,
       "justify_items": null,
       "left": null,
       "margin": null,
       "max_height": null,
       "max_width": null,
       "min_height": null,
       "min_width": null,
       "object_fit": null,
       "object_position": null,
       "order": null,
       "overflow": null,
       "overflow_x": null,
       "overflow_y": null,
       "padding": null,
       "right": null,
       "top": null,
       "visibility": null,
       "width": null
      }
     },
     "5c765a5c84fb4adb8749bf416c3bf3ed": {
      "model_module": "@jupyter-widgets/controls",
      "model_module_version": "1.5.0",
      "model_name": "FloatProgressModel",
      "state": {
       "_dom_classes": [],
       "_model_module": "@jupyter-widgets/controls",
       "_model_module_version": "1.5.0",
       "_model_name": "FloatProgressModel",
       "_view_count": null,
       "_view_module": "@jupyter-widgets/controls",
       "_view_module_version": "1.5.0",
       "_view_name": "ProgressView",
       "bar_style": "success",
       "description": "",
       "description_tooltip": null,
       "layout": "IPY_MODEL_5306f983f6404d28bf59c61f2f940856",
       "max": 382.0,
       "min": 0.0,
       "orientation": "horizontal",
       "style": "IPY_MODEL_fa72433c0f4f45d8883165b554acc7b0",
       "value": 382.0
      }
     },
     "71102c66fcd14684bdec14957d05c1f1": {
      "model_module": "@jupyter-widgets/base",
      "model_module_version": "1.2.0",
      "model_name": "LayoutModel",
      "state": {
       "_model_module": "@jupyter-widgets/base",
       "_model_module_version": "1.2.0",
       "_model_name": "LayoutModel",
       "_view_count": null,
       "_view_module": "@jupyter-widgets/base",
       "_view_module_version": "1.2.0",
       "_view_name": "LayoutView",
       "align_content": null,
       "align_items": null,
       "align_self": null,
       "border": null,
       "bottom": null,
       "display": null,
       "flex": null,
       "flex_flow": null,
       "grid_area": null,
       "grid_auto_columns": null,
       "grid_auto_flow": null,
       "grid_auto_rows": null,
       "grid_column": null,
       "grid_gap": null,
       "grid_row": null,
       "grid_template_areas": null,
       "grid_template_columns": null,
       "grid_template_rows": null,
       "height": null,
       "justify_content": null,
       "justify_items": null,
       "left": null,
       "margin": null,
       "max_height": null,
       "max_width": null,
       "min_height": null,
       "min_width": null,
       "object_fit": null,
       "object_position": null,
       "order": null,
       "overflow": null,
       "overflow_x": null,
       "overflow_y": null,
       "padding": null,
       "right": null,
       "top": null,
       "visibility": null,
       "width": null
      }
     },
     "7745f4dff7e04f31b59ea983ae65707c": {
      "model_module": "@jupyter-widgets/base",
      "model_module_version": "1.2.0",
      "model_name": "LayoutModel",
      "state": {
       "_model_module": "@jupyter-widgets/base",
       "_model_module_version": "1.2.0",
       "_model_name": "LayoutModel",
       "_view_count": null,
       "_view_module": "@jupyter-widgets/base",
       "_view_module_version": "1.2.0",
       "_view_name": "LayoutView",
       "align_content": null,
       "align_items": null,
       "align_self": null,
       "border": null,
       "bottom": null,
       "display": null,
       "flex": null,
       "flex_flow": null,
       "grid_area": null,
       "grid_auto_columns": null,
       "grid_auto_flow": null,
       "grid_auto_rows": null,
       "grid_column": null,
       "grid_gap": null,
       "grid_row": null,
       "grid_template_areas": null,
       "grid_template_columns": null,
       "grid_template_rows": null,
       "height": null,
       "justify_content": null,
       "justify_items": null,
       "left": null,
       "margin": null,
       "max_height": null,
       "max_width": null,
       "min_height": null,
       "min_width": null,
       "object_fit": null,
       "object_position": null,
       "order": null,
       "overflow": null,
       "overflow_x": null,
       "overflow_y": null,
       "padding": null,
       "right": null,
       "top": null,
       "visibility": null,
       "width": null
      }
     },
     "85a708d72c6e44a9bda6951008f718f2": {
      "model_module": "@jupyter-widgets/controls",
      "model_module_version": "1.5.0",
      "model_name": "HTMLModel",
      "state": {
       "_dom_classes": [],
       "_model_module": "@jupyter-widgets/controls",
       "_model_module_version": "1.5.0",
       "_model_name": "HTMLModel",
       "_view_count": null,
       "_view_module": "@jupyter-widgets/controls",
       "_view_module_version": "1.5.0",
       "_view_name": "HTMLView",
       "description": "",
       "description_tooltip": null,
       "layout": "IPY_MODEL_8c7c649b09534da785c9684635e0cd80",
       "placeholder": "​",
       "style": "IPY_MODEL_db5eff87eddf423c8cd4461172279d9e",
       "value": "Downloading vocab.txt: 100%"
      }
     },
     "8b0cfbafba304ff2be613adba97b227c": {
      "model_module": "@jupyter-widgets/controls",
      "model_module_version": "1.5.0",
      "model_name": "FloatProgressModel",
      "state": {
       "_dom_classes": [],
       "_model_module": "@jupyter-widgets/controls",
       "_model_module_version": "1.5.0",
       "_model_name": "FloatProgressModel",
       "_view_count": null,
       "_view_module": "@jupyter-widgets/controls",
       "_view_module_version": "1.5.0",
       "_view_name": "ProgressView",
       "bar_style": "",
       "description": "",
       "description_tooltip": null,
       "layout": "IPY_MODEL_af9078ab968f46e58a037d32ba3c07bc",
       "max": 28930.0,
       "min": 0.0,
       "orientation": "horizontal",
       "style": "IPY_MODEL_0527cef97c774fe686ed34cfc982fff8",
       "value": 28930.0
      }
     },
     "8c7c649b09534da785c9684635e0cd80": {
      "model_module": "@jupyter-widgets/base",
      "model_module_version": "1.2.0",
      "model_name": "LayoutModel",
      "state": {
       "_model_module": "@jupyter-widgets/base",
       "_model_module_version": "1.2.0",
       "_model_name": "LayoutModel",
       "_view_count": null,
       "_view_module": "@jupyter-widgets/base",
       "_view_module_version": "1.2.0",
       "_view_name": "LayoutView",
       "align_content": null,
       "align_items": null,
       "align_self": null,
       "border": null,
       "bottom": null,
       "display": null,
       "flex": null,
       "flex_flow": null,
       "grid_area": null,
       "grid_auto_columns": null,
       "grid_auto_flow": null,
       "grid_auto_rows": null,
       "grid_column": null,
       "grid_gap": null,
       "grid_row": null,
       "grid_template_areas": null,
       "grid_template_columns": null,
       "grid_template_rows": null,
       "height": null,
       "justify_content": null,
       "justify_items": null,
       "left": null,
       "margin": null,
       "max_height": null,
       "max_width": null,
       "min_height": null,
       "min_width": null,
       "object_fit": null,
       "object_position": null,
       "order": null,
       "overflow": null,
       "overflow_x": null,
       "overflow_y": null,
       "padding": null,
       "right": null,
       "top": null,
       "visibility": null,
       "width": null
      }
     },
     "9457f214f1904f4b8d87793469ac0079": {
      "model_module": "@jupyter-widgets/controls",
      "model_module_version": "1.5.0",
      "model_name": "DescriptionStyleModel",
      "state": {
       "_model_module": "@jupyter-widgets/controls",
       "_model_module_version": "1.5.0",
       "_model_name": "DescriptionStyleModel",
       "_view_count": null,
       "_view_module": "@jupyter-widgets/base",
       "_view_module_version": "1.2.0",
       "_view_name": "StyleView",
       "description_width": ""
      }
     },
     "9952cfad803e4ff0bd777a02cb079a55": {
      "model_module": "@jupyter-widgets/base",
      "model_module_version": "1.2.0",
      "model_name": "LayoutModel",
      "state": {
       "_model_module": "@jupyter-widgets/base",
       "_model_module_version": "1.2.0",
       "_model_name": "LayoutModel",
       "_view_count": null,
       "_view_module": "@jupyter-widgets/base",
       "_view_module_version": "1.2.0",
       "_view_name": "LayoutView",
       "align_content": null,
       "align_items": null,
       "align_self": null,
       "border": null,
       "bottom": null,
       "display": null,
       "flex": null,
       "flex_flow": null,
       "grid_area": null,
       "grid_auto_columns": null,
       "grid_auto_flow": null,
       "grid_auto_rows": null,
       "grid_column": null,
       "grid_gap": null,
       "grid_row": null,
       "grid_template_areas": null,
       "grid_template_columns": null,
       "grid_template_rows": null,
       "height": null,
       "justify_content": null,
       "justify_items": null,
       "left": null,
       "margin": null,
       "max_height": null,
       "max_width": null,
       "min_height": null,
       "min_width": null,
       "object_fit": null,
       "object_position": null,
       "order": null,
       "overflow": null,
       "overflow_x": null,
       "overflow_y": null,
       "padding": null,
       "right": null,
       "top": null,
       "visibility": null,
       "width": null
      }
     },
     "9bd74374d1c74bacb36b0191e646a141": {
      "model_module": "@jupyter-widgets/controls",
      "model_module_version": "1.5.0",
      "model_name": "FloatProgressModel",
      "state": {
       "_dom_classes": [],
       "_model_module": "@jupyter-widgets/controls",
       "_model_module_version": "1.5.0",
       "_model_name": "FloatProgressModel",
       "_view_count": null,
       "_view_module": "@jupyter-widgets/controls",
       "_view_module_version": "1.5.0",
       "_view_name": "ProgressView",
       "bar_style": "success",
       "description": "",
       "description_tooltip": null,
       "layout": "IPY_MODEL_e2db1da7a5eb4bd7bc270b39f662c7b0",
       "max": 231508.0,
       "min": 0.0,
       "orientation": "horizontal",
       "style": "IPY_MODEL_003b1d944eb54478b62dbbe9def82c08",
       "value": 231508.0
      }
     },
     "a5cde381b518490aa1850c58daec9e75": {
      "model_module": "@jupyter-widgets/controls",
      "model_module_version": "1.5.0",
      "model_name": "DescriptionStyleModel",
      "state": {
       "_model_module": "@jupyter-widgets/controls",
       "_model_module_version": "1.5.0",
       "_model_name": "DescriptionStyleModel",
       "_view_count": null,
       "_view_module": "@jupyter-widgets/base",
       "_view_module_version": "1.2.0",
       "_view_name": "StyleView",
       "description_width": ""
      }
     },
     "af9078ab968f46e58a037d32ba3c07bc": {
      "model_module": "@jupyter-widgets/base",
      "model_module_version": "1.2.0",
      "model_name": "LayoutModel",
      "state": {
       "_model_module": "@jupyter-widgets/base",
       "_model_module_version": "1.2.0",
       "_model_name": "LayoutModel",
       "_view_count": null,
       "_view_module": "@jupyter-widgets/base",
       "_view_module_version": "1.2.0",
       "_view_name": "LayoutView",
       "align_content": null,
       "align_items": null,
       "align_self": null,
       "border": null,
       "bottom": null,
       "display": null,
       "flex": null,
       "flex_flow": null,
       "grid_area": null,
       "grid_auto_columns": null,
       "grid_auto_flow": null,
       "grid_auto_rows": null,
       "grid_column": null,
       "grid_gap": null,
       "grid_row": null,
       "grid_template_areas": null,
       "grid_template_columns": null,
       "grid_template_rows": null,
       "height": null,
       "justify_content": null,
       "justify_items": null,
       "left": null,
       "margin": null,
       "max_height": null,
       "max_width": null,
       "min_height": null,
       "min_width": null,
       "object_fit": null,
       "object_position": null,
       "order": null,
       "overflow": null,
       "overflow_x": null,
       "overflow_y": null,
       "padding": null,
       "right": null,
       "top": null,
       "visibility": null,
       "width": null
      }
     },
     "b3f54abfb6b5461e9f9e9416baee9ae3": {
      "model_module": "@jupyter-widgets/base",
      "model_module_version": "1.2.0",
      "model_name": "LayoutModel",
      "state": {
       "_model_module": "@jupyter-widgets/base",
       "_model_module_version": "1.2.0",
       "_model_name": "LayoutModel",
       "_view_count": null,
       "_view_module": "@jupyter-widgets/base",
       "_view_module_version": "1.2.0",
       "_view_name": "LayoutView",
       "align_content": null,
       "align_items": null,
       "align_self": null,
       "border": null,
       "bottom": null,
       "display": null,
       "flex": null,
       "flex_flow": null,
       "grid_area": null,
       "grid_auto_columns": null,
       "grid_auto_flow": null,
       "grid_auto_rows": null,
       "grid_column": null,
       "grid_gap": null,
       "grid_row": null,
       "grid_template_areas": null,
       "grid_template_columns": null,
       "grid_template_rows": null,
       "height": null,
       "justify_content": null,
       "justify_items": null,
       "left": null,
       "margin": null,
       "max_height": null,
       "max_width": null,
       "min_height": null,
       "min_width": null,
       "object_fit": null,
       "object_position": null,
       "order": null,
       "overflow": null,
       "overflow_x": null,
       "overflow_y": null,
       "padding": null,
       "right": null,
       "top": null,
       "visibility": null,
       "width": null
      }
     },
     "c05fd2eceade467583ec1dd778d7f288": {
      "model_module": "@jupyter-widgets/controls",
      "model_module_version": "1.5.0",
      "model_name": "ProgressStyleModel",
      "state": {
       "_model_module": "@jupyter-widgets/controls",
       "_model_module_version": "1.5.0",
       "_model_name": "ProgressStyleModel",
       "_view_count": null,
       "_view_module": "@jupyter-widgets/base",
       "_view_module_version": "1.2.0",
       "_view_name": "StyleView",
       "bar_color": null,
       "description_width": ""
      }
     },
     "c11bf3d2ed704372a159d15e426727b5": {
      "model_module": "@jupyter-widgets/controls",
      "model_module_version": "1.5.0",
      "model_name": "HBoxModel",
      "state": {
       "_dom_classes": [],
       "_model_module": "@jupyter-widgets/controls",
       "_model_module_version": "1.5.0",
       "_model_name": "HBoxModel",
       "_view_count": null,
       "_view_module": "@jupyter-widgets/controls",
       "_view_module_version": "1.5.0",
       "_view_name": "HBoxView",
       "box_style": "",
       "children": [
        "IPY_MODEL_1d2fbb91fced4d94bd30d3745f432a28",
        "IPY_MODEL_8b0cfbafba304ff2be613adba97b227c",
        "IPY_MODEL_ce028d8a8e3f40daa3ab7536dc5ea0c6"
       ],
       "layout": "IPY_MODEL_4b13165cf35d41eb8c571b2bce68e71f"
      }
     },
     "c4c0566c72684292a5de64213ca2e2e7": {
      "model_module": "@jupyter-widgets/controls",
      "model_module_version": "1.5.0",
      "model_name": "HTMLModel",
      "state": {
       "_dom_classes": [],
       "_model_module": "@jupyter-widgets/controls",
       "_model_module_version": "1.5.0",
       "_model_name": "HTMLModel",
       "_view_count": null,
       "_view_module": "@jupyter-widgets/controls",
       "_view_module_version": "1.5.0",
       "_view_name": "HTMLView",
       "description": "",
       "description_tooltip": null,
       "layout": "IPY_MODEL_71102c66fcd14684bdec14957d05c1f1",
       "placeholder": "​",
       "style": "IPY_MODEL_1c3090fac552409e8c3cf0ce942c015f",
       "value": " 232k/232k [00:00&lt;00:00, 6.98MB/s]"
      }
     },
     "c95e6b46fc064459b1a5f56593494d11": {
      "model_module": "@jupyter-widgets/controls",
      "model_module_version": "1.5.0",
      "model_name": "FloatProgressModel",
      "state": {
       "_dom_classes": [],
       "_model_module": "@jupyter-widgets/controls",
       "_model_module_version": "1.5.0",
       "_model_name": "FloatProgressModel",
       "_view_count": null,
       "_view_module": "@jupyter-widgets/controls",
       "_view_module_version": "1.5.0",
       "_view_name": "ProgressView",
       "bar_style": "success",
       "description": "",
       "description_tooltip": null,
       "layout": "IPY_MODEL_4d33285b93db4d3fb1ca96c71158fcd1",
       "max": 17739144.0,
       "min": 0.0,
       "orientation": "horizontal",
       "style": "IPY_MODEL_c05fd2eceade467583ec1dd778d7f288",
       "value": 17739144.0
      }
     },
     "ce028d8a8e3f40daa3ab7536dc5ea0c6": {
      "model_module": "@jupyter-widgets/controls",
      "model_module_version": "1.5.0",
      "model_name": "HTMLModel",
      "state": {
       "_dom_classes": [],
       "_model_module": "@jupyter-widgets/controls",
       "_model_module_version": "1.5.0",
       "_model_name": "HTMLModel",
       "_view_count": null,
       "_view_module": "@jupyter-widgets/controls",
       "_view_module_version": "1.5.0",
       "_view_name": "HTMLView",
       "description": "",
       "description_tooltip": null,
       "layout": "IPY_MODEL_d33d76f316f84fa4ad2559bbcd8f7631",
       "placeholder": "​",
       "style": "IPY_MODEL_21039e7060be4f21b7757b68eb67f070",
       "value": " 28930/28930 [09:57&lt;00:00, 75.85it/s]"
      }
     },
     "cfa8ed4960464dc9b145ad2888d3563a": {
      "model_module": "@jupyter-widgets/controls",
      "model_module_version": "1.5.0",
      "model_name": "HTMLModel",
      "state": {
       "_dom_classes": [],
       "_model_module": "@jupyter-widgets/controls",
       "_model_module_version": "1.5.0",
       "_model_name": "HTMLModel",
       "_view_count": null,
       "_view_module": "@jupyter-widgets/controls",
       "_view_module_version": "1.5.0",
       "_view_name": "HTMLView",
       "description": "",
       "description_tooltip": null,
       "layout": "IPY_MODEL_9952cfad803e4ff0bd777a02cb079a55",
       "placeholder": "​",
       "style": "IPY_MODEL_46d0ef0e82e44eddb7c9bce5640d33b3",
       "value": " 17.7M/17.7M [00:00&lt;00:00, 39.0MB/s]"
      }
     },
     "cfb8188b200c4365895245a61fe22531": {
      "model_module": "@jupyter-widgets/base",
      "model_module_version": "1.2.0",
      "model_name": "LayoutModel",
      "state": {
       "_model_module": "@jupyter-widgets/base",
       "_model_module_version": "1.2.0",
       "_model_name": "LayoutModel",
       "_view_count": null,
       "_view_module": "@jupyter-widgets/base",
       "_view_module_version": "1.2.0",
       "_view_name": "LayoutView",
       "align_content": null,
       "align_items": null,
       "align_self": null,
       "border": null,
       "bottom": null,
       "display": null,
       "flex": null,
       "flex_flow": null,
       "grid_area": null,
       "grid_auto_columns": null,
       "grid_auto_flow": null,
       "grid_auto_rows": null,
       "grid_column": null,
       "grid_gap": null,
       "grid_row": null,
       "grid_template_areas": null,
       "grid_template_columns": null,
       "grid_template_rows": null,
       "height": null,
       "justify_content": null,
       "justify_items": null,
       "left": null,
       "margin": null,
       "max_height": null,
       "max_width": null,
       "min_height": null,
       "min_width": null,
       "object_fit": null,
       "object_position": null,
       "order": null,
       "overflow": null,
       "overflow_x": null,
       "overflow_y": null,
       "padding": null,
       "right": null,
       "top": null,
       "visibility": null,
       "width": null
      }
     },
     "d33d76f316f84fa4ad2559bbcd8f7631": {
      "model_module": "@jupyter-widgets/base",
      "model_module_version": "1.2.0",
      "model_name": "LayoutModel",
      "state": {
       "_model_module": "@jupyter-widgets/base",
       "_model_module_version": "1.2.0",
       "_model_name": "LayoutModel",
       "_view_count": null,
       "_view_module": "@jupyter-widgets/base",
       "_view_module_version": "1.2.0",
       "_view_name": "LayoutView",
       "align_content": null,
       "align_items": null,
       "align_self": null,
       "border": null,
       "bottom": null,
       "display": null,
       "flex": null,
       "flex_flow": null,
       "grid_area": null,
       "grid_auto_columns": null,
       "grid_auto_flow": null,
       "grid_auto_rows": null,
       "grid_column": null,
       "grid_gap": null,
       "grid_row": null,
       "grid_template_areas": null,
       "grid_template_columns": null,
       "grid_template_rows": null,
       "height": null,
       "justify_content": null,
       "justify_items": null,
       "left": null,
       "margin": null,
       "max_height": null,
       "max_width": null,
       "min_height": null,
       "min_width": null,
       "object_fit": null,
       "object_position": null,
       "order": null,
       "overflow": null,
       "overflow_x": null,
       "overflow_y": null,
       "padding": null,
       "right": null,
       "top": null,
       "visibility": null,
       "width": null
      }
     },
     "db5eff87eddf423c8cd4461172279d9e": {
      "model_module": "@jupyter-widgets/controls",
      "model_module_version": "1.5.0",
      "model_name": "DescriptionStyleModel",
      "state": {
       "_model_module": "@jupyter-widgets/controls",
       "_model_module_version": "1.5.0",
       "_model_name": "DescriptionStyleModel",
       "_view_count": null,
       "_view_module": "@jupyter-widgets/base",
       "_view_module_version": "1.2.0",
       "_view_name": "StyleView",
       "description_width": ""
      }
     },
     "dcb1897c39484027b68993962ef71f9f": {
      "model_module": "@jupyter-widgets/controls",
      "model_module_version": "1.5.0",
      "model_name": "HTMLModel",
      "state": {
       "_dom_classes": [],
       "_model_module": "@jupyter-widgets/controls",
       "_model_module_version": "1.5.0",
       "_model_name": "HTMLModel",
       "_view_count": null,
       "_view_module": "@jupyter-widgets/controls",
       "_view_module_version": "1.5.0",
       "_view_name": "HTMLView",
       "description": "",
       "description_tooltip": null,
       "layout": "IPY_MODEL_2cc62b03b221417f90b13d105cb37799",
       "placeholder": "​",
       "style": "IPY_MODEL_9457f214f1904f4b8d87793469ac0079",
       "value": "Downloading config.json: 100%"
      }
     },
     "e2db1da7a5eb4bd7bc270b39f662c7b0": {
      "model_module": "@jupyter-widgets/base",
      "model_module_version": "1.2.0",
      "model_name": "LayoutModel",
      "state": {
       "_model_module": "@jupyter-widgets/base",
       "_model_module_version": "1.2.0",
       "_model_name": "LayoutModel",
       "_view_count": null,
       "_view_module": "@jupyter-widgets/base",
       "_view_module_version": "1.2.0",
       "_view_name": "LayoutView",
       "align_content": null,
       "align_items": null,
       "align_self": null,
       "border": null,
       "bottom": null,
       "display": null,
       "flex": null,
       "flex_flow": null,
       "grid_area": null,
       "grid_auto_columns": null,
       "grid_auto_flow": null,
       "grid_auto_rows": null,
       "grid_column": null,
       "grid_gap": null,
       "grid_row": null,
       "grid_template_areas": null,
       "grid_template_columns": null,
       "grid_template_rows": null,
       "height": null,
       "justify_content": null,
       "justify_items": null,
       "left": null,
       "margin": null,
       "max_height": null,
       "max_width": null,
       "min_height": null,
       "min_width": null,
       "object_fit": null,
       "object_position": null,
       "order": null,
       "overflow": null,
       "overflow_x": null,
       "overflow_y": null,
       "padding": null,
       "right": null,
       "top": null,
       "visibility": null,
       "width": null
      }
     },
     "f59c5f8ccd6047c38767cb523bf7bc8f": {
      "model_module": "@jupyter-widgets/controls",
      "model_module_version": "1.5.0",
      "model_name": "HTMLModel",
      "state": {
       "_dom_classes": [],
       "_model_module": "@jupyter-widgets/controls",
       "_model_module_version": "1.5.0",
       "_model_name": "HTMLModel",
       "_view_count": null,
       "_view_module": "@jupyter-widgets/controls",
       "_view_module_version": "1.5.0",
       "_view_name": "HTMLView",
       "description": "",
       "description_tooltip": null,
       "layout": "IPY_MODEL_0281507f6eb34811bd0ab83ebc28138c",
       "placeholder": "​",
       "style": "IPY_MODEL_17e8db7ba4ac4575b90beac38e59c451",
       "value": " 382/382 [00:00&lt;00:00, 32.6kB/s]"
      }
     },
     "fa72433c0f4f45d8883165b554acc7b0": {
      "model_module": "@jupyter-widgets/controls",
      "model_module_version": "1.5.0",
      "model_name": "ProgressStyleModel",
      "state": {
       "_model_module": "@jupyter-widgets/controls",
       "_model_module_version": "1.5.0",
       "_model_name": "ProgressStyleModel",
       "_view_count": null,
       "_view_module": "@jupyter-widgets/base",
       "_view_module_version": "1.2.0",
       "_view_name": "StyleView",
       "bar_color": null,
       "description_width": ""
      }
     },
     "fe22db673ba04cc287fc03d9d4538c03": {
      "model_module": "@jupyter-widgets/controls",
      "model_module_version": "1.5.0",
      "model_name": "DescriptionStyleModel",
      "state": {
       "_model_module": "@jupyter-widgets/controls",
       "_model_module_version": "1.5.0",
       "_model_name": "DescriptionStyleModel",
       "_view_count": null,
       "_view_module": "@jupyter-widgets/base",
       "_view_module_version": "1.2.0",
       "_view_name": "StyleView",
       "description_width": ""
      }
     }
    },
    "version_major": 2,
    "version_minor": 0
   }
  }
 },
 "nbformat": 4,
 "nbformat_minor": 5
}
