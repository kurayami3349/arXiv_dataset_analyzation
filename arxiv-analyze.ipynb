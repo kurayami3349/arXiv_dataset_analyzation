{
 "cells": [
  {
   "cell_type": "code",
   "execution_count": 1,
   "id": "3f5b54ed",
   "metadata": {
    "_cell_guid": "b1076dfc-b9ad-4769-8c92-a6c4dae69d19",
    "_uuid": "8f2839f25d086af736a60e9eeb907d3b93b6e0e5",
    "execution": {
     "iopub.execute_input": "2023-12-03T16:13:59.346183Z",
     "iopub.status.busy": "2023-12-03T16:13:59.344962Z",
     "iopub.status.idle": "2023-12-03T16:14:05.074117Z",
     "shell.execute_reply": "2023-12-03T16:14:05.073188Z"
    },
    "papermill": {
     "duration": 5.741984,
     "end_time": "2023-12-03T16:14:05.076480",
     "exception": false,
     "start_time": "2023-12-03T16:13:59.334496",
     "status": "completed"
    },
    "tags": []
   },
   "outputs": [],
   "source": [
    "# This Python 3 environment comes with many helpful analytics libraries installed\n",
    "# It is defined by the kaggle/python Docker image: https://github.com/kaggle/docker-python\n",
    "# For example, here's several helpful packages to load\n",
    "\n",
    "import numpy as np # linear algebra\n",
    "import pandas as pd # data processing, CSV file I/O (e.g. pd.read_csv)\n",
    "\n",
    "# Input data files are available in the read-only \"../input/\" directory\n",
    "# For example, running this (by clicking run or pressing Shift+Enter) will list all files under the input directory\n",
    "\n",
    "import os\n",
    "import re\n",
    "import json\n",
    "import transformers\n",
    "\n",
    "import torch\n",
    "import torch.nn as nn\n",
    "import torch.optim as optim\n",
    "from torch.utils.data import Dataset, DataLoader\n",
    "import matplotlib.pyplot as plt\n",
    "%matplotlib inline"
   ]
  },
  {
   "cell_type": "code",
   "execution_count": 2,
   "id": "b426e6e3",
   "metadata": {
    "execution": {
     "iopub.execute_input": "2023-12-03T16:14:05.095133Z",
     "iopub.status.busy": "2023-12-03T16:14:05.094665Z",
     "iopub.status.idle": "2023-12-03T16:14:05.098871Z",
     "shell.execute_reply": "2023-12-03T16:14:05.098078Z"
    },
    "papermill": {
     "duration": 0.015607,
     "end_time": "2023-12-03T16:14:05.100745",
     "exception": false,
     "start_time": "2023-12-03T16:14:05.085138",
     "status": "completed"
    },
    "tags": []
   },
   "outputs": [],
   "source": [
    "\n",
    "# import json\n",
    "# data_path = \"/kaggle/input/arxiv/arxiv-metadata-oai-snapshot.json\"\n",
    "# with open(data_path) as file:\n",
    "#     lines = file.readlines()\n",
    "#     # print(lines[0])   # str形式的dict\n",
    "\n",
    "# paper_item = json.loads(lines[0])\n",
    "# for key, value in paper_item.items():\n",
    "#     print(key+\" : \", value)"
   ]
  },
  {
   "cell_type": "markdown",
   "id": "4392e216",
   "metadata": {
    "papermill": {
     "duration": 0.007863,
     "end_time": "2023-12-03T16:14:05.116670",
     "exception": false,
     "start_time": "2023-12-03T16:14:05.108807",
     "status": "completed"
    },
    "tags": []
   },
   "source": [
    "# table\n",
    "id | title | authors |categories | abs | date| ...(citation)|"
   ]
  },
  {
   "cell_type": "code",
   "execution_count": 3,
   "id": "63f46074",
   "metadata": {
    "execution": {
     "iopub.execute_input": "2023-12-03T16:14:05.134326Z",
     "iopub.status.busy": "2023-12-03T16:14:05.133961Z",
     "iopub.status.idle": "2023-12-03T16:14:05.138040Z",
     "shell.execute_reply": "2023-12-03T16:14:05.137189Z"
    },
    "papermill": {
     "duration": 0.015175,
     "end_time": "2023-12-03T16:14:05.139879",
     "exception": false,
     "start_time": "2023-12-03T16:14:05.124704",
     "status": "completed"
    },
    "tags": []
   },
   "outputs": [],
   "source": [
    "\n",
    "# papers = []\n",
    "# for line in lines:\n",
    "#     papers.append(json.loads(line))\n",
    "# papers = pd.DataFrame(papers)\n",
    "# papers = papers.drop(columns=[\"comments\",\"journal-ref\",\"doi\",\"report-no\", \"license\"])\n",
    "# papers.head()"
   ]
  },
  {
   "cell_type": "code",
   "execution_count": 4,
   "id": "5b3061b0",
   "metadata": {
    "execution": {
     "iopub.execute_input": "2023-12-03T16:14:05.157289Z",
     "iopub.status.busy": "2023-12-03T16:14:05.156976Z",
     "iopub.status.idle": "2023-12-03T16:14:05.160850Z",
     "shell.execute_reply": "2023-12-03T16:14:05.160001Z"
    },
    "papermill": {
     "duration": 0.014788,
     "end_time": "2023-12-03T16:14:05.162701",
     "exception": false,
     "start_time": "2023-12-03T16:14:05.147913",
     "status": "completed"
    },
    "tags": []
   },
   "outputs": [],
   "source": [
    "\n",
    "# len(papers)   # 2370685\n",
    "# import re\n",
    "# pattern = r\"(^|\\s)cs\\.\"  # 匹配 \"由cs.开头或\\space cs. \"的模式\n",
    "# matches = papers[\"categories\"].str.match(pattern, na=False)\n",
    "\n",
    "# cs_papers = papers[matches]  # len() 462764\n",
    "# cs_papers[\"categories\"].unique()"
   ]
  },
  {
   "cell_type": "code",
   "execution_count": 5,
   "id": "8815eb6c",
   "metadata": {
    "execution": {
     "iopub.execute_input": "2023-12-03T16:14:05.180350Z",
     "iopub.status.busy": "2023-12-03T16:14:05.180000Z",
     "iopub.status.idle": "2023-12-03T16:14:05.183779Z",
     "shell.execute_reply": "2023-12-03T16:14:05.182956Z"
    },
    "papermill": {
     "duration": 0.014841,
     "end_time": "2023-12-03T16:14:05.185693",
     "exception": false,
     "start_time": "2023-12-03T16:14:05.170852",
     "status": "completed"
    },
    "tags": []
   },
   "outputs": [],
   "source": [
    "# cs_papers_path = \"/kaggle/working/cs_papers.json\"\n",
    "# if not os.path.exists(cs_papers_path):\n",
    "#     cs_papers.to_json(cs_papers_path)"
   ]
  },
  {
   "cell_type": "markdown",
   "id": "d4944ba3",
   "metadata": {
    "papermill": {
     "duration": 0.00794,
     "end_time": "2023-12-03T16:14:05.201708",
     "exception": false,
     "start_time": "2023-12-03T16:14:05.193768",
     "status": "completed"
    },
    "tags": []
   },
   "source": [
    "## 考虑利用title和categories训练一个多分类器\n",
    "\n",
    "### TF-IDF 表示标题特征\n",
    "(462764, 101910)\n",
    "TF-IDF生成的矩阵维数太高了，不太行。。。\n",
    "> 后期可以考虑tokenizer + embbeding 表示为向量\n",
    "\n",
    "数据分布不太平均，只含1个label的paper含2个label的paper数量的两倍，是含3个label的paper的数量的5倍。\n",
    "### 训练一个多分类器"
   ]
  },
  {
   "cell_type": "code",
   "execution_count": 6,
   "id": "e3e6a16a",
   "metadata": {
    "_kg_hide-input": false,
    "execution": {
     "iopub.execute_input": "2023-12-03T16:14:05.219349Z",
     "iopub.status.busy": "2023-12-03T16:14:05.218991Z",
     "iopub.status.idle": "2023-12-03T16:15:03.778395Z",
     "shell.execute_reply": "2023-12-03T16:15:03.777501Z"
    },
    "papermill": {
     "duration": 58.579123,
     "end_time": "2023-12-03T16:15:03.788844",
     "exception": false,
     "start_time": "2023-12-03T16:14:05.209721",
     "status": "completed"
    },
    "tags": []
   },
   "outputs": [
    {
     "data": {
      "text/html": [
       "<div>\n",
       "<style scoped>\n",
       "    .dataframe tbody tr th:only-of-type {\n",
       "        vertical-align: middle;\n",
       "    }\n",
       "\n",
       "    .dataframe tbody tr th {\n",
       "        vertical-align: top;\n",
       "    }\n",
       "\n",
       "    .dataframe thead th {\n",
       "        text-align: right;\n",
       "    }\n",
       "</style>\n",
       "<table border=\"1\" class=\"dataframe\">\n",
       "  <thead>\n",
       "    <tr style=\"text-align: right;\">\n",
       "      <th></th>\n",
       "      <th>id</th>\n",
       "      <th>submitter</th>\n",
       "      <th>authors</th>\n",
       "      <th>title</th>\n",
       "      <th>categories</th>\n",
       "      <th>abstract</th>\n",
       "      <th>versions</th>\n",
       "      <th>update_date</th>\n",
       "      <th>authors_parsed</th>\n",
       "    </tr>\n",
       "  </thead>\n",
       "  <tbody>\n",
       "    <tr>\n",
       "      <th>46</th>\n",
       "      <td>0704.0047</td>\n",
       "      <td>Igor Grabec</td>\n",
       "      <td>T. Kosel and I. Grabec</td>\n",
       "      <td>Intelligent location of simultaneously active ...</td>\n",
       "      <td>[cs.NE, cs.AI]</td>\n",
       "      <td>The intelligent acoustic emission locator is...</td>\n",
       "      <td>[{'version': 'v1', 'created': 'Sun, 1 Apr 2007...</td>\n",
       "      <td>2009-09-29</td>\n",
       "      <td>[[Kosel, T., ], [Grabec, I., ]]</td>\n",
       "    </tr>\n",
       "    <tr>\n",
       "      <th>49</th>\n",
       "      <td>0704.0050</td>\n",
       "      <td>Igor Grabec</td>\n",
       "      <td>T. Kosel and I. Grabec</td>\n",
       "      <td>Intelligent location of simultaneously active ...</td>\n",
       "      <td>[cs.NE, cs.AI]</td>\n",
       "      <td>Part I describes an intelligent acoustic emi...</td>\n",
       "      <td>[{'version': 'v1', 'created': 'Sun, 1 Apr 2007...</td>\n",
       "      <td>2007-05-23</td>\n",
       "      <td>[[Kosel, T., ], [Grabec, I., ]]</td>\n",
       "    </tr>\n",
       "    <tr>\n",
       "      <th>61</th>\n",
       "      <td>0704.0062</td>\n",
       "      <td>Tom\\'a\\v{s} Vina\\v{r}</td>\n",
       "      <td>Rastislav \\v{S}r\\'amek, Bro\\v{n}a Brejov\\'a, T...</td>\n",
       "      <td>On-line Viterbi Algorithm and Its Relationship...</td>\n",
       "      <td>[cs.DS]</td>\n",
       "      <td>In this paper, we introduce the on-line Vite...</td>\n",
       "      <td>[{'version': 'v1', 'created': 'Sat, 31 Mar 200...</td>\n",
       "      <td>2010-01-25</td>\n",
       "      <td>[[Šrámek, Rastislav, ], [Brejová, Broňa, ], [V...</td>\n",
       "    </tr>\n",
       "    <tr>\n",
       "      <th>89</th>\n",
       "      <td>0704.0090</td>\n",
       "      <td>Lester Ingber</td>\n",
       "      <td>Lester Ingber</td>\n",
       "      <td>Real Options for Project Schedules (ROPS)</td>\n",
       "      <td>[cs.CE, cs.MS, cs.NA]</td>\n",
       "      <td>Real Options for Project Schedules (ROPS) ha...</td>\n",
       "      <td>[{'version': 'v1', 'created': 'Sun, 1 Apr 2007...</td>\n",
       "      <td>2007-05-23</td>\n",
       "      <td>[[Ingber, Lester, ]]</td>\n",
       "    </tr>\n",
       "    <tr>\n",
       "      <th>97</th>\n",
       "      <td>0704.0098</td>\n",
       "      <td>Jack Raymond</td>\n",
       "      <td>Jack Raymond, David Saad</td>\n",
       "      <td>Sparsely-spread CDMA - a statistical mechanics...</td>\n",
       "      <td>[cs.IT]</td>\n",
       "      <td>Sparse Code Division Multiple Access (CDMA),...</td>\n",
       "      <td>[{'version': 'v1', 'created': 'Sun, 1 Apr 2007...</td>\n",
       "      <td>2009-11-13</td>\n",
       "      <td>[[Raymond, Jack, ], [Saad, David, ]]</td>\n",
       "    </tr>\n",
       "  </tbody>\n",
       "</table>\n",
       "</div>"
      ],
      "text/plain": [
       "           id              submitter  \\\n",
       "46  0704.0047            Igor Grabec   \n",
       "49  0704.0050            Igor Grabec   \n",
       "61  0704.0062  Tom\\'a\\v{s} Vina\\v{r}   \n",
       "89  0704.0090          Lester Ingber   \n",
       "97  0704.0098           Jack Raymond   \n",
       "\n",
       "                                              authors  \\\n",
       "46                             T. Kosel and I. Grabec   \n",
       "49                             T. Kosel and I. Grabec   \n",
       "61  Rastislav \\v{S}r\\'amek, Bro\\v{n}a Brejov\\'a, T...   \n",
       "89                                      Lester Ingber   \n",
       "97                           Jack Raymond, David Saad   \n",
       "\n",
       "                                                title             categories  \\\n",
       "46  Intelligent location of simultaneously active ...         [cs.NE, cs.AI]   \n",
       "49  Intelligent location of simultaneously active ...         [cs.NE, cs.AI]   \n",
       "61  On-line Viterbi Algorithm and Its Relationship...                [cs.DS]   \n",
       "89          Real Options for Project Schedules (ROPS)  [cs.CE, cs.MS, cs.NA]   \n",
       "97  Sparsely-spread CDMA - a statistical mechanics...                [cs.IT]   \n",
       "\n",
       "                                             abstract  \\\n",
       "46    The intelligent acoustic emission locator is...   \n",
       "49    Part I describes an intelligent acoustic emi...   \n",
       "61    In this paper, we introduce the on-line Vite...   \n",
       "89    Real Options for Project Schedules (ROPS) ha...   \n",
       "97    Sparse Code Division Multiple Access (CDMA),...   \n",
       "\n",
       "                                             versions update_date  \\\n",
       "46  [{'version': 'v1', 'created': 'Sun, 1 Apr 2007...  2009-09-29   \n",
       "49  [{'version': 'v1', 'created': 'Sun, 1 Apr 2007...  2007-05-23   \n",
       "61  [{'version': 'v1', 'created': 'Sat, 31 Mar 200...  2010-01-25   \n",
       "89  [{'version': 'v1', 'created': 'Sun, 1 Apr 2007...  2007-05-23   \n",
       "97  [{'version': 'v1', 'created': 'Sun, 1 Apr 2007...  2009-11-13   \n",
       "\n",
       "                                       authors_parsed  \n",
       "46                    [[Kosel, T., ], [Grabec, I., ]]  \n",
       "49                    [[Kosel, T., ], [Grabec, I., ]]  \n",
       "61  [[Šrámek, Rastislav, ], [Brejová, Broňa, ], [V...  \n",
       "89                               [[Ingber, Lester, ]]  \n",
       "97               [[Raymond, Jack, ], [Saad, David, ]]  "
      ]
     },
     "execution_count": 6,
     "metadata": {},
     "output_type": "execute_result"
    }
   ],
   "source": [
    "\n",
    "# # 需要去除categories中非cs的标签\n",
    "# # 首先将categories 字符串分割，只保留cs标签\n",
    "# # 构建 (id) tittle : [\"cs.label1\", \"cs.label2\"]\n",
    "cs_papers_path = \"/kaggle/input/mydatasets/cs_papers.json\"\n",
    "with open(cs_papers_path, \"r\") as f:\n",
    "        cs_papers = pd.DataFrame(json.load(f))\n",
    "        \n",
    "for index, row in cs_papers.iterrows():\n",
    "    words = row[\"categories\"].split()\n",
    "    processed_words = [word for word in words if word.startswith('cs.')]\n",
    "    \n",
    "    cs_papers.at[index, \"categories\"] = processed_words\n",
    "\n",
    "cs_papers.head()"
   ]
  },
  {
   "cell_type": "code",
   "execution_count": 7,
   "id": "a1bac1cd",
   "metadata": {
    "execution": {
     "iopub.execute_input": "2023-12-03T16:15:03.806981Z",
     "iopub.status.busy": "2023-12-03T16:15:03.806593Z",
     "iopub.status.idle": "2023-12-03T16:15:03.810708Z",
     "shell.execute_reply": "2023-12-03T16:15:03.809875Z"
    },
    "papermill": {
     "duration": 0.015489,
     "end_time": "2023-12-03T16:15:03.812700",
     "exception": false,
     "start_time": "2023-12-03T16:15:03.797211",
     "status": "completed"
    },
    "tags": []
   },
   "outputs": [],
   "source": [
    "\n",
    "# title_categories = cs_papers[[\"title\", \"categories\"]]\n",
    "# title_categories.head()\n"
   ]
  },
  {
   "cell_type": "code",
   "execution_count": 8,
   "id": "0463665b",
   "metadata": {
    "execution": {
     "iopub.execute_input": "2023-12-03T16:15:03.830948Z",
     "iopub.status.busy": "2023-12-03T16:15:03.830387Z",
     "iopub.status.idle": "2023-12-03T16:15:03.875837Z",
     "shell.execute_reply": "2023-12-03T16:15:03.874855Z"
    },
    "papermill": {
     "duration": 0.056845,
     "end_time": "2023-12-03T16:15:03.877853",
     "exception": false,
     "start_time": "2023-12-03T16:15:03.821008",
     "status": "completed"
    },
    "tags": []
   },
   "outputs": [
    {
     "data": {
      "text/html": [
       "<div>\n",
       "<style scoped>\n",
       "    .dataframe tbody tr th:only-of-type {\n",
       "        vertical-align: middle;\n",
       "    }\n",
       "\n",
       "    .dataframe tbody tr th {\n",
       "        vertical-align: top;\n",
       "    }\n",
       "\n",
       "    .dataframe thead th {\n",
       "        text-align: right;\n",
       "    }\n",
       "</style>\n",
       "<table border=\"1\" class=\"dataframe\">\n",
       "  <thead>\n",
       "    <tr style=\"text-align: right;\">\n",
       "      <th></th>\n",
       "      <th>title</th>\n",
       "      <th>abstract</th>\n",
       "      <th>categories</th>\n",
       "    </tr>\n",
       "  </thead>\n",
       "  <tbody>\n",
       "    <tr>\n",
       "      <th>46</th>\n",
       "      <td>Intelligent location of simultaneously active ...</td>\n",
       "      <td>The intelligent acoustic emission locator is...</td>\n",
       "      <td>[cs.NE, cs.AI]</td>\n",
       "    </tr>\n",
       "    <tr>\n",
       "      <th>49</th>\n",
       "      <td>Intelligent location of simultaneously active ...</td>\n",
       "      <td>Part I describes an intelligent acoustic emi...</td>\n",
       "      <td>[cs.NE, cs.AI]</td>\n",
       "    </tr>\n",
       "    <tr>\n",
       "      <th>61</th>\n",
       "      <td>On-line Viterbi Algorithm and Its Relationship...</td>\n",
       "      <td>In this paper, we introduce the on-line Vite...</td>\n",
       "      <td>[cs.DS]</td>\n",
       "    </tr>\n",
       "    <tr>\n",
       "      <th>89</th>\n",
       "      <td>Real Options for Project Schedules (ROPS)</td>\n",
       "      <td>Real Options for Project Schedules (ROPS) ha...</td>\n",
       "      <td>[cs.CE, cs.MS, cs.NA]</td>\n",
       "    </tr>\n",
       "    <tr>\n",
       "      <th>97</th>\n",
       "      <td>Sparsely-spread CDMA - a statistical mechanics...</td>\n",
       "      <td>Sparse Code Division Multiple Access (CDMA),...</td>\n",
       "      <td>[cs.IT]</td>\n",
       "    </tr>\n",
       "  </tbody>\n",
       "</table>\n",
       "</div>"
      ],
      "text/plain": [
       "                                                title  \\\n",
       "46  Intelligent location of simultaneously active ...   \n",
       "49  Intelligent location of simultaneously active ...   \n",
       "61  On-line Viterbi Algorithm and Its Relationship...   \n",
       "89          Real Options for Project Schedules (ROPS)   \n",
       "97  Sparsely-spread CDMA - a statistical mechanics...   \n",
       "\n",
       "                                             abstract             categories  \n",
       "46    The intelligent acoustic emission locator is...         [cs.NE, cs.AI]  \n",
       "49    Part I describes an intelligent acoustic emi...         [cs.NE, cs.AI]  \n",
       "61    In this paper, we introduce the on-line Vite...                [cs.DS]  \n",
       "89    Real Options for Project Schedules (ROPS) ha...  [cs.CE, cs.MS, cs.NA]  \n",
       "97    Sparse Code Division Multiple Access (CDMA),...                [cs.IT]  "
      ]
     },
     "execution_count": 8,
     "metadata": {},
     "output_type": "execute_result"
    }
   ],
   "source": [
    "title_abs_categories = cs_papers[[\"title\", \"abstract\",\"categories\"]]\n",
    "title_abs_categories.head()"
   ]
  },
  {
   "cell_type": "code",
   "execution_count": 9,
   "id": "f0c099fb",
   "metadata": {
    "execution": {
     "iopub.execute_input": "2023-12-03T16:15:03.897789Z",
     "iopub.status.busy": "2023-12-03T16:15:03.896964Z",
     "iopub.status.idle": "2023-12-03T16:15:09.992926Z",
     "shell.execute_reply": "2023-12-03T16:15:09.991777Z"
    },
    "papermill": {
     "duration": 6.108524,
     "end_time": "2023-12-03T16:15:09.995164",
     "exception": false,
     "start_time": "2023-12-03T16:15:03.886640",
     "status": "completed"
    },
    "tags": []
   },
   "outputs": [
    {
     "data": {
      "image/png": "[encoded data removed]",
      "text/plain": [
       "<Figure size 640x480 with 1 Axes>"
      ]
     },
     "metadata": {},
     "output_type": "display_data"
    }
   ],
   "source": [
    "abstract_word_counts = {}\n",
    "for title in title_abs_categories[\"abstract\"]:\n",
    "    abstract_parsed = title.split()\n",
    "    abstract_word_counts[len(abstract_parsed)] = abstract_word_counts.get(len(abstract_parsed), 0) + 1\n",
    "\n",
    "#for key in sorted(abstract_word_counts.keys()):\n",
    "#    print(\"num_words=\", key, \": \", abstract_word_counts[key])\n",
    "# max is ?\n",
    "    \n",
    "plt.bar(sorted(abstract_word_counts.keys()), [abstract_word_counts[key] for key in sorted(abstract_word_counts.keys())])\n",
    "plt.xticks(rotation=60)\n",
    "plt.xlabel(\"num words of abstract\")\n",
    "plt.ylabel(\"Counts\")\n",
    "plt.tight_layout()\n",
    "plt.show()"
   ]
  },
  {
   "cell_type": "code",
   "execution_count": 10,
   "id": "f0705435",
   "metadata": {
    "execution": {
     "iopub.execute_input": "2023-12-03T16:15:10.015368Z",
     "iopub.status.busy": "2023-12-03T16:15:10.015009Z",
     "iopub.status.idle": "2023-12-03T16:15:10.019115Z",
     "shell.execute_reply": "2023-12-03T16:15:10.018292Z"
    },
    "papermill": {
     "duration": 0.016497,
     "end_time": "2023-12-03T16:15:10.020960",
     "exception": false,
     "start_time": "2023-12-03T16:15:10.004463",
     "status": "completed"
    },
    "tags": []
   },
   "outputs": [],
   "source": [
    "\n",
    "# title_categories_path = \"/kaggle/working/title_categories.json\"\n",
    "# title_abs_categories_path = \"/kaggle/working/title_abs_categories.json\"\n",
    "# if not os.path.exists(title_abs_categories_path):\n",
    "#     title_abs_categories.to_json(title_abs_categories_path)\n",
    "# if not os.path.exists(title_categories_path):\n",
    "#     title_categories.to_json(title_categories_path)"
   ]
  },
  {
   "cell_type": "markdown",
   "id": "568ba93d",
   "metadata": {
    "papermill": {
     "duration": 0.008686,
     "end_time": "2023-12-03T16:15:10.038964",
     "exception": false,
     "start_time": "2023-12-03T16:15:10.030278",
     "status": "completed"
    },
    "tags": []
   },
   "source": [
    "# 从这里开始title-categories的分类"
   ]
  },
  {
   "cell_type": "code",
   "execution_count": 11,
   "id": "b814f03b",
   "metadata": {
    "execution": {
     "iopub.execute_input": "2023-12-03T16:15:10.059406Z",
     "iopub.status.busy": "2023-12-03T16:15:10.058713Z",
     "iopub.status.idle": "2023-12-03T16:15:13.003126Z",
     "shell.execute_reply": "2023-12-03T16:15:13.002253Z"
    },
    "papermill": {
     "duration": 2.956849,
     "end_time": "2023-12-03T16:15:13.005280",
     "exception": false,
     "start_time": "2023-12-03T16:15:10.048431",
     "status": "completed"
    },
    "tags": []
   },
   "outputs": [
    {
     "data": {
      "text/html": [
       "<div>\n",
       "<style scoped>\n",
       "    .dataframe tbody tr th:only-of-type {\n",
       "        vertical-align: middle;\n",
       "    }\n",
       "\n",
       "    .dataframe tbody tr th {\n",
       "        vertical-align: top;\n",
       "    }\n",
       "\n",
       "    .dataframe thead th {\n",
       "        text-align: right;\n",
       "    }\n",
       "</style>\n",
       "<table border=\"1\" class=\"dataframe\">\n",
       "  <thead>\n",
       "    <tr style=\"text-align: right;\">\n",
       "      <th></th>\n",
       "      <th>title</th>\n",
       "      <th>categories</th>\n",
       "    </tr>\n",
       "  </thead>\n",
       "  <tbody>\n",
       "    <tr>\n",
       "      <th>46</th>\n",
       "      <td>Intelligent location of simultaneously active ...</td>\n",
       "      <td>[cs.NE, cs.AI]</td>\n",
       "    </tr>\n",
       "    <tr>\n",
       "      <th>49</th>\n",
       "      <td>Intelligent location of simultaneously active ...</td>\n",
       "      <td>[cs.NE, cs.AI]</td>\n",
       "    </tr>\n",
       "    <tr>\n",
       "      <th>61</th>\n",
       "      <td>On-line Viterbi Algorithm and Its Relationship...</td>\n",
       "      <td>[cs.DS]</td>\n",
       "    </tr>\n",
       "    <tr>\n",
       "      <th>89</th>\n",
       "      <td>Real Options for Project Schedules (ROPS)</td>\n",
       "      <td>[cs.CE, cs.MS, cs.NA]</td>\n",
       "    </tr>\n",
       "    <tr>\n",
       "      <th>97</th>\n",
       "      <td>Sparsely-spread CDMA - a statistical mechanics...</td>\n",
       "      <td>[cs.IT]</td>\n",
       "    </tr>\n",
       "  </tbody>\n",
       "</table>\n",
       "</div>"
      ],
      "text/plain": [
       "                                                title             categories\n",
       "46  Intelligent location of simultaneously active ...         [cs.NE, cs.AI]\n",
       "49  Intelligent location of simultaneously active ...         [cs.NE, cs.AI]\n",
       "61  On-line Viterbi Algorithm and Its Relationship...                [cs.DS]\n",
       "89          Real Options for Project Schedules (ROPS)  [cs.CE, cs.MS, cs.NA]\n",
       "97  Sparsely-spread CDMA - a statistical mechanics...                [cs.IT]"
      ]
     },
     "execution_count": 11,
     "metadata": {},
     "output_type": "execute_result"
    }
   ],
   "source": [
    "title_categories_path = \"/kaggle/input/mydatasets/title_categories.json\"\n",
    "\n",
    "with open(title_categories_path, \"r\") as f:\n",
    "    title_categories = pd.DataFrame(json.load(f))\n",
    "title_categories.head()"
   ]
  },
  {
   "cell_type": "code",
   "execution_count": 12,
   "id": "91b9e028",
   "metadata": {
    "execution": {
     "iopub.execute_input": "2023-12-03T16:15:13.026463Z",
     "iopub.status.busy": "2023-12-03T16:15:13.025705Z",
     "iopub.status.idle": "2023-12-03T16:15:14.171840Z",
     "shell.execute_reply": "2023-12-03T16:15:14.170861Z"
    },
    "papermill": {
     "duration": 1.158516,
     "end_time": "2023-12-03T16:15:14.173876",
     "exception": false,
     "start_time": "2023-12-03T16:15:13.015360",
     "status": "completed"
    },
    "tags": []
   },
   "outputs": [
    {
     "name": "stdout",
     "output_type": "stream",
     "text": [
      "{2: 136602, 1: 276364, 3: 40881, 4: 7712, 5: 1174, 7: 3, 6: 28}\n"
     ]
    },
    {
     "data": {
      "image/png": "[encoded data removed]",
      "text/plain": [
       "<Figure size 640x480 with 1 Axes>"
      ]
     },
     "metadata": {},
     "output_type": "display_data"
    }
   ],
   "source": [
    "labels_counts = {}\n",
    "multi_label_counts = {}\n",
    "for labels in title_categories[\"categories\"]:\n",
    "    multi_label_counts[len(labels)] = multi_label_counts.get(len(labels), 0) + 1\n",
    "    for label in labels:\n",
    "        labels_counts[label] = labels_counts.get(label, 0) + 1\n",
    "\n",
    "print(multi_label_counts)\n",
    "label_set = sorted(labels_counts.keys())\n",
    "# 40 类\n",
    "plt.bar(label_set, [labels_counts[key] for key in label_set])\n",
    "plt.xticks(rotation=60)\n",
    "plt.xlabel(\"label name\")\n",
    "plt.ylabel(\"Counts\")\n",
    "plt.tight_layout()\n",
    "plt.show()\n"
   ]
  },
  {
   "cell_type": "markdown",
   "id": "33ef7fde",
   "metadata": {
    "papermill": {
     "duration": 0.009741,
     "end_time": "2023-12-03T16:15:14.193836",
     "exception": false,
     "start_time": "2023-12-03T16:15:14.184095",
     "status": "completed"
    },
    "tags": []
   },
   "source": [
    "## multi_label_counts：\n",
    "- num_labels : counts\n",
    "- 1 :  276364\n",
    "- 2 :  136602\n",
    "- 3 :  40881\n",
    "- 4 :  7712\n",
    "- 5 :  1174\n",
    "- 6 :  28\n",
    "- 7 :  3\n",
    "\n",
    "绝大多数的paper的label个数在5个以内，大多数在3个以内。"
   ]
  },
  {
   "cell_type": "code",
   "execution_count": 13,
   "id": "b925db23",
   "metadata": {
    "execution": {
     "iopub.execute_input": "2023-12-03T16:15:14.215041Z",
     "iopub.status.busy": "2023-12-03T16:15:14.214690Z",
     "iopub.status.idle": "2023-12-03T16:15:15.154315Z",
     "shell.execute_reply": "2023-12-03T16:15:15.153375Z"
    },
    "papermill": {
     "duration": 0.952891,
     "end_time": "2023-12-03T16:15:15.156538",
     "exception": false,
     "start_time": "2023-12-03T16:15:14.203647",
     "status": "completed"
    },
    "tags": []
   },
   "outputs": [
    {
     "data": {
      "image/png": "[encoded data removed]",
      "text/plain": [
       "<Figure size 640x480 with 1 Axes>"
      ]
     },
     "metadata": {},
     "output_type": "display_data"
    }
   ],
   "source": [
    "title_word_counts = {}\n",
    "for title in title_categories[\"title\"]:\n",
    "    title_parsed = title.split()\n",
    "    title_word_counts[len(title_parsed)] = title_word_counts.get(len(title_parsed), 0) + 1\n",
    "\n",
    "#for key in sorted(title_word_counts.keys()):\n",
    "#    print(\"num_words=\", key, \": \", title_word_counts[key])\n",
    "# max is 37\n",
    "    \n",
    "plt.bar(sorted(title_word_counts.keys()), [title_word_counts[key] for key in sorted(title_word_counts.keys())])\n",
    "plt.xticks(rotation=60)\n",
    "plt.xlabel(\"num words of title\")\n",
    "plt.ylabel(\"Counts\")\n",
    "plt.tight_layout()\n",
    "plt.show()\n",
    "    "
   ]
  },
  {
   "cell_type": "code",
   "execution_count": 14,
   "id": "8d136780",
   "metadata": {
    "execution": {
     "iopub.execute_input": "2023-12-03T16:15:15.179388Z",
     "iopub.status.busy": "2023-12-03T16:15:15.179057Z",
     "iopub.status.idle": "2023-12-03T16:15:55.313948Z",
     "shell.execute_reply": "2023-12-03T16:15:55.312965Z"
    },
    "papermill": {
     "duration": 40.158721,
     "end_time": "2023-12-03T16:15:55.326190",
     "exception": false,
     "start_time": "2023-12-03T16:15:15.167469",
     "status": "completed"
    },
    "tags": []
   },
   "outputs": [
    {
     "name": "stdout",
     "output_type": "stream",
     "text": [
      "                                                 title categories\n",
      "61   On-line Viterbi Algorithm and Its Relationship...    [cs.DS]\n",
      "97   Sparsely-spread CDMA - a statistical mechanics...    [cs.IT]\n",
      "107                              Reducing SAT to 2-SAT    [cs.CC]\n",
      "212  Geometric Complexity Theory V: On deciding non...    [cs.CC]\n",
      "216  Capacity of a Multiple-Antenna Fading Channel ...    [cs.IT]\n",
      "                                                 title      categories\n",
      "46   Intelligent location of simultaneously active ...  [cs.NE, cs.AI]\n",
      "49   Intelligent location of simultaneously active ...  [cs.NE, cs.AI]\n",
      "217  On Almost Periodicity Criteria for Morphic Seq...  [cs.DM, cs.LO]\n",
      "281  On Punctured Pragmatic Space-Time Codes in Blo...  [cs.IT, cs.CC]\n",
      "303                  The World as Evolving Information  [cs.IT, cs.AI]\n",
      "                                                  title             categories\n",
      "89            Real Options for Project Schedules (ROPS)  [cs.CE, cs.MS, cs.NA]\n",
      "1027    A neural network approach to ordinal regression  [cs.LG, cs.AI, cs.NE]\n",
      "1674  Exploiting Social Annotation for Automatic Res...  [cs.AI, cs.CY, cs.DL]\n",
      "1782  Unicast and Multicast Qos Routing with Soft Co...  [cs.LO, cs.AI, cs.NI]\n",
      "3645  Lower Bounds on Implementing Robust and Resili...  [cs.GT, cs.CR, cs.DC]\n"
     ]
    }
   ],
   "source": [
    "one_label, two_label, three_label = [], [], []\n",
    "for index, row in title_categories.iterrows():\n",
    "    num_label = len(row[\"categories\"])\n",
    "    if num_label == 1:\n",
    "        one_label.append(row)\n",
    "    elif num_label == 2:\n",
    "        two_label.append(row)\n",
    "    elif num_label == 3:\n",
    "        three_label.append(row)\n",
    "\n",
    "\n",
    "one_label, two_label, three_label = pd.DataFrame(one_label), pd.DataFrame(two_label), pd.DataFrame(three_label)\n",
    "print(one_label.head())\n",
    "print(two_label.head())\n",
    "print(three_label.head())\n",
    "sample_size = 30720\n",
    "sample1 = one_label.sample(sample_size, replace=False)\n",
    "sample2 = two_label.sample(sample_size, replace=False)\n",
    "sample3 = three_label.sample(sample_size, replace=False)"
   ]
  },
  {
   "cell_type": "code",
   "execution_count": 15,
   "id": "65371aa0",
   "metadata": {
    "execution": {
     "iopub.execute_input": "2023-12-03T16:15:55.348408Z",
     "iopub.status.busy": "2023-12-03T16:15:55.348054Z",
     "iopub.status.idle": "2023-12-03T16:15:57.651386Z",
     "shell.execute_reply": "2023-12-03T16:15:57.650356Z"
    },
    "papermill": {
     "duration": 2.316833,
     "end_time": "2023-12-03T16:15:57.653452",
     "exception": false,
     "start_time": "2023-12-03T16:15:55.336619",
     "status": "completed"
    },
    "tags": []
   },
   "outputs": [
    {
     "data": {
      "application/vnd.jupyter.widget-view+json": {
       "model_id": "9e83ed5b576e483894aaee2d75a6a2ae",
       "version_major": 2,
       "version_minor": 0
      },
      "text/plain": [
       "Downloading config.json:   0%|          | 0.00/382 [00:00<?, ?B/s]"
      ]
     },
     "metadata": {},
     "output_type": "display_data"
    },
    {
     "data": {
      "application/vnd.jupyter.widget-view+json": {
       "model_id": "88266d46daf242e1b756e3a782557653",
       "version_major": 2,
       "version_minor": 0
      },
      "text/plain": [
       "Downloading model.safetensors:   0%|          | 0.00/17.7M [00:00<?, ?B/s]"
      ]
     },
     "metadata": {},
     "output_type": "display_data"
    },
    {
     "data": {
      "application/vnd.jupyter.widget-view+json": {
       "model_id": "c0dad67438a74ebbbed9dc875fff0381",
       "version_major": 2,
       "version_minor": 0
      },
      "text/plain": [
       "Downloading vocab.txt:   0%|          | 0.00/232k [00:00<?, ?B/s]"
      ]
     },
     "metadata": {},
     "output_type": "display_data"
    },
    {
     "data": {
      "text/plain": [
       "30522"
      ]
     },
     "execution_count": 15,
     "metadata": {},
     "output_type": "execute_result"
    }
   ],
   "source": [
    "# Load model directly\n",
    "from transformers import BertModel,BertTokenizer\n",
    "model_name = \"google/bert_uncased_L-2_H-128_A-2\"\n",
    "bert_model = BertModel.from_pretrained(model_name)\n",
    "tokenizer = BertTokenizer.from_pretrained(model_name)\n",
    "tokenizer.vocab_size"
   ]
  },
  {
   "cell_type": "code",
   "execution_count": 16,
   "id": "424a631a",
   "metadata": {
    "execution": {
     "iopub.execute_input": "2023-12-03T16:15:57.677027Z",
     "iopub.status.busy": "2023-12-03T16:15:57.676585Z",
     "iopub.status.idle": "2023-12-03T16:15:58.672244Z",
     "shell.execute_reply": "2023-12-03T16:15:58.671363Z"
    },
    "papermill": {
     "duration": 1.010084,
     "end_time": "2023-12-03T16:15:58.674689",
     "exception": false,
     "start_time": "2023-12-03T16:15:57.664605",
     "status": "completed"
    },
    "tags": []
   },
   "outputs": [
    {
     "name": "stderr",
     "output_type": "stream",
     "text": [
      "/opt/conda/lib/python3.10/site-packages/scipy/__init__.py:146: UserWarning: A NumPy version >=1.16.5 and <1.23.0 is required for this version of SciPy (detected version 1.24.3\n",
      "  warnings.warn(f\"A NumPy version >={np_minversion} and <{np_maxversion}\"\n"
     ]
    }
   ],
   "source": [
    "from sklearn.preprocessing import MultiLabelBinarizer\n",
    "from sklearn.model_selection import train_test_split\n",
    "def make_train_val_data(title_categories:pd.DataFrame, val_radio, label_set, ):\n",
    "\n",
    "    Binarizer = MultiLabelBinarizer(classes=label_set)\n",
    "    # 将label列表转换成k-hot形式的multi-labels\n",
    "    y_multilabels = Binarizer.fit_transform(title_categories[\"categories\"].values)\n",
    "    print(y_multilabels[0])\n",
    "    out = tokenizer.batch_encode_plus(title_categories[\"title\"].to_list(), max_length=16,\n",
    "                                    padding=\"max_length\", truncation=True)\n",
    "   \n",
    "    input_ids = np.array(out['input_ids'])\n",
    "    attention_masks = np.array(out['attention_mask'])\n",
    "    print(input_ids[0], attention_masks[0])\n",
    "    x_train, x_val, mask_train, mask_val, y_train, y_val = train_test_split(input_ids, attention_masks, y_multilabels, test_size=val_radio, random_state=49)\n",
    "    return (x_train, mask_train, y_train), (x_val, mask_val, y_val)\n"
   ]
  },
  {
   "cell_type": "code",
   "execution_count": 17,
   "id": "9a74c55c",
   "metadata": {
    "execution": {
     "iopub.execute_input": "2023-12-03T16:15:58.699990Z",
     "iopub.status.busy": "2023-12-03T16:15:58.699627Z",
     "iopub.status.idle": "2023-12-03T16:16:50.500574Z",
     "shell.execute_reply": "2023-12-03T16:16:50.499533Z"
    },
    "papermill": {
     "duration": 51.816078,
     "end_time": "2023-12-03T16:16:50.502728",
     "exception": false,
     "start_time": "2023-12-03T16:15:58.686650",
     "status": "completed"
    },
    "tags": []
   },
   "outputs": [
    {
     "name": "stdout",
     "output_type": "stream",
     "text": [
      "[0 0 0 0 0 0 0 0 0 0 0 0 0 0 0 0 0 0 0 0 0 1 0 0 0 0 0 0 0 0 0 0 0 0 0 0 0\n",
      " 0 0 0]\n",
      "[  101  2006  8536  1011  3132  2779  3446  1997  5292  2099  4160  1011\n",
      "  2241 16014  2953   102] [1 1 1 1 1 1 1 1 1 1 1 1 1 1 1 1]\n",
      "[0 0 1 0 0 0 0 0 0 0 0 0 0 1 0 0 0 0 0 0 0 0 0 0 0 0 0 0 0 0 0 0 0 0 0 0 0\n",
      " 0 0 0]\n",
      "[ 101 6975 4106 1997 2693 1011 2000 1011 2392 1011 2030 1011 2690 1006\n",
      " 1049  102] [1 1 1 1 1 1 1 1 1 1 1 1 1 1 1 1]\n",
      "[0 0 0 0 0 0 0 1 0 0 0 0 0 0 0 0 0 0 0 0 0 0 1 0 0 0 0 0 1 0 0 0 0 0 0 0 0\n",
      " 0 0 0]\n",
      "[  101  9844 15756 10425  1024  4651  2013  5038  2000 11061  3945   102\n",
      "     0     0     0     0] [1 1 1 1 1 1 1 1 1 1 1 1 0 0 0 0]\n"
     ]
    }
   ],
   "source": [
    "val_radio = 0.2\n",
    "one_train, one_val = make_train_val_data(sample1, val_radio, label_set)\n",
    "two_train, two_val = make_train_val_data(sample2, val_radio, label_set)\n",
    "three_train, three_val = make_train_val_data(sample3, val_radio, label_set)\n",
    "# train data\n",
    "x_train = np.concatenate((one_train[0], two_train[0], three_train[0]), axis=0)\n",
    "mask_train = np.concatenate((one_train[1], two_train[1], three_train[1]), axis=0)\n",
    "y_train = np.concatenate((one_train[2], two_train[2], three_train[2]), axis=0)\n",
    "# val data\n",
    "x_val = np.concatenate((one_val[0], two_val[0], three_val[0]), axis=0)\n",
    "mask_val = np.concatenate((one_val[1], two_val[1], three_val[1]), axis=0)\n",
    "y_val = np.concatenate((one_val[2], two_val[2], three_val[2]), axis=0)"
   ]
  },
  {
   "cell_type": "code",
   "execution_count": 18,
   "id": "3f8bf26f",
   "metadata": {
    "execution": {
     "iopub.execute_input": "2023-12-03T16:16:50.527505Z",
     "iopub.status.busy": "2023-12-03T16:16:50.527143Z",
     "iopub.status.idle": "2023-12-03T16:16:50.533538Z",
     "shell.execute_reply": "2023-12-03T16:16:50.532713Z"
    },
    "papermill": {
     "duration": 0.021226,
     "end_time": "2023-12-03T16:16:50.535493",
     "exception": false,
     "start_time": "2023-12-03T16:16:50.514267",
     "status": "completed"
    },
    "tags": []
   },
   "outputs": [],
   "source": [
    "class MyDataSet(Dataset):\n",
    "    def __init__(self, X, masks, y) -> None:\n",
    "        super().__init__()\n",
    "        self.X = torch.from_numpy(X).int()\n",
    "        self.masks = torch.from_numpy(masks).int()\n",
    "        self.y = torch.from_numpy(y).float()\n",
    "    \n",
    "    def __len__(self):\n",
    "        return self.X.shape[0]\n",
    "    \n",
    "    def __getitem__(self, index):\n",
    "        return self.X[index], self.masks[index], self.y[index]"
   ]
  },
  {
   "cell_type": "code",
   "execution_count": 19,
   "id": "4a5c463d",
   "metadata": {
    "execution": {
     "iopub.execute_input": "2023-12-03T16:16:50.560677Z",
     "iopub.status.busy": "2023-12-03T16:16:50.560246Z",
     "iopub.status.idle": "2023-12-03T16:16:50.584996Z",
     "shell.execute_reply": "2023-12-03T16:16:50.583865Z"
    },
    "papermill": {
     "duration": 0.040082,
     "end_time": "2023-12-03T16:16:50.586990",
     "exception": false,
     "start_time": "2023-12-03T16:16:50.546908",
     "status": "completed"
    },
    "tags": []
   },
   "outputs": [
    {
     "name": "stdout",
     "output_type": "stream",
     "text": [
      "73728 18432\n"
     ]
    }
   ],
   "source": [
    "batch_size = 128\n",
    "train_dataset, val_dataset = MyDataSet(x_train, mask_train, y_train), MyDataSet(x_val, mask_val, y_val)\n",
    "train_loader, val_loader = DataLoader(train_dataset, batch_size, shuffle=True), DataLoader(val_dataset, batch_size*2, shuffle=True)\n",
    "print(len(train_dataset), len(val_dataset))"
   ]
  },
  {
   "cell_type": "code",
   "execution_count": 20,
   "id": "12e43e45",
   "metadata": {
    "execution": {
     "iopub.execute_input": "2023-12-03T16:16:50.612037Z",
     "iopub.status.busy": "2023-12-03T16:16:50.611217Z",
     "iopub.status.idle": "2023-12-03T16:16:50.622249Z",
     "shell.execute_reply": "2023-12-03T16:16:50.621363Z"
    },
    "papermill": {
     "duration": 0.025479,
     "end_time": "2023-12-03T16:16:50.624121",
     "exception": false,
     "start_time": "2023-12-03T16:16:50.598642",
     "status": "completed"
    },
    "tags": []
   },
   "outputs": [],
   "source": [
    "class MyClassifier(nn.Module):\n",
    "    def __init__(self, num_hidden, num_class):\n",
    "        super().__init__()\n",
    "        self.bert = bert_model    # 作为embedding层，进行fine-tuning\n",
    "        for param in self.bert.parameters():\n",
    "            param.requires_grad = True\n",
    "        \n",
    "        # k cnn-filters k(out_channels)->32\n",
    "        # 试了一下(16, 32, 48) 32的效果最好\n",
    "        self.conv1 = nn.Conv2d(1, 48, kernel_size=(3, 128)) # out= in - kernel_size + 1\n",
    "        self.conv2 = nn.Conv2d(1, 48, kernel_size=(5, 128))\n",
    "        self.conv3 = nn.Conv2d(1, 48, kernel_size=(7, 128))\n",
    "        # N,C_out,\n",
    "        self.pooling = nn.MaxPool2d((3,1), (3,1))\n",
    "        self.fc1 = nn.Linear(48*12, num_hidden)\n",
    "        self.act1 = nn.ReLU()\n",
    "        self.fc2 = nn.Linear(num_hidden, num_hidden)\n",
    "        self.act2 = nn.ReLU()\n",
    "        self.fc3 = nn.Linear(num_hidden, num_class)\n",
    "  \n",
    "    def forward(self, x, mask):\n",
    "        # 取bert最后一层隐状态\n",
    "        out = self.bert(x, attention_mask=mask, token_type_ids=None,)\n",
    "        last_hidden_state = out[\"last_hidden_state\"]  # N, 16, 128\n",
    "        #print(hidden_states.shape)\n",
    "        last_hidden_state.unsqueeze_(1)  # N, 1, 16, 128\n",
    "        \n",
    "        out1 = self.conv1(last_hidden_state)  # 16 - 3 + 1\n",
    "        out2 = self.conv2(last_hidden_state)\n",
    "        out3 = self.conv3(last_hidden_state)\n",
    "        out = torch.cat([out1, out2, out3], dim=2)  # N, 32, (14 + 12 + 10 = 36), 1\n",
    "        out = self.pooling(out)  # N, 32, 12, 1\n",
    "        #print(out.shape)\n",
    "        out = out.reshape(out.shape[0], -1)\n",
    "        #print(out.shape)\n",
    "        out = self.act1(self.fc1(out))\n",
    "        out = self.act2(self.fc2(out))\n",
    "        out = self.fc3(out)\n",
    "        \n",
    "        #print(out.shape)\n",
    "        return out\n",
    "        "
   ]
  },
  {
   "cell_type": "code",
   "execution_count": 21,
   "id": "ed60fa85",
   "metadata": {
    "execution": {
     "iopub.execute_input": "2023-12-03T16:16:50.649322Z",
     "iopub.status.busy": "2023-12-03T16:16:50.648603Z",
     "iopub.status.idle": "2023-12-03T16:16:50.661478Z",
     "shell.execute_reply": "2023-12-03T16:16:50.660604Z"
    },
    "papermill": {
     "duration": 0.027741,
     "end_time": "2023-12-03T16:16:50.663526",
     "exception": false,
     "start_time": "2023-12-03T16:16:50.635785",
     "status": "completed"
    },
    "tags": []
   },
   "outputs": [],
   "source": [
    "def adaptive_precision(predicts, labels):\n",
    "    predicts, labels = predicts.to(device), labels.to(device)\n",
    "    precision = 0.0\n",
    "    for i in range(labels.shape[0]):\n",
    "        labels_num, label_ids = torch.sum(labels[i]).item(), torch.nonzero(labels[i]).squeeze()\n",
    "        # 根据实际label数，选择predict中预测topk\n",
    "        _, pred_ids = predicts[i].topk(int(labels_num))\n",
    "        # 计算两组下标相同元素的数目，从而获得precision，并累加\n",
    "        precision += torch.sum(torch.isin(pred_ids, label_ids)).item() / labels_num\n",
    "    return precision / labels.shape[0]\n",
    "\n",
    "def precision_k(predicts, labels, k=3):\n",
    "    \"\"\"\n",
    "    predicts : (batch_size, C)\n",
    "    labels : (batch_size, C)  {0, 1}^C\n",
    "    \"\"\"\n",
    "    predicts, labels = predicts.to(device), labels.to(device)\n",
    "    _, topk_pred_ids = predicts.topk(k, dim=1)  # batch_size, k\n",
    "\n",
    "    precision_rank_k = torch.zeros(labels.shape[0]).to(device) # batch_size,\n",
    "    \n",
    "    for pred_ids in topk_pred_ids.T:\n",
    "        precision_rank_k += labels[torch.arange(labels.shape[0]), pred_ids]\n",
    "        \n",
    "    return precision_rank_k / k\n",
    "\n",
    "def topk_eval(net, top_k:list, val_loader, metric=precision_k):\n",
    "    net.eval()\n",
    "    correct_topk = torch.zeros(len(top_k))\n",
    "    with torch.no_grad():\n",
    "        for x, mask, y in val_loader:\n",
    "            x, mask = x.to(device), mask.to(device)\n",
    "            outputs = net(x, mask)\n",
    "            for i, k in enumerate(top_k):\n",
    "                correct_topk[i] += metric(outputs, y, k).mean().item()\n",
    "    \n",
    "    return correct_topk / len(val_loader)\n",
    "\n",
    "def actual_eval(net, val_loader, metric):\n",
    "    net.eval()\n",
    "    correct = 0.0\n",
    "    with torch.no_grad():\n",
    "        for x, mask, y in val_loader:\n",
    "            x, mask = x.to(device), mask.to(device)\n",
    "            outputs = net(x, mask)\n",
    "            correct += metric(outputs, y)\n",
    "                   \n",
    "    return correct / len(val_loader)\n",
    "    "
   ]
  },
  {
   "cell_type": "code",
   "execution_count": 22,
   "id": "b15e9899",
   "metadata": {
    "execution": {
     "iopub.execute_input": "2023-12-03T16:16:50.687890Z",
     "iopub.status.busy": "2023-12-03T16:16:50.687571Z",
     "iopub.status.idle": "2023-12-03T16:16:53.978018Z",
     "shell.execute_reply": "2023-12-03T16:16:53.977158Z"
    },
    "papermill": {
     "duration": 3.305047,
     "end_time": "2023-12-03T16:16:53.980154",
     "exception": false,
     "start_time": "2023-12-03T16:16:50.675107",
     "status": "completed"
    },
    "tags": []
   },
   "outputs": [
    {
     "data": {
      "text/plain": [
       "MyClassifier(\n",
       "  (bert): BertModel(\n",
       "    (embeddings): BertEmbeddings(\n",
       "      (word_embeddings): Embedding(30522, 128, padding_idx=0)\n",
       "      (position_embeddings): Embedding(512, 128)\n",
       "      (token_type_embeddings): Embedding(2, 128)\n",
       "      (LayerNorm): LayerNorm((128,), eps=1e-12, elementwise_affine=True)\n",
       "      (dropout): Dropout(p=0.1, inplace=False)\n",
       "    )\n",
       "    (encoder): BertEncoder(\n",
       "      (layer): ModuleList(\n",
       "        (0-1): 2 x BertLayer(\n",
       "          (attention): BertAttention(\n",
       "            (self): BertSelfAttention(\n",
       "              (query): Linear(in_features=128, out_features=128, bias=True)\n",
       "              (key): Linear(in_features=128, out_features=128, bias=True)\n",
       "              (value): Linear(in_features=128, out_features=128, bias=True)\n",
       "              (dropout): Dropout(p=0.1, inplace=False)\n",
       "            )\n",
       "            (output): BertSelfOutput(\n",
       "              (dense): Linear(in_features=128, out_features=128, bias=True)\n",
       "              (LayerNorm): LayerNorm((128,), eps=1e-12, elementwise_affine=True)\n",
       "              (dropout): Dropout(p=0.1, inplace=False)\n",
       "            )\n",
       "          )\n",
       "          (intermediate): BertIntermediate(\n",
       "            (dense): Linear(in_features=128, out_features=512, bias=True)\n",
       "            (intermediate_act_fn): GELUActivation()\n",
       "          )\n",
       "          (output): BertOutput(\n",
       "            (dense): Linear(in_features=512, out_features=128, bias=True)\n",
       "            (LayerNorm): LayerNorm((128,), eps=1e-12, elementwise_affine=True)\n",
       "            (dropout): Dropout(p=0.1, inplace=False)\n",
       "          )\n",
       "        )\n",
       "      )\n",
       "    )\n",
       "    (pooler): BertPooler(\n",
       "      (dense): Linear(in_features=128, out_features=128, bias=True)\n",
       "      (activation): Tanh()\n",
       "    )\n",
       "  )\n",
       "  (conv1): Conv2d(1, 48, kernel_size=(3, 128), stride=(1, 1))\n",
       "  (conv2): Conv2d(1, 48, kernel_size=(5, 128), stride=(1, 1))\n",
       "  (conv3): Conv2d(1, 48, kernel_size=(7, 128), stride=(1, 1))\n",
       "  (pooling): MaxPool2d(kernel_size=(3, 1), stride=(3, 1), padding=0, dilation=1, ceil_mode=False)\n",
       "  (fc1): Linear(in_features=576, out_features=256, bias=True)\n",
       "  (act1): ReLU()\n",
       "  (fc2): Linear(in_features=256, out_features=256, bias=True)\n",
       "  (act2): ReLU()\n",
       "  (fc3): Linear(in_features=256, out_features=40, bias=True)\n",
       ")"
      ]
     },
     "execution_count": 22,
     "metadata": {},
     "output_type": "execute_result"
    }
   ],
   "source": [
    "from transformers import get_scheduler\n",
    "model = MyClassifier(num_hidden=256 ,num_class=40)\n",
    "# optimizer = optim.Adam(model.parameters(), lr=1e-3)\n",
    "optimizer = optim.AdamW(model.parameters(), lr=1e-4) #fine-tuning bert\n",
    "criterion = nn.BCEWithLogitsLoss()\n",
    "num_epochs = 5\n",
    "num_training_steps = num_epochs * len(train_loader)\n",
    "\n",
    "lr_scheduler = get_scheduler(\n",
    "    name=\"linear\", optimizer=optimizer, num_warmup_steps=0, \n",
    "    num_training_steps=num_training_steps)\n",
    "\n",
    "device = torch.device(\"cuda\") if torch.cuda.is_available() else torch.device(\"cpu\")\n",
    "model.to(device)"
   ]
  },
  {
   "cell_type": "code",
   "execution_count": 23,
   "id": "e3830c59",
   "metadata": {
    "execution": {
     "iopub.execute_input": "2023-12-03T16:16:54.005154Z",
     "iopub.status.busy": "2023-12-03T16:16:54.004836Z",
     "iopub.status.idle": "2023-12-03T16:17:51.008787Z",
     "shell.execute_reply": "2023-12-03T16:17:51.007673Z"
    },
    "papermill": {
     "duration": 57.018678,
     "end_time": "2023-12-03T16:17:51.010892",
     "exception": false,
     "start_time": "2023-12-03T16:16:53.992214",
     "status": "completed"
    },
    "tags": []
   },
   "outputs": [
    {
     "data": {
      "application/vnd.jupyter.widget-view+json": {
       "model_id": "2f34980d58454856bb6daad73b1e127b",
       "version_major": 2,
       "version_minor": 0
      },
      "text/plain": [
       "  0%|          | 0/2880 [00:00<?, ?it/s]"
      ]
     },
     "metadata": {},
     "output_type": "display_data"
    },
    {
     "name": "stdout",
     "output_type": "stream",
     "text": [
      "[Train]: 1/5, Loss: 0.17271502242268374\n",
      "P@1=51.6222%\n",
      "P@2=43.1234%\n",
      "P@3=36.3227%\n",
      "adapted_P=45.1163%\n",
      "[Train]: 2/5, Loss: 0.12238082478547262\n",
      "P@1=65.1096%\n",
      "P@2=51.5706%\n",
      "P@3=42.5420%\n",
      "adapted_P=55.4046%\n",
      "[Train]: 3/5, Loss: 0.10879214012271\n",
      "P@1=68.2129%\n",
      "P@2=54.0392%\n",
      "P@3=44.4969%\n",
      "adapted_P=58.3704%\n",
      "[Train]: 4/5, Loss: 0.10330194146889779\n",
      "P@1=69.4499%\n",
      "P@2=55.0429%\n",
      "P@3=45.1678%\n",
      "adapted_P=59.4437%\n",
      "[Train]: 5/5, Loss: 0.10080024455156592\n",
      "P@1=69.6994%\n",
      "P@2=55.1622%\n",
      "P@3=45.4319%\n",
      "adapted_P=59.7295%\n"
     ]
    }
   ],
   "source": [
    "from tqdm.auto import tqdm\n",
    "\n",
    "progress_bar = tqdm(range(num_training_steps))\n",
    "\n",
    "top_k = [1, 2, 3]\n",
    "actual = True\n",
    "log_num = 1\n",
    "for epoch in range(num_epochs):\n",
    "    model.train()\n",
    "    epoch_loss = 0.0\n",
    "    for x, mask, y in train_loader:\n",
    "        optimizer.zero_grad()\n",
    "        outputs = model(x.to(device), mask.to(device))\n",
    "        loss = criterion(outputs.to(device), y.to(device))\n",
    "        #with torch.autograd.set_detect_anomaly(True):\n",
    "        loss.backward()\n",
    "        epoch_loss += loss.item()\n",
    "        optimizer.step()\n",
    "        lr_scheduler.step()\n",
    "        \n",
    "        progress_bar.update(1)\n",
    "    if (epoch + 1)% log_num == 0:\n",
    "        print(f\"[Train]: {epoch + 1}/{num_epochs}, Loss: {epoch_loss/len(train_loader)}\")\n",
    "    \n",
    "        precisions = topk_eval(model, top_k, val_loader=val_loader)\n",
    "        for i, k in enumerate(top_k):    \n",
    "            print(f\"P@{k}={precisions[i].item()*100:.4f}%\")\n",
    "        if actual:   # 根据实际label数目计算的precision\n",
    "            actual_precison = actual_eval(model, val_loader, metric=adaptive_precision)\n",
    "            print(f\"adapted_P={actual_precison*100:.4f}%\")\n",
    "\n"
   ]
  },
  {
   "cell_type": "code",
   "execution_count": 24,
   "id": "5ce49340",
   "metadata": {
    "execution": {
     "iopub.execute_input": "2023-12-03T16:17:51.038715Z",
     "iopub.status.busy": "2023-12-03T16:17:51.038156Z",
     "iopub.status.idle": "2023-12-03T16:17:51.046076Z",
     "shell.execute_reply": "2023-12-03T16:17:51.045264Z"
    },
    "papermill": {
     "duration": 0.02401,
     "end_time": "2023-12-03T16:17:51.048082",
     "exception": false,
     "start_time": "2023-12-03T16:17:51.024072",
     "status": "completed"
    },
    "tags": []
   },
   "outputs": [],
   "source": [
    "def predict_categories(model, titles:list[str], label_set=label_set, tokenizer=tokenizer):\n",
    "    num_papers = len(titles)\n",
    "    pred_categories = {}\n",
    "    model.cpu()\n",
    "    model.eval()\n",
    "    out = tokenizer.batch_encode_plus(titles, max_length=16,\n",
    "                                  padding=\"max_length\", truncation=True)\n",
    "    token_ids, attn_masks = out[\"input_ids\"], out[\"attention_mask\"]\n",
    "    # 转为tensor，\n",
    "    token_ids = torch.tensor(token_ids).int()\n",
    "    attn_masks = torch.tensor(attn_masks).int()\n",
    "\n",
    "    with torch.no_grad():\n",
    "        for i in range(num_papers):\n",
    "            # 添加batch_size维度\n",
    "            x, mask = token_ids[i].unsqueeze_(0), attn_masks[i].unsqueeze_(0)\n",
    "            output = model(x, mask)\n",
    "            # 获取top3的标签\n",
    "            _, pred_ids = output.topk(k=3)\n",
    "            \n",
    "            pred_categories[titles[i]] = [label_set[ids.item()] for ids in pred_ids.squeeze(0)]\n",
    "\n",
    "    return pred_categories"
   ]
  },
  {
   "cell_type": "code",
   "execution_count": 25,
   "id": "ea06e400",
   "metadata": {
    "execution": {
     "iopub.execute_input": "2023-12-03T16:17:51.075410Z",
     "iopub.status.busy": "2023-12-03T16:17:51.074837Z",
     "iopub.status.idle": "2023-12-03T16:17:51.107462Z",
     "shell.execute_reply": "2023-12-03T16:17:51.106416Z"
    },
    "papermill": {
     "duration": 0.048625,
     "end_time": "2023-12-03T16:17:51.109434",
     "exception": false,
     "start_time": "2023-12-03T16:17:51.060809",
     "status": "completed"
    },
    "tags": []
   },
   "outputs": [
    {
     "data": {
      "text/html": [
       "<div>\n",
       "<style scoped>\n",
       "    .dataframe tbody tr th:only-of-type {\n",
       "        vertical-align: middle;\n",
       "    }\n",
       "\n",
       "    .dataframe tbody tr th {\n",
       "        vertical-align: top;\n",
       "    }\n",
       "\n",
       "    .dataframe thead th {\n",
       "        text-align: right;\n",
       "    }\n",
       "</style>\n",
       "<table border=\"1\" class=\"dataframe\">\n",
       "  <thead>\n",
       "    <tr style=\"text-align: right;\">\n",
       "      <th></th>\n",
       "      <th>title</th>\n",
       "      <th>categories</th>\n",
       "    </tr>\n",
       "  </thead>\n",
       "  <tbody>\n",
       "    <tr>\n",
       "      <th>50</th>\n",
       "      <td>Abstract Stobjs and Their Application to ISA M...</td>\n",
       "      <td>[cs.LO, cs.AR, cs.SC]</td>\n",
       "    </tr>\n",
       "    <tr>\n",
       "      <th>51</th>\n",
       "      <td>A Cognitive Science perspective for learning h...</td>\n",
       "      <td>[cs.AI, cs.CY, cs.HC]</td>\n",
       "    </tr>\n",
       "    <tr>\n",
       "      <th>52</th>\n",
       "      <td>CS-Insights: A System for Analyzing Computer S...</td>\n",
       "      <td>[cs.CL, cs.DL]</td>\n",
       "    </tr>\n",
       "    <tr>\n",
       "      <th>53</th>\n",
       "      <td>Real-number Computability from the Perspective...</td>\n",
       "      <td>[cs.LO, cs.CC]</td>\n",
       "    </tr>\n",
       "    <tr>\n",
       "      <th>54</th>\n",
       "      <td>Algebraic recognizability of languages</td>\n",
       "      <td>[cs.LO]</td>\n",
       "    </tr>\n",
       "    <tr>\n",
       "      <th>55</th>\n",
       "      <td>An Effective Extension of the Wagner Hierarchy...</td>\n",
       "      <td>[cs.LO, cs.FL]</td>\n",
       "    </tr>\n",
       "    <tr>\n",
       "      <th>56</th>\n",
       "      <td>Sequentiality vs. Concurrency in Games and Logic</td>\n",
       "      <td>[cs.LO]</td>\n",
       "    </tr>\n",
       "    <tr>\n",
       "      <th>57</th>\n",
       "      <td>Physics and computer science: quantum computat...</td>\n",
       "      <td>[]</td>\n",
       "    </tr>\n",
       "    <tr>\n",
       "      <th>58</th>\n",
       "      <td>Typed Operational Semantics for Dependent Reco...</td>\n",
       "      <td>[cs.LO]</td>\n",
       "    </tr>\n",
       "    <tr>\n",
       "      <th>59</th>\n",
       "      <td>Is Machine Learning Unsafe and Irresponsible i...</td>\n",
       "      <td>[cs.CY, cs.AI]</td>\n",
       "    </tr>\n",
       "  </tbody>\n",
       "</table>\n",
       "</div>"
      ],
      "text/plain": [
       "                                                title             categories\n",
       "50  Abstract Stobjs and Their Application to ISA M...  [cs.LO, cs.AR, cs.SC]\n",
       "51  A Cognitive Science perspective for learning h...  [cs.AI, cs.CY, cs.HC]\n",
       "52  CS-Insights: A System for Analyzing Computer S...         [cs.CL, cs.DL]\n",
       "53  Real-number Computability from the Perspective...         [cs.LO, cs.CC]\n",
       "54             Algebraic recognizability of languages                [cs.LO]\n",
       "55  An Effective Extension of the Wagner Hierarchy...         [cs.LO, cs.FL]\n",
       "56   Sequentiality vs. Concurrency in Games and Logic                [cs.LO]\n",
       "57  Physics and computer science: quantum computat...                     []\n",
       "58  Typed Operational Semantics for Dependent Reco...                [cs.LO]\n",
       "59  Is Machine Learning Unsafe and Irresponsible i...         [cs.CY, cs.AI]"
      ]
     },
     "execution_count": 25,
     "metadata": {},
     "output_type": "execute_result"
    }
   ],
   "source": [
    "with open(\"/kaggle/input/mydatasets/test_t_c.json\") as f:\n",
    "    test_t_c = json.load(f)\n",
    "    \n",
    "test_t_c = pd.DataFrame([[k, v] for k, v in test_t_c.items()], columns=[\"title\", \"categories\"])\n",
    "    \n",
    "for index, row in test_t_c.iterrows():\n",
    "    words = row[\"categories\"]\n",
    "    processed_words = [word for word in words if word.startswith('cs.')]\n",
    "    \n",
    "    test_t_c.at[index, \"categories\"] = processed_words\n",
    "test_t_c[50:60]"
   ]
  },
  {
   "cell_type": "code",
   "execution_count": 26,
   "id": "f654c646",
   "metadata": {
    "execution": {
     "iopub.execute_input": "2023-12-03T16:17:51.137853Z",
     "iopub.status.busy": "2023-12-03T16:17:51.137543Z",
     "iopub.status.idle": "2023-12-03T16:17:51.333609Z",
     "shell.execute_reply": "2023-12-03T16:17:51.332172Z"
    },
    "papermill": {
     "duration": 0.212768,
     "end_time": "2023-12-03T16:17:51.335936",
     "exception": false,
     "start_time": "2023-12-03T16:17:51.123168",
     "status": "completed"
    },
    "tags": []
   },
   "outputs": [
    {
     "name": "stdout",
     "output_type": "stream",
     "text": [
      "A short proof that adding some permutation rules to $β$ preserves $SN$ :  ['cs.LO', 'cs.CC', 'cs.DM']\n",
      "Distributed Games and Strategies :  ['cs.GT', 'cs.DS', 'cs.MA']\n",
      "Tripartite Unions :  ['cs.GT', 'cs.DS', 'cs.DM']\n",
      "Cloudifying the Curriculum with AWS :  ['cs.DC', 'cs.AR', 'cs.PF']\n",
      "Tarski's influence on computer science :  ['cs.CY', 'cs.SI', 'cs.HC']\n",
      "Saying Hello World with MOLA - A Solution to the TTC 2011 Instructive Case :  ['cs.IR', 'cs.SE', 'cs.HC']\n",
      "Oxford-style Debates in Telecommunication and Computer Science Education :  ['cs.CL', 'cs.CY', 'cs.AI']\n",
      "Motivation, Design, and Ubiquity: A Discussion of Research Ethics and Computer Science :  ['cs.CY', 'cs.SI', 'cs.HC']\n",
      "Complex Workflow Management and Integration of Distributed Computing Resources by Science Gateway Portal for Molecular Dynamics Simulations in Materials Science :  ['cs.DC', 'cs.NI', 'cs.SE']\n",
      "Addressing Hate Speech with Data Science: An Overview from Computer Science Perspective :  ['cs.CL', 'cs.CY', 'cs.AI']\n"
     ]
    }
   ],
   "source": [
    "test_titles = test_t_c[\"title\"].to_list()[20:30]\n",
    "# test_titles = [\"LayerCollapse: Adaptive compression of neural networks\"]\n",
    "pred_categories = predict_categories(model, titles=test_titles, label_set=label_set, tokenizer=tokenizer)\n",
    "for k, v in pred_categories.items():\n",
    "    print(k, \": \", v)"
   ]
  }
 ],
 "metadata": {
  "kaggle": {
   "accelerator": "gpu",
   "dataSources": [
    {
     "datasetId": 4085616,
     "sourceId": 7105697,
     "sourceType": "datasetVersion"
    },
    {
     "datasetId": 612177,
     "sourceId": 7109000,
     "sourceType": "datasetVersion"
    }
   ],
   "dockerImageVersionId": 30587,
   "isGpuEnabled": true,
   "isInternetEnabled": true,
   "language": "python",
   "sourceType": "notebook"
  },
  "kernelspec": {
   "display_name": "Python 3",
   "language": "python",
   "name": "python3"
  },
  "language_info": {
   "codemirror_mode": {
    "name": "ipython",
    "version": 3
   },
   "file_extension": ".py",
   "mimetype": "text/x-python",
   "name": "python",
   "nbconvert_exporter": "python",
   "pygments_lexer": "ipython3",
   "version": "3.10.12"
  },
  "papermill": {
   "default_parameters": {},
   "duration": 238.343019,
   "end_time": "2023-12-03T16:17:54.169722",
   "environment_variables": {},
   "exception": null,
   "input_path": "__notebook__.ipynb",
   "output_path": "__notebook__.ipynb",
   "parameters": {},
   "start_time": "2023-12-03T16:13:55.826703",
   "version": "2.4.0"
  },
  "widgets": {
   "application/vnd.jupyter.widget-state+json": {
    "state": {
     "095f28c8081443ce9d886dc704fd4bdd": {
      "model_module": "@jupyter-widgets/base",
      "model_module_version": "1.2.0",
      "model_name": "LayoutModel",
      "state": {
       "_model_module": "@jupyter-widgets/base",
       "_model_module_version": "1.2.0",
       "_model_name": "LayoutModel",
       "_view_count": null,
       "_view_module": "@jupyter-widgets/base",
       "_view_module_version": "1.2.0",
       "_view_name": "LayoutView",
       "align_content": null,
       "align_items": null,
       "align_self": null,
       "border": null,
       "bottom": null,
       "display": null,
       "flex": null,
       "flex_flow": null,
       "grid_area": null,
       "grid_auto_columns": null,
       "grid_auto_flow": null,
       "grid_auto_rows": null,
       "grid_column": null,
       "grid_gap": null,
       "grid_row": null,
       "grid_template_areas": null,
       "grid_template_columns": null,
       "grid_template_rows": null,
       "height": null,
       "justify_content": null,
       "justify_items": null,
       "left": null,
       "margin": null,
       "max_height": null,
       "max_width": null,
       "min_height": null,
       "min_width": null,
       "object_fit": null,
       "object_position": null,
       "order": null,
       "overflow": null,
       "overflow_x": null,
       "overflow_y": null,
       "padding": null,
       "right": null,
       "top": null,
       "visibility": null,
       "width": null
      }
     },
     "137f514567864dd6947d65ec08c960e0": {
      "model_module": "@jupyter-widgets/controls",
      "model_module_version": "1.5.0",
      "model_name": "DescriptionStyleModel",
      "state": {
       "_model_module": "@jupyter-widgets/controls",
       "_model_module_version": "1.5.0",
       "_model_name": "DescriptionStyleModel",
       "_view_count": null,
       "_view_module": "@jupyter-widgets/base",
       "_view_module_version": "1.2.0",
       "_view_name": "StyleView",
       "description_width": ""
      }
     },
     "13ec3db9a9174100b0f812f0ff894cc8": {
      "model_module": "@jupyter-widgets/controls",
      "model_module_version": "1.5.0",
      "model_name": "DescriptionStyleModel",
      "state": {
       "_model_module": "@jupyter-widgets/controls",
       "_model_module_version": "1.5.0",
       "_model_name": "DescriptionStyleModel",
       "_view_count": null,
       "_view_module": "@jupyter-widgets/base",
       "_view_module_version": "1.2.0",
       "_view_name": "StyleView",
       "description_width": ""
      }
     },
     "16f0154cfeba451184d92a8fd12080fe": {
      "model_module": "@jupyter-widgets/controls",
      "model_module_version": "1.5.0",
      "model_name": "FloatProgressModel",
      "state": {
       "_dom_classes": [],
       "_model_module": "@jupyter-widgets/controls",
       "_model_module_version": "1.5.0",
       "_model_name": "FloatProgressModel",
       "_view_count": null,
       "_view_module": "@jupyter-widgets/controls",
       "_view_module_version": "1.5.0",
       "_view_name": "ProgressView",
       "bar_style": "success",
       "description": "",
       "description_tooltip": null,
       "layout": "IPY_MODEL_d9c8eae8f57c4131a029ac6db9c6798c",
       "max": 382.0,
       "min": 0.0,
       "orientation": "horizontal",
       "style": "IPY_MODEL_ea2b632ce0074bd3a9ca115288679b3c",
       "value": 382.0
      }
     },
     "208bbeb312324181980fd5f8fd25fabe": {
      "model_module": "@jupyter-widgets/controls",
      "model_module_version": "1.5.0",
      "model_name": "HTMLModel",
      "state": {
       "_dom_classes": [],
       "_model_module": "@jupyter-widgets/controls",
       "_model_module_version": "1.5.0",
       "_model_name": "HTMLModel",
       "_view_count": null,
       "_view_module": "@jupyter-widgets/controls",
       "_view_module_version": "1.5.0",
       "_view_name": "HTMLView",
       "description": "",
       "description_tooltip": null,
       "layout": "IPY_MODEL_f8ddd689f1bd468da46758a9c2e12927",
       "placeholder": "​",
       "style": "IPY_MODEL_89c23fb8ad684565b4db60fafcb70be4",
       "value": " 17.7M/17.7M [00:00&lt;00:00, 56.2MB/s]"
      }
     },
     "21b0a00b939943cd8b7a062ed915cec6": {
      "model_module": "@jupyter-widgets/base",
      "model_module_version": "1.2.0",
      "model_name": "LayoutModel",
      "state": {
       "_model_module": "@jupyter-widgets/base",
       "_model_module_version": "1.2.0",
       "_model_name": "LayoutModel",
       "_view_count": null,
       "_view_module": "@jupyter-widgets/base",
       "_view_module_version": "1.2.0",
       "_view_name": "LayoutView",
       "align_content": null,
       "align_items": null,
       "align_self": null,
       "border": null,
       "bottom": null,
       "display": null,
       "flex": null,
       "flex_flow": null,
       "grid_area": null,
       "grid_auto_columns": null,
       "grid_auto_flow": null,
       "grid_auto_rows": null,
       "grid_column": null,
       "grid_gap": null,
       "grid_row": null,
       "grid_template_areas": null,
       "grid_template_columns": null,
       "grid_template_rows": null,
       "height": null,
       "justify_content": null,
       "justify_items": null,
       "left": null,
       "margin": null,
       "max_height": null,
       "max_width": null,
       "min_height": null,
       "min_width": null,
       "object_fit": null,
       "object_position": null,
       "order": null,
       "overflow": null,
       "overflow_x": null,
       "overflow_y": null,
       "padding": null,
       "right": null,
       "top": null,
       "visibility": null,
       "width": null
      }
     },
     "25a114632a8f40fbb5a019cd0fb58674": {
      "model_module": "@jupyter-widgets/base",
      "model_module_version": "1.2.0",
      "model_name": "LayoutModel",
      "state": {
       "_model_module": "@jupyter-widgets/base",
       "_model_module_version": "1.2.0",
       "_model_name": "LayoutModel",
       "_view_count": null,
       "_view_module": "@jupyter-widgets/base",
       "_view_module_version": "1.2.0",
       "_view_name": "LayoutView",
       "align_content": null,
       "align_items": null,
       "align_self": null,
       "border": null,
       "bottom": null,
       "display": null,
       "flex": null,
       "flex_flow": null,
       "grid_area": null,
       "grid_auto_columns": null,
       "grid_auto_flow": null,
       "grid_auto_rows": null,
       "grid_column": null,
       "grid_gap": null,
       "grid_row": null,
       "grid_template_areas": null,
       "grid_template_columns": null,
       "grid_template_rows": null,
       "height": null,
       "justify_content": null,
       "justify_items": null,
       "left": null,
       "margin": null,
       "max_height": null,
       "max_width": null,
       "min_height": null,
       "min_width": null,
       "object_fit": null,
       "object_position": null,
       "order": null,
       "overflow": null,
       "overflow_x": null,
       "overflow_y": null,
       "padding": null,
       "right": null,
       "top": null,
       "visibility": null,
       "width": null
      }
     },
     "2d085487d0b14c88b3ecde0e86c5b035": {
      "model_module": "@jupyter-widgets/controls",
      "model_module_version": "1.5.0",
      "model_name": "HTMLModel",
      "state": {
       "_dom_classes": [],
       "_model_module": "@jupyter-widgets/controls",
       "_model_module_version": "1.5.0",
       "_model_name": "HTMLModel",
       "_view_count": null,
       "_view_module": "@jupyter-widgets/controls",
       "_view_module_version": "1.5.0",
       "_view_name": "HTMLView",
       "description": "",
       "description_tooltip": null,
       "layout": "IPY_MODEL_fbc571c05c2f4f6ea302591f1fe0fee6",
       "placeholder": "​",
       "style": "IPY_MODEL_d8231bf1152145bb94e421bbbb5a6833",
       "value": " 382/382 [00:00&lt;00:00, 33.7kB/s]"
      }
     },
     "2f34980d58454856bb6daad73b1e127b": {
      "model_module": "@jupyter-widgets/controls",
      "model_module_version": "1.5.0",
      "model_name": "HBoxModel",
      "state": {
       "_dom_classes": [],
       "_model_module": "@jupyter-widgets/controls",
       "_model_module_version": "1.5.0",
       "_model_name": "HBoxModel",
       "_view_count": null,
       "_view_module": "@jupyter-widgets/controls",
       "_view_module_version": "1.5.0",
       "_view_name": "HBoxView",
       "box_style": "",
       "children": [
        "IPY_MODEL_f1552e8b1e3a4ff09f1ffc723cb812cc",
        "IPY_MODEL_642e1fc9e46b4273b1ade8c4b1d36deb",
        "IPY_MODEL_43220cf355dd41faa239053aa81ce35e"
       ],
       "layout": "IPY_MODEL_798b62d37e3c414a8a7bde995e48af22"
      }
     },
     "32fe505e643748068977378097280b9b": {
      "model_module": "@jupyter-widgets/base",
      "model_module_version": "1.2.0",
      "model_name": "LayoutModel",
      "state": {
       "_model_module": "@jupyter-widgets/base",
       "_model_module_version": "1.2.0",
       "_model_name": "LayoutModel",
       "_view_count": null,
       "_view_module": "@jupyter-widgets/base",
       "_view_module_version": "1.2.0",
       "_view_name": "LayoutView",
       "align_content": null,
       "align_items": null,
       "align_self": null,
       "border": null,
       "bottom": null,
       "display": null,
       "flex": null,
       "flex_flow": null,
       "grid_area": null,
       "grid_auto_columns": null,
       "grid_auto_flow": null,
       "grid_auto_rows": null,
       "grid_column": null,
       "grid_gap": null,
       "grid_row": null,
       "grid_template_areas": null,
       "grid_template_columns": null,
       "grid_template_rows": null,
       "height": null,
       "justify_content": null,
       "justify_items": null,
       "left": null,
       "margin": null,
       "max_height": null,
       "max_width": null,
       "min_height": null,
       "min_width": null,
       "object_fit": null,
       "object_position": null,
       "order": null,
       "overflow": null,
       "overflow_x": null,
       "overflow_y": null,
       "padding": null,
       "right": null,
       "top": null,
       "visibility": null,
       "width": null
      }
     },
     "340e64d05ff84b13b59146952e6d91a6": {
      "model_module": "@jupyter-widgets/controls",
      "model_module_version": "1.5.0",
      "model_name": "ProgressStyleModel",
      "state": {
       "_model_module": "@jupyter-widgets/controls",
       "_model_module_version": "1.5.0",
       "_model_name": "ProgressStyleModel",
       "_view_count": null,
       "_view_module": "@jupyter-widgets/base",
       "_view_module_version": "1.2.0",
       "_view_name": "StyleView",
       "bar_color": null,
       "description_width": ""
      }
     },
     "3e3b6cc4ccea45a98dadf1b3d08e6aa9": {
      "model_module": "@jupyter-widgets/controls",
      "model_module_version": "1.5.0",
      "model_name": "DescriptionStyleModel",
      "state": {
       "_model_module": "@jupyter-widgets/controls",
       "_model_module_version": "1.5.0",
       "_model_name": "DescriptionStyleModel",
       "_view_count": null,
       "_view_module": "@jupyter-widgets/base",
       "_view_module_version": "1.2.0",
       "_view_name": "StyleView",
       "description_width": ""
      }
     },
     "4316bf6bcd6b4fd9a79eb6c19453759d": {
      "model_module": "@jupyter-widgets/base",
      "model_module_version": "1.2.0",
      "model_name": "LayoutModel",
      "state": {
       "_model_module": "@jupyter-widgets/base",
       "_model_module_version": "1.2.0",
       "_model_name": "LayoutModel",
       "_view_count": null,
       "_view_module": "@jupyter-widgets/base",
       "_view_module_version": "1.2.0",
       "_view_name": "LayoutView",
       "align_content": null,
       "align_items": null,
       "align_self": null,
       "border": null,
       "bottom": null,
       "display": null,
       "flex": null,
       "flex_flow": null,
       "grid_area": null,
       "grid_auto_columns": null,
       "grid_auto_flow": null,
       "grid_auto_rows": null,
       "grid_column": null,
       "grid_gap": null,
       "grid_row": null,
       "grid_template_areas": null,
       "grid_template_columns": null,
       "grid_template_rows": null,
       "height": null,
       "justify_content": null,
       "justify_items": null,
       "left": null,
       "margin": null,
       "max_height": null,
       "max_width": null,
       "min_height": null,
       "min_width": null,
       "object_fit": null,
       "object_position": null,
       "order": null,
       "overflow": null,
       "overflow_x": null,
       "overflow_y": null,
       "padding": null,
       "right": null,
       "top": null,
       "visibility": null,
       "width": null
      }
     },
     "43220cf355dd41faa239053aa81ce35e": {
      "model_module": "@jupyter-widgets/controls",
      "model_module_version": "1.5.0",
      "model_name": "HTMLModel",
      "state": {
       "_dom_classes": [],
       "_model_module": "@jupyter-widgets/controls",
       "_model_module_version": "1.5.0",
       "_model_name": "HTMLModel",
       "_view_count": null,
       "_view_module": "@jupyter-widgets/controls",
       "_view_module_version": "1.5.0",
       "_view_name": "HTMLView",
       "description": "",
       "description_tooltip": null,
       "layout": "IPY_MODEL_c25d8726edb741c193e79a10b0cc41c7",
       "placeholder": "​",
       "style": "IPY_MODEL_137f514567864dd6947d65ec08c960e0",
       "value": " 2875/2880 [00:52&lt;00:00, 99.34it/s]"
      }
     },
     "50c67d86ef8c4032b6079676942cdac5": {
      "model_module": "@jupyter-widgets/base",
      "model_module_version": "1.2.0",
      "model_name": "LayoutModel",
      "state": {
       "_model_module": "@jupyter-widgets/base",
       "_model_module_version": "1.2.0",
       "_model_name": "LayoutModel",
       "_view_count": null,
       "_view_module": "@jupyter-widgets/base",
       "_view_module_version": "1.2.0",
       "_view_name": "LayoutView",
       "align_content": null,
       "align_items": null,
       "align_self": null,
       "border": null,
       "bottom": null,
       "display": null,
       "flex": null,
       "flex_flow": null,
       "grid_area": null,
       "grid_auto_columns": null,
       "grid_auto_flow": null,
       "grid_auto_rows": null,
       "grid_column": null,
       "grid_gap": null,
       "grid_row": null,
       "grid_template_areas": null,
       "grid_template_columns": null,
       "grid_template_rows": null,
       "height": null,
       "justify_content": null,
       "justify_items": null,
       "left": null,
       "margin": null,
       "max_height": null,
       "max_width": null,
       "min_height": null,
       "min_width": null,
       "object_fit": null,
       "object_position": null,
       "order": null,
       "overflow": null,
       "overflow_x": null,
       "overflow_y": null,
       "padding": null,
       "right": null,
       "top": null,
       "visibility": null,
       "width": null
      }
     },
     "56e69ff3640b488ca390e1662f6ed29c": {
      "model_module": "@jupyter-widgets/controls",
      "model_module_version": "1.5.0",
      "model_name": "HTMLModel",
      "state": {
       "_dom_classes": [],
       "_model_module": "@jupyter-widgets/controls",
       "_model_module_version": "1.5.0",
       "_model_name": "HTMLModel",
       "_view_count": null,
       "_view_module": "@jupyter-widgets/controls",
       "_view_module_version": "1.5.0",
       "_view_name": "HTMLView",
       "description": "",
       "description_tooltip": null,
       "layout": "IPY_MODEL_cd42ffa202644fe6b1a5b8d6f96b3990",
       "placeholder": "​",
       "style": "IPY_MODEL_f97b80c62b8b4245aa6e25697959a957",
       "value": "Downloading vocab.txt: 100%"
      }
     },
     "5bd388fc30ad4ad5a800900c32e118a6": {
      "model_module": "@jupyter-widgets/controls",
      "model_module_version": "1.5.0",
      "model_name": "FloatProgressModel",
      "state": {
       "_dom_classes": [],
       "_model_module": "@jupyter-widgets/controls",
       "_model_module_version": "1.5.0",
       "_model_name": "FloatProgressModel",
       "_view_count": null,
       "_view_module": "@jupyter-widgets/controls",
       "_view_module_version": "1.5.0",
       "_view_name": "ProgressView",
       "bar_style": "success",
       "description": "",
       "description_tooltip": null,
       "layout": "IPY_MODEL_a6242553b2ff48619f3407aaa7e5d819",
       "max": 17739144.0,
       "min": 0.0,
       "orientation": "horizontal",
       "style": "IPY_MODEL_340e64d05ff84b13b59146952e6d91a6",
       "value": 17739144.0
      }
     },
     "642e1fc9e46b4273b1ade8c4b1d36deb": {
      "model_module": "@jupyter-widgets/controls",
      "model_module_version": "1.5.0",
      "model_name": "FloatProgressModel",
      "state": {
       "_dom_classes": [],
       "_model_module": "@jupyter-widgets/controls",
       "_model_module_version": "1.5.0",
       "_model_name": "FloatProgressModel",
       "_view_count": null,
       "_view_module": "@jupyter-widgets/controls",
       "_view_module_version": "1.5.0",
       "_view_name": "ProgressView",
       "bar_style": "",
       "description": "",
       "description_tooltip": null,
       "layout": "IPY_MODEL_b19ded51023a4b9ab8eb3ee03548fe8a",
       "max": 2880.0,
       "min": 0.0,
       "orientation": "horizontal",
       "style": "IPY_MODEL_b72d2c5b3b764972be9463b2bb68423b",
       "value": 2875.0
      }
     },
     "724be20503dc447182e0f5c0fb51b8a1": {
      "model_module": "@jupyter-widgets/controls",
      "model_module_version": "1.5.0",
      "model_name": "DescriptionStyleModel",
      "state": {
       "_model_module": "@jupyter-widgets/controls",
       "_model_module_version": "1.5.0",
       "_model_name": "DescriptionStyleModel",
       "_view_count": null,
       "_view_module": "@jupyter-widgets/base",
       "_view_module_version": "1.2.0",
       "_view_name": "StyleView",
       "description_width": ""
      }
     },
     "798b62d37e3c414a8a7bde995e48af22": {
      "model_module": "@jupyter-widgets/base",
      "model_module_version": "1.2.0",
      "model_name": "LayoutModel",
      "state": {
       "_model_module": "@jupyter-widgets/base",
       "_model_module_version": "1.2.0",
       "_model_name": "LayoutModel",
       "_view_count": null,
       "_view_module": "@jupyter-widgets/base",
       "_view_module_version": "1.2.0",
       "_view_name": "LayoutView",
       "align_content": null,
       "align_items": null,
       "align_self": null,
       "border": null,
       "bottom": null,
       "display": null,
       "flex": null,
       "flex_flow": null,
       "grid_area": null,
       "grid_auto_columns": null,
       "grid_auto_flow": null,
       "grid_auto_rows": null,
       "grid_column": null,
       "grid_gap": null,
       "grid_row": null,
       "grid_template_areas": null,
       "grid_template_columns": null,
       "grid_template_rows": null,
       "height": null,
       "justify_content": null,
       "justify_items": null,
       "left": null,
       "margin": null,
       "max_height": null,
       "max_width": null,
       "min_height": null,
       "min_width": null,
       "object_fit": null,
       "object_position": null,
       "order": null,
       "overflow": null,
       "overflow_x": null,
       "overflow_y": null,
       "padding": null,
       "right": null,
       "top": null,
       "visibility": null,
       "width": null
      }
     },
     "7bd41bd64a5c40d6af3a04f6be7d6aa5": {
      "model_module": "@jupyter-widgets/controls",
      "model_module_version": "1.5.0",
      "model_name": "HTMLModel",
      "state": {
       "_dom_classes": [],
       "_model_module": "@jupyter-widgets/controls",
       "_model_module_version": "1.5.0",
       "_model_name": "HTMLModel",
       "_view_count": null,
       "_view_module": "@jupyter-widgets/controls",
       "_view_module_version": "1.5.0",
       "_view_name": "HTMLView",
       "description": "",
       "description_tooltip": null,
       "layout": "IPY_MODEL_095f28c8081443ce9d886dc704fd4bdd",
       "placeholder": "​",
       "style": "IPY_MODEL_7c06c9188eac438488bb4805198ec9a5",
       "value": "Downloading model.safetensors: 100%"
      }
     },
     "7c06c9188eac438488bb4805198ec9a5": {
      "model_module": "@jupyter-widgets/controls",
      "model_module_version": "1.5.0",
      "model_name": "DescriptionStyleModel",
      "state": {
       "_model_module": "@jupyter-widgets/controls",
       "_model_module_version": "1.5.0",
       "_model_name": "DescriptionStyleModel",
       "_view_count": null,
       "_view_module": "@jupyter-widgets/base",
       "_view_module_version": "1.2.0",
       "_view_name": "StyleView",
       "description_width": ""
      }
     },
     "84f7b22dbe384cfea6eef0010a78807b": {
      "model_module": "@jupyter-widgets/controls",
      "model_module_version": "1.5.0",
      "model_name": "HTMLModel",
      "state": {
       "_dom_classes": [],
       "_model_module": "@jupyter-widgets/controls",
       "_model_module_version": "1.5.0",
       "_model_name": "HTMLModel",
       "_view_count": null,
       "_view_module": "@jupyter-widgets/controls",
       "_view_module_version": "1.5.0",
       "_view_name": "HTMLView",
       "description": "",
       "description_tooltip": null,
       "layout": "IPY_MODEL_32fe505e643748068977378097280b9b",
       "placeholder": "​",
       "style": "IPY_MODEL_724be20503dc447182e0f5c0fb51b8a1",
       "value": " 232k/232k [00:00&lt;00:00, 3.91MB/s]"
      }
     },
     "88266d46daf242e1b756e3a782557653": {
      "model_module": "@jupyter-widgets/controls",
      "model_module_version": "1.5.0",
      "model_name": "HBoxModel",
      "state": {
       "_dom_classes": [],
       "_model_module": "@jupyter-widgets/controls",
       "_model_module_version": "1.5.0",
       "_model_name": "HBoxModel",
       "_view_count": null,
       "_view_module": "@jupyter-widgets/controls",
       "_view_module_version": "1.5.0",
       "_view_name": "HBoxView",
       "box_style": "",
       "children": [
        "IPY_MODEL_7bd41bd64a5c40d6af3a04f6be7d6aa5",
        "IPY_MODEL_5bd388fc30ad4ad5a800900c32e118a6",
        "IPY_MODEL_208bbeb312324181980fd5f8fd25fabe"
       ],
       "layout": "IPY_MODEL_50c67d86ef8c4032b6079676942cdac5"
      }
     },
     "89c23fb8ad684565b4db60fafcb70be4": {
      "model_module": "@jupyter-widgets/controls",
      "model_module_version": "1.5.0",
      "model_name": "DescriptionStyleModel",
      "state": {
       "_model_module": "@jupyter-widgets/controls",
       "_model_module_version": "1.5.0",
       "_model_name": "DescriptionStyleModel",
       "_view_count": null,
       "_view_module": "@jupyter-widgets/base",
       "_view_module_version": "1.2.0",
       "_view_name": "StyleView",
       "description_width": ""
      }
     },
     "9e83ed5b576e483894aaee2d75a6a2ae": {
      "model_module": "@jupyter-widgets/controls",
      "model_module_version": "1.5.0",
      "model_name": "HBoxModel",
      "state": {
       "_dom_classes": [],
       "_model_module": "@jupyter-widgets/controls",
       "_model_module_version": "1.5.0",
       "_model_name": "HBoxModel",
       "_view_count": null,
       "_view_module": "@jupyter-widgets/controls",
       "_view_module_version": "1.5.0",
       "_view_name": "HBoxView",
       "box_style": "",
       "children": [
        "IPY_MODEL_c7a6fde193c84b47947528726c3d283b",
        "IPY_MODEL_16f0154cfeba451184d92a8fd12080fe",
        "IPY_MODEL_2d085487d0b14c88b3ecde0e86c5b035"
       ],
       "layout": "IPY_MODEL_21b0a00b939943cd8b7a062ed915cec6"
      }
     },
     "a6242553b2ff48619f3407aaa7e5d819": {
      "model_module": "@jupyter-widgets/base",
      "model_module_version": "1.2.0",
      "model_name": "LayoutModel",
      "state": {
       "_model_module": "@jupyter-widgets/base",
       "_model_module_version": "1.2.0",
       "_model_name": "LayoutModel",
       "_view_count": null,
       "_view_module": "@jupyter-widgets/base",
       "_view_module_version": "1.2.0",
       "_view_name": "LayoutView",
       "align_content": null,
       "align_items": null,
       "align_self": null,
       "border": null,
       "bottom": null,
       "display": null,
       "flex": null,
       "flex_flow": null,
       "grid_area": null,
       "grid_auto_columns": null,
       "grid_auto_flow": null,
       "grid_auto_rows": null,
       "grid_column": null,
       "grid_gap": null,
       "grid_row": null,
       "grid_template_areas": null,
       "grid_template_columns": null,
       "grid_template_rows": null,
       "height": null,
       "justify_content": null,
       "justify_items": null,
       "left": null,
       "margin": null,
       "max_height": null,
       "max_width": null,
       "min_height": null,
       "min_width": null,
       "object_fit": null,
       "object_position": null,
       "order": null,
       "overflow": null,
       "overflow_x": null,
       "overflow_y": null,
       "padding": null,
       "right": null,
       "top": null,
       "visibility": null,
       "width": null
      }
     },
     "b19ded51023a4b9ab8eb3ee03548fe8a": {
      "model_module": "@jupyter-widgets/base",
      "model_module_version": "1.2.0",
      "model_name": "LayoutModel",
      "state": {
       "_model_module": "@jupyter-widgets/base",
       "_model_module_version": "1.2.0",
       "_model_name": "LayoutModel",
       "_view_count": null,
       "_view_module": "@jupyter-widgets/base",
       "_view_module_version": "1.2.0",
       "_view_name": "LayoutView",
       "align_content": null,
       "align_items": null,
       "align_self": null,
       "border": null,
       "bottom": null,
       "display": null,
       "flex": null,
       "flex_flow": null,
       "grid_area": null,
       "grid_auto_columns": null,
       "grid_auto_flow": null,
       "grid_auto_rows": null,
       "grid_column": null,
       "grid_gap": null,
       "grid_row": null,
       "grid_template_areas": null,
       "grid_template_columns": null,
       "grid_template_rows": null,
       "height": null,
       "justify_content": null,
       "justify_items": null,
       "left": null,
       "margin": null,
       "max_height": null,
       "max_width": null,
       "min_height": null,
       "min_width": null,
       "object_fit": null,
       "object_position": null,
       "order": null,
       "overflow": null,
       "overflow_x": null,
       "overflow_y": null,
       "padding": null,
       "right": null,
       "top": null,
       "visibility": null,
       "width": null
      }
     },
     "b72d2c5b3b764972be9463b2bb68423b": {
      "model_module": "@jupyter-widgets/controls",
      "model_module_version": "1.5.0",
      "model_name": "ProgressStyleModel",
      "state": {
       "_model_module": "@jupyter-widgets/controls",
       "_model_module_version": "1.5.0",
       "_model_name": "ProgressStyleModel",
       "_view_count": null,
       "_view_module": "@jupyter-widgets/base",
       "_view_module_version": "1.2.0",
       "_view_name": "StyleView",
       "bar_color": null,
       "description_width": ""
      }
     },
     "bf8ab1a992164d34985a90e3a36f2759": {
      "model_module": "@jupyter-widgets/controls",
      "model_module_version": "1.5.0",
      "model_name": "FloatProgressModel",
      "state": {
       "_dom_classes": [],
       "_model_module": "@jupyter-widgets/controls",
       "_model_module_version": "1.5.0",
       "_model_name": "FloatProgressModel",
       "_view_count": null,
       "_view_module": "@jupyter-widgets/controls",
       "_view_module_version": "1.5.0",
       "_view_name": "ProgressView",
       "bar_style": "success",
       "description": "",
       "description_tooltip": null,
       "layout": "IPY_MODEL_ef0c7c3835d64f8cbadfc40bac7ad439",
       "max": 231508.0,
       "min": 0.0,
       "orientation": "horizontal",
       "style": "IPY_MODEL_fe15cf17291b4629b6deebe1615b7336",
       "value": 231508.0
      }
     },
     "c0dad67438a74ebbbed9dc875fff0381": {
      "model_module": "@jupyter-widgets/controls",
      "model_module_version": "1.5.0",
      "model_name": "HBoxModel",
      "state": {
       "_dom_classes": [],
       "_model_module": "@jupyter-widgets/controls",
       "_model_module_version": "1.5.0",
       "_model_name": "HBoxModel",
       "_view_count": null,
       "_view_module": "@jupyter-widgets/controls",
       "_view_module_version": "1.5.0",
       "_view_name": "HBoxView",
       "box_style": "",
       "children": [
        "IPY_MODEL_56e69ff3640b488ca390e1662f6ed29c",
        "IPY_MODEL_bf8ab1a992164d34985a90e3a36f2759",
        "IPY_MODEL_84f7b22dbe384cfea6eef0010a78807b"
       ],
       "layout": "IPY_MODEL_d58dc56ee5cd4b4d92d4c8c2923069d1"
      }
     },
     "c25d8726edb741c193e79a10b0cc41c7": {
      "model_module": "@jupyter-widgets/base",
      "model_module_version": "1.2.0",
      "model_name": "LayoutModel",
      "state": {
       "_model_module": "@jupyter-widgets/base",
       "_model_module_version": "1.2.0",
       "_model_name": "LayoutModel",
       "_view_count": null,
       "_view_module": "@jupyter-widgets/base",
       "_view_module_version": "1.2.0",
       "_view_name": "LayoutView",
       "align_content": null,
       "align_items": null,
       "align_self": null,
       "border": null,
       "bottom": null,
       "display": null,
       "flex": null,
       "flex_flow": null,
       "grid_area": null,
       "grid_auto_columns": null,
       "grid_auto_flow": null,
       "grid_auto_rows": null,
       "grid_column": null,
       "grid_gap": null,
       "grid_row": null,
       "grid_template_areas": null,
       "grid_template_columns": null,
       "grid_template_rows": null,
       "height": null,
       "justify_content": null,
       "justify_items": null,
       "left": null,
       "margin": null,
       "max_height": null,
       "max_width": null,
       "min_height": null,
       "min_width": null,
       "object_fit": null,
       "object_position": null,
       "order": null,
       "overflow": null,
       "overflow_x": null,
       "overflow_y": null,
       "padding": null,
       "right": null,
       "top": null,
       "visibility": null,
       "width": null
      }
     },
     "c7a6fde193c84b47947528726c3d283b": {
      "model_module": "@jupyter-widgets/controls",
      "model_module_version": "1.5.0",
      "model_name": "HTMLModel",
      "state": {
       "_dom_classes": [],
       "_model_module": "@jupyter-widgets/controls",
       "_model_module_version": "1.5.0",
       "_model_name": "HTMLModel",
       "_view_count": null,
       "_view_module": "@jupyter-widgets/controls",
       "_view_module_version": "1.5.0",
       "_view_name": "HTMLView",
       "description": "",
       "description_tooltip": null,
       "layout": "IPY_MODEL_25a114632a8f40fbb5a019cd0fb58674",
       "placeholder": "​",
       "style": "IPY_MODEL_13ec3db9a9174100b0f812f0ff894cc8",
       "value": "Downloading config.json: 100%"
      }
     },
     "cd42ffa202644fe6b1a5b8d6f96b3990": {
      "model_module": "@jupyter-widgets/base",
      "model_module_version": "1.2.0",
      "model_name": "LayoutModel",
      "state": {
       "_model_module": "@jupyter-widgets/base",
       "_model_module_version": "1.2.0",
       "_model_name": "LayoutModel",
       "_view_count": null,
       "_view_module": "@jupyter-widgets/base",
       "_view_module_version": "1.2.0",
       "_view_name": "LayoutView",
       "align_content": null,
       "align_items": null,
       "align_self": null,
       "border": null,
       "bottom": null,
       "display": null,
       "flex": null,
       "flex_flow": null,
       "grid_area": null,
       "grid_auto_columns": null,
       "grid_auto_flow": null,
       "grid_auto_rows": null,
       "grid_column": null,
       "grid_gap": null,
       "grid_row": null,
       "grid_template_areas": null,
       "grid_template_columns": null,
       "grid_template_rows": null,
       "height": null,
       "justify_content": null,
       "justify_items": null,
       "left": null,
       "margin": null,
       "max_height": null,
       "max_width": null,
       "min_height": null,
       "min_width": null,
       "object_fit": null,
       "object_position": null,
       "order": null,
       "overflow": null,
       "overflow_x": null,
       "overflow_y": null,
       "padding": null,
       "right": null,
       "top": null,
       "visibility": null,
       "width": null
      }
     },
     "d58dc56ee5cd4b4d92d4c8c2923069d1": {
      "model_module": "@jupyter-widgets/base",
      "model_module_version": "1.2.0",
      "model_name": "LayoutModel",
      "state": {
       "_model_module": "@jupyter-widgets/base",
       "_model_module_version": "1.2.0",
       "_model_name": "LayoutModel",
       "_view_count": null,
       "_view_module": "@jupyter-widgets/base",
       "_view_module_version": "1.2.0",
       "_view_name": "LayoutView",
       "align_content": null,
       "align_items": null,
       "align_self": null,
       "border": null,
       "bottom": null,
       "display": null,
       "flex": null,
       "flex_flow": null,
       "grid_area": null,
       "grid_auto_columns": null,
       "grid_auto_flow": null,
       "grid_auto_rows": null,
       "grid_column": null,
       "grid_gap": null,
       "grid_row": null,
       "grid_template_areas": null,
       "grid_template_columns": null,
       "grid_template_rows": null,
       "height": null,
       "justify_content": null,
       "justify_items": null,
       "left": null,
       "margin": null,
       "max_height": null,
       "max_width": null,
       "min_height": null,
       "min_width": null,
       "object_fit": null,
       "object_position": null,
       "order": null,
       "overflow": null,
       "overflow_x": null,
       "overflow_y": null,
       "padding": null,
       "right": null,
       "top": null,
       "visibility": null,
       "width": null
      }
     },
     "d8231bf1152145bb94e421bbbb5a6833": {
      "model_module": "@jupyter-widgets/controls",
      "model_module_version": "1.5.0",
      "model_name": "DescriptionStyleModel",
      "state": {
       "_model_module": "@jupyter-widgets/controls",
       "_model_module_version": "1.5.0",
       "_model_name": "DescriptionStyleModel",
       "_view_count": null,
       "_view_module": "@jupyter-widgets/base",
       "_view_module_version": "1.2.0",
       "_view_name": "StyleView",
       "description_width": ""
      }
     },
     "d9c8eae8f57c4131a029ac6db9c6798c": {
      "model_module": "@jupyter-widgets/base",
      "model_module_version": "1.2.0",
      "model_name": "LayoutModel",
      "state": {
       "_model_module": "@jupyter-widgets/base",
       "_model_module_version": "1.2.0",
       "_model_name": "LayoutModel",
       "_view_count": null,
       "_view_module": "@jupyter-widgets/base",
       "_view_module_version": "1.2.0",
       "_view_name": "LayoutView",
       "align_content": null,
       "align_items": null,
       "align_self": null,
       "border": null,
       "bottom": null,
       "display": null,
       "flex": null,
       "flex_flow": null,
       "grid_area": null,
       "grid_auto_columns": null,
       "grid_auto_flow": null,
       "grid_auto_rows": null,
       "grid_column": null,
       "grid_gap": null,
       "grid_row": null,
       "grid_template_areas": null,
       "grid_template_columns": null,
       "grid_template_rows": null,
       "height": null,
       "justify_content": null,
       "justify_items": null,
       "left": null,
       "margin": null,
       "max_height": null,
       "max_width": null,
       "min_height": null,
       "min_width": null,
       "object_fit": null,
       "object_position": null,
       "order": null,
       "overflow": null,
       "overflow_x": null,
       "overflow_y": null,
       "padding": null,
       "right": null,
       "top": null,
       "visibility": null,
       "width": null
      }
     },
     "ea2b632ce0074bd3a9ca115288679b3c": {
      "model_module": "@jupyter-widgets/controls",
      "model_module_version": "1.5.0",
      "model_name": "ProgressStyleModel",
      "state": {
       "_model_module": "@jupyter-widgets/controls",
       "_model_module_version": "1.5.0",
       "_model_name": "ProgressStyleModel",
       "_view_count": null,
       "_view_module": "@jupyter-widgets/base",
       "_view_module_version": "1.2.0",
       "_view_name": "StyleView",
       "bar_color": null,
       "description_width": ""
      }
     },
     "ef0c7c3835d64f8cbadfc40bac7ad439": {
      "model_module": "@jupyter-widgets/base",
      "model_module_version": "1.2.0",
      "model_name": "LayoutModel",
      "state": {
       "_model_module": "@jupyter-widgets/base",
       "_model_module_version": "1.2.0",
       "_model_name": "LayoutModel",
       "_view_count": null,
       "_view_module": "@jupyter-widgets/base",
       "_view_module_version": "1.2.0",
       "_view_name": "LayoutView",
       "align_content": null,
       "align_items": null,
       "align_self": null,
       "border": null,
       "bottom": null,
       "display": null,
       "flex": null,
       "flex_flow": null,
       "grid_area": null,
       "grid_auto_columns": null,
       "grid_auto_flow": null,
       "grid_auto_rows": null,
       "grid_column": null,
       "grid_gap": null,
       "grid_row": null,
       "grid_template_areas": null,
       "grid_template_columns": null,
       "grid_template_rows": null,
       "height": null,
       "justify_content": null,
       "justify_items": null,
       "left": null,
       "margin": null,
       "max_height": null,
       "max_width": null,
       "min_height": null,
       "min_width": null,
       "object_fit": null,
       "object_position": null,
       "order": null,
       "overflow": null,
       "overflow_x": null,
       "overflow_y": null,
       "padding": null,
       "right": null,
       "top": null,
       "visibility": null,
       "width": null
      }
     },
     "f1552e8b1e3a4ff09f1ffc723cb812cc": {
      "model_module": "@jupyter-widgets/controls",
      "model_module_version": "1.5.0",
      "model_name": "HTMLModel",
      "state": {
       "_dom_classes": [],
       "_model_module": "@jupyter-widgets/controls",
       "_model_module_version": "1.5.0",
       "_model_name": "HTMLModel",
       "_view_count": null,
       "_view_module": "@jupyter-widgets/controls",
       "_view_module_version": "1.5.0",
       "_view_name": "HTMLView",
       "description": "",
       "description_tooltip": null,
       "layout": "IPY_MODEL_4316bf6bcd6b4fd9a79eb6c19453759d",
       "placeholder": "​",
       "style": "IPY_MODEL_3e3b6cc4ccea45a98dadf1b3d08e6aa9",
       "value": "100%"
      }
     },
     "f8ddd689f1bd468da46758a9c2e12927": {
      "model_module": "@jupyter-widgets/base",
      "model_module_version": "1.2.0",
      "model_name": "LayoutModel",
      "state": {
       "_model_module": "@jupyter-widgets/base",
       "_model_module_version": "1.2.0",
       "_model_name": "LayoutModel",
       "_view_count": null,
       "_view_module": "@jupyter-widgets/base",
       "_view_module_version": "1.2.0",
       "_view_name": "LayoutView",
       "align_content": null,
       "align_items": null,
       "align_self": null,
       "border": null,
       "bottom": null,
       "display": null,
       "flex": null,
       "flex_flow": null,
       "grid_area": null,
       "grid_auto_columns": null,
       "grid_auto_flow": null,
       "grid_auto_rows": null,
       "grid_column": null,
       "grid_gap": null,
       "grid_row": null,
       "grid_template_areas": null,
       "grid_template_columns": null,
       "grid_template_rows": null,
       "height": null,
       "justify_content": null,
       "justify_items": null,
       "left": null,
       "margin": null,
       "max_height": null,
       "max_width": null,
       "min_height": null,
       "min_width": null,
       "object_fit": null,
       "object_position": null,
       "order": null,
       "overflow": null,
       "overflow_x": null,
       "overflow_y": null,
       "padding": null,
       "right": null,
       "top": null,
       "visibility": null,
       "width": null
      }
     },
     "f97b80c62b8b4245aa6e25697959a957": {
      "model_module": "@jupyter-widgets/controls",
      "model_module_version": "1.5.0",
      "model_name": "DescriptionStyleModel",
      "state": {
       "_model_module": "@jupyter-widgets/controls",
       "_model_module_version": "1.5.0",
       "_model_name": "DescriptionStyleModel",
       "_view_count": null,
       "_view_module": "@jupyter-widgets/base",
       "_view_module_version": "1.2.0",
       "_view_name": "StyleView",
       "description_width": ""
      }
     },
     "fbc571c05c2f4f6ea302591f1fe0fee6": {
      "model_module": "@jupyter-widgets/base",
      "model_module_version": "1.2.0",
      "model_name": "LayoutModel",
      "state": {
       "_model_module": "@jupyter-widgets/base",
       "_model_module_version": "1.2.0",
       "_model_name": "LayoutModel",
       "_view_count": null,
       "_view_module": "@jupyter-widgets/base",
       "_view_module_version": "1.2.0",
       "_view_name": "LayoutView",
       "align_content": null,
       "align_items": null,
       "align_self": null,
       "border": null,
       "bottom": null,
       "display": null,
       "flex": null,
       "flex_flow": null,
       "grid_area": null,
       "grid_auto_columns": null,
       "grid_auto_flow": null,
       "grid_auto_rows": null,
       "grid_column": null,
       "grid_gap": null,
       "grid_row": null,
       "grid_template_areas": null,
       "grid_template_columns": null,
       "grid_template_rows": null,
       "height": null,
       "justify_content": null,
       "justify_items": null,
       "left": null,
       "margin": null,
       "max_height": null,
       "max_width": null,
       "min_height": null,
       "min_width": null,
       "object_fit": null,
       "object_position": null,
       "order": null,
       "overflow": null,
       "overflow_x": null,
       "overflow_y": null,
       "padding": null,
       "right": null,
       "top": null,
       "visibility": null,
       "width": null
      }
     },
     "fe15cf17291b4629b6deebe1615b7336": {
      "model_module": "@jupyter-widgets/controls",
      "model_module_version": "1.5.0",
      "model_name": "ProgressStyleModel",
      "state": {
       "_model_module": "@jupyter-widgets/controls",
       "_model_module_version": "1.5.0",
       "_model_name": "ProgressStyleModel",
       "_view_count": null,
       "_view_module": "@jupyter-widgets/base",
       "_view_module_version": "1.2.0",
       "_view_name": "StyleView",
       "bar_color": null,
       "description_width": ""
      }
     }
    },
    "version_major": 2,
    "version_minor": 0
   }
  }
 },
 "nbformat": 4,
 "nbformat_minor": 5
}
